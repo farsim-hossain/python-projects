{
  "nbformat": 4,
  "nbformat_minor": 0,
  "metadata": {
    "colab": {
      "name": "Time Series Forecast With LSTM.ipynb",
      "provenance": [],
      "collapsed_sections": []
    },
    "kernelspec": {
      "name": "python3",
      "display_name": "Python 3"
    },
    "language_info": {
      "name": "python"
    }
  },
  "cells": [
    {
      "cell_type": "markdown",
      "metadata": {
        "id": "4tDEnoRbQtcL"
      },
      "source": [
        "# Time Series Forecasting With LSTM"
      ]
    },
    {
      "cell_type": "code",
      "metadata": {
        "id": "8VkuNblZQXUE"
      },
      "source": [
        "import numpy \n",
        "import matplotlib.pyplot as plt\n",
        "import pandas \n",
        "import math \n",
        "from keras.models import Sequential\n",
        "from keras.layers import Dense\n",
        "from keras.layers import LSTM \n",
        "from sklearn.preprocessing import MinMaxScaler\n",
        "from sklearn.metrics import mean_squared_error\n",
        "\n",
        "numpy.random.seed(7)"
      ],
      "execution_count": 1,
      "outputs": []
    },
    {
      "cell_type": "markdown",
      "metadata": {
        "id": "MtlkzXH0TPxS"
      },
      "source": [
        "## Loading the data \n",
        "\n",
        "We will use a airline passenger tracking dataset."
      ]
    },
    {
      "cell_type": "code",
      "metadata": {
        "colab": {
          "resources": {
            "http://localhost:8080/nbextensions/google.colab/files.js": {
              "data": "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",
              "ok": true,
              "headers": [
                [
                  "content-type",
                  "application/javascript"
                ]
              ],
              "status": 200,
              "status_text": ""
            }
          },
          "base_uri": "https://localhost:8080/",
          "height": 73
        },
        "id": "drU7DMwERgOG",
        "outputId": "5aa1d3ac-ed5a-4953-b10c-56653c5304ab"
      },
      "source": [
        "from google.colab import files \n",
        "data_to_load = files.upload()"
      ],
      "execution_count": 2,
      "outputs": [
        {
          "output_type": "display_data",
          "data": {
            "text/html": [
              "\n",
              "     <input type=\"file\" id=\"files-92e84a38-3e2f-4121-85a9-cad520ec8591\" name=\"files[]\" multiple disabled\n",
              "        style=\"border:none\" />\n",
              "     <output id=\"result-92e84a38-3e2f-4121-85a9-cad520ec8591\">\n",
              "      Upload widget is only available when the cell has been executed in the\n",
              "      current browser session. Please rerun this cell to enable.\n",
              "      </output>\n",
              "      <script src=\"/nbextensions/google.colab/files.js\"></script> "
            ],
            "text/plain": [
              "<IPython.core.display.HTML object>"
            ]
          },
          "metadata": {
            "tags": []
          }
        },
        {
          "output_type": "stream",
          "text": [
            "Saving airline-passengers.csv to airline-passengers (1).csv\n"
          ],
          "name": "stdout"
        }
      ]
    },
    {
      "cell_type": "code",
      "metadata": {
        "colab": {
          "base_uri": "https://localhost:8080/",
          "height": 195
        },
        "id": "CJNWL9NIT6mo",
        "outputId": "54fc2a46-2058-4ab4-f0b8-a4f32dbe8c1f"
      },
      "source": [
        "dataframe = pandas.read_csv('airline-passengers.csv', usecols=[1], engine='python')\n",
        "dataframe.head()"
      ],
      "execution_count": 3,
      "outputs": [
        {
          "output_type": "execute_result",
          "data": {
            "text/html": [
              "<div>\n",
              "<style scoped>\n",
              "    .dataframe tbody tr th:only-of-type {\n",
              "        vertical-align: middle;\n",
              "    }\n",
              "\n",
              "    .dataframe tbody tr th {\n",
              "        vertical-align: top;\n",
              "    }\n",
              "\n",
              "    .dataframe thead th {\n",
              "        text-align: right;\n",
              "    }\n",
              "</style>\n",
              "<table border=\"1\" class=\"dataframe\">\n",
              "  <thead>\n",
              "    <tr style=\"text-align: right;\">\n",
              "      <th></th>\n",
              "      <th>Passengers</th>\n",
              "    </tr>\n",
              "  </thead>\n",
              "  <tbody>\n",
              "    <tr>\n",
              "      <th>0</th>\n",
              "      <td>112</td>\n",
              "    </tr>\n",
              "    <tr>\n",
              "      <th>1</th>\n",
              "      <td>118</td>\n",
              "    </tr>\n",
              "    <tr>\n",
              "      <th>2</th>\n",
              "      <td>132</td>\n",
              "    </tr>\n",
              "    <tr>\n",
              "      <th>3</th>\n",
              "      <td>129</td>\n",
              "    </tr>\n",
              "    <tr>\n",
              "      <th>4</th>\n",
              "      <td>121</td>\n",
              "    </tr>\n",
              "  </tbody>\n",
              "</table>\n",
              "</div>"
            ],
            "text/plain": [
              "   Passengers\n",
              "0         112\n",
              "1         118\n",
              "2         132\n",
              "3         129\n",
              "4         121"
            ]
          },
          "metadata": {
            "tags": []
          },
          "execution_count": 3
        }
      ]
    },
    {
      "cell_type": "code",
      "metadata": {
        "id": "lAAx12DzT-PH"
      },
      "source": [
        "dataset = dataframe.values\n",
        "dataset = dataset.astype('float32')\n",
        "\n",
        "#normalize the data\n",
        "scaler = MinMaxScaler(feature_range=(0,1))\n",
        "\n",
        "dataset = scaler.fit_transform(dataset)"
      ],
      "execution_count": 4,
      "outputs": []
    },
    {
      "cell_type": "markdown",
      "metadata": {
        "id": "h6VQ1i8zUZd2"
      },
      "source": [
        "### Splitting the data into train and test set"
      ]
    },
    {
      "cell_type": "code",
      "metadata": {
        "colab": {
          "base_uri": "https://localhost:8080/"
        },
        "id": "xz0WrdDeUtcU",
        "outputId": "4e621fe8-357f-41b3-8363-7e67b10785dc"
      },
      "source": [
        "train_size = int(len(dataset)*0.67)\n",
        "test_size = len(dataset) - train_size\n",
        "train,test = dataset[0:train_size,:], dataset[train_size:len(dataset), :]\n",
        "print(len(train),len(test))"
      ],
      "execution_count": 6,
      "outputs": [
        {
          "output_type": "stream",
          "text": [
            "96 48\n"
          ],
          "name": "stdout"
        }
      ]
    },
    {
      "cell_type": "code",
      "metadata": {
        "colab": {
          "base_uri": "https://localhost:8080/"
        },
        "id": "3hqwQWo2W_v7",
        "outputId": "871efa5c-2776-4d60-972d-5d30db1d7d87"
      },
      "source": [
        "print(train)"
      ],
      "execution_count": 8,
      "outputs": [
        {
          "output_type": "stream",
          "text": [
            "[[0.01544401]\n",
            " [0.02702703]\n",
            " [0.05405405]\n",
            " [0.04826255]\n",
            " [0.03281853]\n",
            " [0.05984557]\n",
            " [0.08494207]\n",
            " [0.08494207]\n",
            " [0.06177607]\n",
            " [0.02895753]\n",
            " [0.        ]\n",
            " [0.02702703]\n",
            " [0.02123553]\n",
            " [0.04247104]\n",
            " [0.07142857]\n",
            " [0.05984557]\n",
            " [0.04054055]\n",
            " [0.08687258]\n",
            " [0.12741312]\n",
            " [0.12741312]\n",
            " [0.10424709]\n",
            " [0.05598456]\n",
            " [0.01930502]\n",
            " [0.06949806]\n",
            " [0.07915059]\n",
            " [0.08880308]\n",
            " [0.14285713]\n",
            " [0.11389962]\n",
            " [0.13127413]\n",
            " [0.14285713]\n",
            " [0.18339768]\n",
            " [0.18339768]\n",
            " [0.15444016]\n",
            " [0.11196911]\n",
            " [0.08108109]\n",
            " [0.1196911 ]\n",
            " [0.12934363]\n",
            " [0.14671814]\n",
            " [0.17181468]\n",
            " [0.14864865]\n",
            " [0.15250966]\n",
            " [0.22007722]\n",
            " [0.24324325]\n",
            " [0.26640925]\n",
            " [0.2027027 ]\n",
            " [0.16795367]\n",
            " [0.13127413]\n",
            " [0.17374519]\n",
            " [0.17760617]\n",
            " [0.17760617]\n",
            " [0.25482625]\n",
            " [0.25289574]\n",
            " [0.24131274]\n",
            " [0.26833975]\n",
            " [0.3088803 ]\n",
            " [0.32432434]\n",
            " [0.25675675]\n",
            " [0.20656371]\n",
            " [0.14671814]\n",
            " [0.18725869]\n",
            " [0.19305018]\n",
            " [0.16216215]\n",
            " [0.25289574]\n",
            " [0.23745173]\n",
            " [0.25096524]\n",
            " [0.3088803 ]\n",
            " [0.38223937]\n",
            " [0.36486486]\n",
            " [0.2992278 ]\n",
            " [0.24131274]\n",
            " [0.1911197 ]\n",
            " [0.24131274]\n",
            " [0.26640925]\n",
            " [0.24903473]\n",
            " [0.31467178]\n",
            " [0.3185328 ]\n",
            " [0.32046333]\n",
            " [0.4073359 ]\n",
            " [0.5019305 ]\n",
            " [0.46911195]\n",
            " [0.40154442]\n",
            " [0.32818535]\n",
            " [0.25675675]\n",
            " [0.3359073 ]\n",
            " [0.34749034]\n",
            " [0.33397684]\n",
            " [0.41119692]\n",
            " [0.4034749 ]\n",
            " [0.4131274 ]\n",
            " [0.52123547]\n",
            " [0.5965251 ]\n",
            " [0.58108103]\n",
            " [0.484556  ]\n",
            " [0.3899614 ]\n",
            " [0.3223938 ]\n",
            " [0.3899614 ]]\n"
          ],
          "name": "stdout"
        }
      ]
    },
    {
      "cell_type": "markdown",
      "metadata": {
        "id": "qpTZ4375WqhH"
      },
      "source": [
        "## Data Preprocessing\n",
        "\n",
        "We will make a helper function that will shape the data for modeliing."
      ]
    },
    {
      "cell_type": "code",
      "metadata": {
        "id": "S9gBU4S4XWPM"
      },
      "source": [
        "def create_dataset(dataset, look_back=1):\n",
        "  dataX, dataY = [],[]\n",
        "  for i in range(len(dataset)-look_back-1):\n",
        "    a = dataset[i:(i+look_back),0]\n",
        "    dataX.append(a)\n",
        "    dataY.append(dataset[i+look_back,0])\n",
        "  return numpy.array(dataX), numpy.array(dataY)\n",
        "\n",
        "#reshaping before aplyting LSTM , reshaping into X=t, Y = t+1\n",
        "\n",
        "look_back = 1\n",
        "trainX, trainY = create_dataset(train, look_back)\n",
        "testX, testY = create_dataset(test, look_back)\n",
        "\n"
      ],
      "execution_count": 9,
      "outputs": []
    },
    {
      "cell_type": "markdown",
      "metadata": {
        "id": "kxXkAwbVY0Hx"
      },
      "source": [
        "### Reshaping\n",
        "\n",
        "We have to reshape the input to be samples, time steps and features."
      ]
    },
    {
      "cell_type": "code",
      "metadata": {
        "id": "RThylXeVY-At"
      },
      "source": [
        "trainX = numpy.reshape(trainX, (trainX.shape[0],1,trainX.shape[1]))\n",
        "testX = numpy.reshape(testX, (testX.shape[0],1,testX.shape[1]))"
      ],
      "execution_count": 11,
      "outputs": []
    },
    {
      "cell_type": "code",
      "metadata": {
        "colab": {
          "base_uri": "https://localhost:8080/"
        },
        "id": "KbmF5_7_ZxiY",
        "outputId": "ebb98589-b1a0-4071-e382-cfd734fbc682"
      },
      "source": [
        "print(testX)"
      ],
      "execution_count": 13,
      "outputs": [
        {
          "output_type": "stream",
          "text": [
            "[[[0.4073359 ]]\n",
            "\n",
            " [[0.3803089 ]]\n",
            "\n",
            " [[0.48648646]]\n",
            "\n",
            " [[0.47104248]]\n",
            "\n",
            " [[0.484556  ]]\n",
            "\n",
            " [[0.6138996 ]]\n",
            "\n",
            " [[0.6969112 ]]\n",
            "\n",
            " [[0.70077217]]\n",
            "\n",
            " [[0.57915056]]\n",
            "\n",
            " [[0.46911195]]\n",
            "\n",
            " [[0.38803086]]\n",
            "\n",
            " [[0.44787642]]\n",
            "\n",
            " [[0.45559844]]\n",
            "\n",
            " [[0.4131274 ]]\n",
            "\n",
            " [[0.4980695 ]]\n",
            "\n",
            " [[0.47104248]]\n",
            "\n",
            " [[0.49999997]]\n",
            "\n",
            " [[0.6389961 ]]\n",
            "\n",
            " [[0.7471043 ]]\n",
            "\n",
            " [[0.7741313 ]]\n",
            "\n",
            " [[0.57915056]]\n",
            "\n",
            " [[0.492278  ]]\n",
            "\n",
            " [[0.3976834 ]]\n",
            "\n",
            " [[0.44980696]]\n",
            "\n",
            " [[0.49420848]]\n",
            "\n",
            " [[0.45945945]]\n",
            "\n",
            " [[0.5830116 ]]\n",
            "\n",
            " [[0.5637065 ]]\n",
            "\n",
            " [[0.61003864]]\n",
            "\n",
            " [[0.71042466]]\n",
            "\n",
            " [[0.8571429 ]]\n",
            "\n",
            " [[0.8783784 ]]\n",
            "\n",
            " [[0.69305015]]\n",
            "\n",
            " [[0.5849421 ]]\n",
            "\n",
            " [[0.4980695 ]]\n",
            "\n",
            " [[0.58108103]]\n",
            "\n",
            " [[0.6042471 ]]\n",
            "\n",
            " [[0.554054  ]]\n",
            "\n",
            " [[0.60810804]]\n",
            "\n",
            " [[0.6891892 ]]\n",
            "\n",
            " [[0.71042466]]\n",
            "\n",
            " [[0.8320464 ]]\n",
            "\n",
            " [[1.        ]]\n",
            "\n",
            " [[0.96911204]]\n",
            "\n",
            " [[0.7799227 ]]\n",
            "\n",
            " [[0.6891892 ]]]\n"
          ],
          "name": "stdout"
        }
      ]
    },
    {
      "cell_type": "markdown",
      "metadata": {
        "id": "pgFULixAaaaP"
      },
      "source": [
        "### LSTM Model"
      ]
    },
    {
      "cell_type": "code",
      "metadata": {
        "colab": {
          "base_uri": "https://localhost:8080/"
        },
        "id": "Oo6YHwwvadYU",
        "outputId": "37459bbd-9157-4657-9b10-9e3ce24f6a68"
      },
      "source": [
        "model = Sequential()\n",
        "model.add(LSTM(4, input_shape =(1,look_back)))\n",
        "model.add(Dense(1))\n",
        "model.compile(loss = 'mean_squared_error', optimizer = 'adam')\n",
        "model.fit(trainX, trainY, epochs = 100, batch_size = 1, verbose=2)"
      ],
      "execution_count": 14,
      "outputs": [
        {
          "output_type": "stream",
          "text": [
            "Epoch 1/100\n",
            "94/94 - 2s - loss: 0.0356\n",
            "Epoch 2/100\n",
            "94/94 - 0s - loss: 0.0161\n",
            "Epoch 3/100\n",
            "94/94 - 0s - loss: 0.0117\n",
            "Epoch 4/100\n",
            "94/94 - 0s - loss: 0.0106\n",
            "Epoch 5/100\n",
            "94/94 - 0s - loss: 0.0097\n",
            "Epoch 6/100\n",
            "94/94 - 0s - loss: 0.0087\n",
            "Epoch 7/100\n",
            "94/94 - 0s - loss: 0.0079\n",
            "Epoch 8/100\n",
            "94/94 - 0s - loss: 0.0071\n",
            "Epoch 9/100\n",
            "94/94 - 0s - loss: 0.0063\n",
            "Epoch 10/100\n",
            "94/94 - 0s - loss: 0.0056\n",
            "Epoch 11/100\n",
            "94/94 - 0s - loss: 0.0048\n",
            "Epoch 12/100\n",
            "94/94 - 0s - loss: 0.0043\n",
            "Epoch 13/100\n",
            "94/94 - 0s - loss: 0.0037\n",
            "Epoch 14/100\n",
            "94/94 - 0s - loss: 0.0032\n",
            "Epoch 15/100\n",
            "94/94 - 0s - loss: 0.0029\n",
            "Epoch 16/100\n",
            "94/94 - 0s - loss: 0.0026\n",
            "Epoch 17/100\n",
            "94/94 - 0s - loss: 0.0024\n",
            "Epoch 18/100\n",
            "94/94 - 0s - loss: 0.0023\n",
            "Epoch 19/100\n",
            "94/94 - 0s - loss: 0.0022\n",
            "Epoch 20/100\n",
            "94/94 - 0s - loss: 0.0022\n",
            "Epoch 21/100\n",
            "94/94 - 0s - loss: 0.0021\n",
            "Epoch 22/100\n",
            "94/94 - 0s - loss: 0.0020\n",
            "Epoch 23/100\n",
            "94/94 - 0s - loss: 0.0020\n",
            "Epoch 24/100\n",
            "94/94 - 0s - loss: 0.0021\n",
            "Epoch 25/100\n",
            "94/94 - 0s - loss: 0.0021\n",
            "Epoch 26/100\n",
            "94/94 - 0s - loss: 0.0020\n",
            "Epoch 27/100\n",
            "94/94 - 0s - loss: 0.0020\n",
            "Epoch 28/100\n",
            "94/94 - 0s - loss: 0.0021\n",
            "Epoch 29/100\n",
            "94/94 - 0s - loss: 0.0020\n",
            "Epoch 30/100\n",
            "94/94 - 0s - loss: 0.0020\n",
            "Epoch 31/100\n",
            "94/94 - 0s - loss: 0.0020\n",
            "Epoch 32/100\n",
            "94/94 - 0s - loss: 0.0020\n",
            "Epoch 33/100\n",
            "94/94 - 0s - loss: 0.0021\n",
            "Epoch 34/100\n",
            "94/94 - 0s - loss: 0.0021\n",
            "Epoch 35/100\n",
            "94/94 - 0s - loss: 0.0021\n",
            "Epoch 36/100\n",
            "94/94 - 0s - loss: 0.0020\n",
            "Epoch 37/100\n",
            "94/94 - 0s - loss: 0.0020\n",
            "Epoch 38/100\n",
            "94/94 - 0s - loss: 0.0020\n",
            "Epoch 39/100\n",
            "94/94 - 0s - loss: 0.0020\n",
            "Epoch 40/100\n",
            "94/94 - 0s - loss: 0.0021\n",
            "Epoch 41/100\n",
            "94/94 - 0s - loss: 0.0020\n",
            "Epoch 42/100\n",
            "94/94 - 0s - loss: 0.0020\n",
            "Epoch 43/100\n",
            "94/94 - 0s - loss: 0.0020\n",
            "Epoch 44/100\n",
            "94/94 - 0s - loss: 0.0020\n",
            "Epoch 45/100\n",
            "94/94 - 0s - loss: 0.0020\n",
            "Epoch 46/100\n",
            "94/94 - 0s - loss: 0.0020\n",
            "Epoch 47/100\n",
            "94/94 - 0s - loss: 0.0020\n",
            "Epoch 48/100\n",
            "94/94 - 0s - loss: 0.0021\n",
            "Epoch 49/100\n",
            "94/94 - 0s - loss: 0.0020\n",
            "Epoch 50/100\n",
            "94/94 - 0s - loss: 0.0020\n",
            "Epoch 51/100\n",
            "94/94 - 0s - loss: 0.0020\n",
            "Epoch 52/100\n",
            "94/94 - 0s - loss: 0.0020\n",
            "Epoch 53/100\n",
            "94/94 - 0s - loss: 0.0020\n",
            "Epoch 54/100\n",
            "94/94 - 0s - loss: 0.0020\n",
            "Epoch 55/100\n",
            "94/94 - 0s - loss: 0.0020\n",
            "Epoch 56/100\n",
            "94/94 - 0s - loss: 0.0020\n",
            "Epoch 57/100\n",
            "94/94 - 0s - loss: 0.0021\n",
            "Epoch 58/100\n",
            "94/94 - 0s - loss: 0.0020\n",
            "Epoch 59/100\n",
            "94/94 - 0s - loss: 0.0020\n",
            "Epoch 60/100\n",
            "94/94 - 0s - loss: 0.0020\n",
            "Epoch 61/100\n",
            "94/94 - 0s - loss: 0.0020\n",
            "Epoch 62/100\n",
            "94/94 - 0s - loss: 0.0020\n",
            "Epoch 63/100\n",
            "94/94 - 0s - loss: 0.0020\n",
            "Epoch 64/100\n",
            "94/94 - 0s - loss: 0.0020\n",
            "Epoch 65/100\n",
            "94/94 - 0s - loss: 0.0020\n",
            "Epoch 66/100\n",
            "94/94 - 0s - loss: 0.0020\n",
            "Epoch 67/100\n",
            "94/94 - 0s - loss: 0.0021\n",
            "Epoch 68/100\n",
            "94/94 - 0s - loss: 0.0020\n",
            "Epoch 69/100\n",
            "94/94 - 0s - loss: 0.0020\n",
            "Epoch 70/100\n",
            "94/94 - 0s - loss: 0.0020\n",
            "Epoch 71/100\n",
            "94/94 - 0s - loss: 0.0020\n",
            "Epoch 72/100\n",
            "94/94 - 0s - loss: 0.0020\n",
            "Epoch 73/100\n",
            "94/94 - 0s - loss: 0.0019\n",
            "Epoch 74/100\n",
            "94/94 - 0s - loss: 0.0020\n",
            "Epoch 75/100\n",
            "94/94 - 0s - loss: 0.0020\n",
            "Epoch 76/100\n",
            "94/94 - 0s - loss: 0.0020\n",
            "Epoch 77/100\n",
            "94/94 - 0s - loss: 0.0020\n",
            "Epoch 78/100\n",
            "94/94 - 0s - loss: 0.0020\n",
            "Epoch 79/100\n",
            "94/94 - 0s - loss: 0.0021\n",
            "Epoch 80/100\n",
            "94/94 - 0s - loss: 0.0020\n",
            "Epoch 81/100\n",
            "94/94 - 0s - loss: 0.0020\n",
            "Epoch 82/100\n",
            "94/94 - 0s - loss: 0.0020\n",
            "Epoch 83/100\n",
            "94/94 - 0s - loss: 0.0020\n",
            "Epoch 84/100\n",
            "94/94 - 0s - loss: 0.0020\n",
            "Epoch 85/100\n",
            "94/94 - 0s - loss: 0.0020\n",
            "Epoch 86/100\n",
            "94/94 - 0s - loss: 0.0020\n",
            "Epoch 87/100\n",
            "94/94 - 0s - loss: 0.0020\n",
            "Epoch 88/100\n",
            "94/94 - 0s - loss: 0.0020\n",
            "Epoch 89/100\n",
            "94/94 - 0s - loss: 0.0020\n",
            "Epoch 90/100\n",
            "94/94 - 0s - loss: 0.0020\n",
            "Epoch 91/100\n",
            "94/94 - 0s - loss: 0.0020\n",
            "Epoch 92/100\n",
            "94/94 - 0s - loss: 0.0020\n",
            "Epoch 93/100\n",
            "94/94 - 0s - loss: 0.0020\n",
            "Epoch 94/100\n",
            "94/94 - 0s - loss: 0.0020\n",
            "Epoch 95/100\n",
            "94/94 - 0s - loss: 0.0020\n",
            "Epoch 96/100\n",
            "94/94 - 0s - loss: 0.0020\n",
            "Epoch 97/100\n",
            "94/94 - 0s - loss: 0.0020\n",
            "Epoch 98/100\n",
            "94/94 - 0s - loss: 0.0020\n",
            "Epoch 99/100\n",
            "94/94 - 0s - loss: 0.0020\n",
            "Epoch 100/100\n",
            "94/94 - 0s - loss: 0.0020\n"
          ],
          "name": "stdout"
        },
        {
          "output_type": "execute_result",
          "data": {
            "text/plain": [
              "<tensorflow.python.keras.callbacks.History at 0x7fe2e8c0c2d0>"
            ]
          },
          "metadata": {
            "tags": []
          },
          "execution_count": 14
        }
      ]
    },
    {
      "cell_type": "markdown",
      "metadata": {
        "id": "AGg0uoJ0bYrK"
      },
      "source": [
        "##Prediction TIme\n",
        "\n",
        "Finally we will predict the data with our model and visualize it."
      ]
    },
    {
      "cell_type": "code",
      "metadata": {
        "id": "m3C7xh2vbjga"
      },
      "source": [
        "trainPredict = model.predict(trainX)\n",
        "testPredict = model.predict(testX)\n",
        "\n",
        "# invert predictions\n",
        "trainPredict = scaler.inverse_transform(trainPredict) #inverse_transform converts the data into original form = without scaling \n",
        "trainY = scaler.inverse_transform([trainY])\n",
        "testPredict = scaler.inverse_transform(testPredict)\n",
        "testY = scaler.inverse_transform([testY])\n",
        "\n"
      ],
      "execution_count": 15,
      "outputs": []
    },
    {
      "cell_type": "code",
      "metadata": {
        "colab": {
          "base_uri": "https://localhost:8080/"
        },
        "id": "XdbYTebBdylQ",
        "outputId": "8d16fad2-5a8f-4f95-e433-403dc698a40c"
      },
      "source": [
        "print(trainY[0])"
      ],
      "execution_count": 19,
      "outputs": [
        {
          "output_type": "stream",
          "text": [
            "[117.99999916 131.99999879 129.00000163 120.99999632 135.00000368\n",
            " 147.99999397 147.99999397 136.00000531 119.00000078 103.99999952\n",
            " 117.99999916 115.00000199 125.99999674 140.99999801 135.00000368\n",
            " 125.00000283 148.9999956  169.99999891 169.99999891 157.99999481\n",
            " 133.00000042 114.00000036 139.99999638 145.00000452 149.99999723\n",
            " 177.9999965  163.00000295 172.00000217 177.9999965  198.99999982\n",
            " 198.99999982 184.00000627 162.00000133 146.00000615 165.9999924\n",
            " 171.00000054 179.99999976 193.00000549 181.00000139 183.00000464\n",
            " 217.99999988 230.00000398 241.99999264 209.00000066 191.00000223\n",
            " 172.00000217 194.00000712 195.99999493 195.99999493 235.99999831\n",
            " 234.99999668 229.00000235 242.99999427 263.99999759 272.00001061\n",
            " 236.99999994 211.00000392 179.99999976 201.00000308 203.99999252\n",
            " 187.99999735 234.99999668 226.9999991  233.99999506 263.99999759\n",
            " 301.99999771 292.99999849 259.00000488 229.00000235 203.00000633\n",
            " 229.00000235 241.99999264 232.99999343 266.99998703 268.99999029\n",
            " 270.00000736 315.00000344 363.99999059 346.99999379 312.00001399\n",
            " 274.00001387 236.99999994 277.99998951 283.99999928 277.00000332\n",
            " 317.00000669 313.00000018 317.99999288 373.999976   412.99999319\n",
            " 404.99998016 355.00000681 306.00000422 270.99999355]\n"
          ],
          "name": "stdout"
        }
      ]
    },
    {
      "cell_type": "code",
      "metadata": {
        "colab": {
          "base_uri": "https://localhost:8080/"
        },
        "id": "8VNrbMHNd9gq",
        "outputId": "a21180f3-1387-4343-c73e-bca3e51cc9eb"
      },
      "source": [
        "print(trainPredict[:,0])"
      ],
      "execution_count": 21,
      "outputs": [
        {
          "output_type": "stream",
          "text": [
            "[122.886894 128.07146  140.36282  137.70694  130.68289  143.03026\n",
            " 154.71616  154.71616  143.9219   128.94054  116.05638  128.07146\n",
            " 125.47272  135.06284  148.39868  143.03026  134.18414  155.62323\n",
            " 174.91472  174.91472  163.83607  141.25069  124.60932  147.5009\n",
            " 152.0017   156.53143  182.37396  168.43521  176.77432  182.37396\n",
            " 202.19077  202.19077  188.00319  167.5134   152.90538  171.20648\n",
            " 175.84406  184.2472   196.49753  185.18501  187.06303  220.35124\n",
            " 231.90022  243.48903  211.72646  194.60498  176.77432  197.4448\n",
            " 199.34128  199.34128  237.69073  236.72507  230.93602  244.45602\n",
            " 264.7807   272.52124  238.65666  213.63988  184.2472   204.09343\n",
            " 206.95175  191.77132  236.72507  229.00854  235.75958  264.7807\n",
            " 301.43307  292.78674  259.9406   230.93602  205.99844  230.93602\n",
            " 243.48903  234.79437  267.68414  269.61932  270.58676  313.86377\n",
            " 359.82855  344.06897  311.00204  274.45523  238.65666  278.32117\n",
            " 284.11423  277.35495  315.76907  311.95645  316.72095  368.9896\n",
            " 403.83978  396.8124   351.5131   305.2659  ]\n"
          ],
          "name": "stdout"
        }
      ]
    },
    {
      "cell_type": "code",
      "metadata": {
        "colab": {
          "base_uri": "https://localhost:8080/"
        },
        "id": "7ugHBoApedX-",
        "outputId": "a39cdacc-91eb-4b50-e15d-3f2f3fb0d495"
      },
      "source": [
        "#calculate rmse\n",
        "\n",
        "trainScore = math.sqrt(mean_squared_error(trainY[0], trainPredict[:,0]))\n",
        "testScore = math.sqrt(mean_squared_error(testY[0], testPredict[:,0]))\n",
        "\n",
        "print(trainScore,testScore)\n"
      ],
      "execution_count": 22,
      "outputs": [
        {
          "output_type": "stream",
          "text": [
            "22.79703177487341 48.056470328729986\n"
          ],
          "name": "stdout"
        }
      ]
    },
    {
      "cell_type": "markdown",
      "metadata": {
        "id": "e435ErF3fMsb"
      },
      "source": [
        "### Plotting the predictions"
      ]
    },
    {
      "cell_type": "code",
      "metadata": {
        "id": "egmN_F9dfQCp"
      },
      "source": [
        "trainPredictPlot = numpy.empty_like(dataset) # creating a same dataset like array \n",
        "trainPredictPlot[:,:] = numpy.nan # filling out with zeroes\n",
        "\n",
        "trainPredictPlot[look_back:len(trainPredict)+look_back,:] = trainPredict\n",
        "\n",
        "\n",
        "#shifting the test predictions for plotting \n",
        "\n",
        "testPredictPlot = numpy.empty_like(dataset)\n",
        "testPredictPlot[:,:] = numpy.nan\n",
        "testPredictPlot[len(trainPredict)+(look_back*2)+1:len(dataset)-1,:] = testPredict\n",
        "\n",
        "\n"
      ],
      "execution_count": 23,
      "outputs": []
    },
    {
      "cell_type": "markdown",
      "metadata": {
        "id": "TOAM-5IlS3Hg"
      },
      "source": [
        "# New Section"
      ]
    },
    {
      "cell_type": "markdown",
      "metadata": {
        "id": "awmlrzL5hVP5"
      },
      "source": [
        "### Just cheking "
      ]
    },
    {
      "cell_type": "code",
      "metadata": {
        "colab": {
          "base_uri": "https://localhost:8080/"
        },
        "id": "lE2l30R7hXF_",
        "outputId": "edb1e2fb-82a9-4354-ece0-bcea0ea1b341"
      },
      "source": [
        "trainPredict"
      ],
      "execution_count": 24,
      "outputs": [
        {
          "output_type": "execute_result",
          "data": {
            "text/plain": [
              "array([[122.886894],\n",
              "       [128.07146 ],\n",
              "       [140.36282 ],\n",
              "       [137.70694 ],\n",
              "       [130.68289 ],\n",
              "       [143.03026 ],\n",
              "       [154.71616 ],\n",
              "       [154.71616 ],\n",
              "       [143.9219  ],\n",
              "       [128.94054 ],\n",
              "       [116.05638 ],\n",
              "       [128.07146 ],\n",
              "       [125.47272 ],\n",
              "       [135.06284 ],\n",
              "       [148.39868 ],\n",
              "       [143.03026 ],\n",
              "       [134.18414 ],\n",
              "       [155.62323 ],\n",
              "       [174.91472 ],\n",
              "       [174.91472 ],\n",
              "       [163.83607 ],\n",
              "       [141.25069 ],\n",
              "       [124.60932 ],\n",
              "       [147.5009  ],\n",
              "       [152.0017  ],\n",
              "       [156.53143 ],\n",
              "       [182.37396 ],\n",
              "       [168.43521 ],\n",
              "       [176.77432 ],\n",
              "       [182.37396 ],\n",
              "       [202.19077 ],\n",
              "       [202.19077 ],\n",
              "       [188.00319 ],\n",
              "       [167.5134  ],\n",
              "       [152.90538 ],\n",
              "       [171.20648 ],\n",
              "       [175.84406 ],\n",
              "       [184.2472  ],\n",
              "       [196.49753 ],\n",
              "       [185.18501 ],\n",
              "       [187.06303 ],\n",
              "       [220.35124 ],\n",
              "       [231.90022 ],\n",
              "       [243.48903 ],\n",
              "       [211.72646 ],\n",
              "       [194.60498 ],\n",
              "       [176.77432 ],\n",
              "       [197.4448  ],\n",
              "       [199.34128 ],\n",
              "       [199.34128 ],\n",
              "       [237.69073 ],\n",
              "       [236.72507 ],\n",
              "       [230.93602 ],\n",
              "       [244.45602 ],\n",
              "       [264.7807  ],\n",
              "       [272.52124 ],\n",
              "       [238.65666 ],\n",
              "       [213.63988 ],\n",
              "       [184.2472  ],\n",
              "       [204.09343 ],\n",
              "       [206.95175 ],\n",
              "       [191.77132 ],\n",
              "       [236.72507 ],\n",
              "       [229.00854 ],\n",
              "       [235.75958 ],\n",
              "       [264.7807  ],\n",
              "       [301.43307 ],\n",
              "       [292.78674 ],\n",
              "       [259.9406  ],\n",
              "       [230.93602 ],\n",
              "       [205.99844 ],\n",
              "       [230.93602 ],\n",
              "       [243.48903 ],\n",
              "       [234.79437 ],\n",
              "       [267.68414 ],\n",
              "       [269.61932 ],\n",
              "       [270.58676 ],\n",
              "       [313.86377 ],\n",
              "       [359.82855 ],\n",
              "       [344.06897 ],\n",
              "       [311.00204 ],\n",
              "       [274.45523 ],\n",
              "       [238.65666 ],\n",
              "       [278.32117 ],\n",
              "       [284.11423 ],\n",
              "       [277.35495 ],\n",
              "       [315.76907 ],\n",
              "       [311.95645 ],\n",
              "       [316.72095 ],\n",
              "       [368.9896  ],\n",
              "       [403.83978 ],\n",
              "       [396.8124  ],\n",
              "       [351.5131  ],\n",
              "       [305.2659  ]], dtype=float32)"
            ]
          },
          "metadata": {
            "tags": []
          },
          "execution_count": 24
        }
      ]
    },
    {
      "cell_type": "code",
      "metadata": {
        "colab": {
          "base_uri": "https://localhost:8080/"
        },
        "id": "tSgobqHfhZ_5",
        "outputId": "e58dd20f-556b-4d86-dbb2-cd2cda750589"
      },
      "source": [
        "testPredict"
      ],
      "execution_count": 25,
      "outputs": [
        {
          "output_type": "execute_result",
          "data": {
            "text/plain": [
              "array([[313.86377],\n",
              "       [300.47388],\n",
              "       [352.44022],\n",
              "       [345.00208],\n",
              "       [351.5131 ],\n",
              "       [411.6661 ],\n",
              "       [447.83307],\n",
              "       [449.46402],\n",
              "       [395.92938],\n",
              "       [344.06897],\n",
              "       [304.3083 ],\n",
              "       [333.75848],\n",
              "       [337.51736],\n",
              "       [316.72095],\n",
              "       [357.9863 ],\n",
              "       [345.00208],\n",
              "       [358.90778],\n",
              "       [422.81763],\n",
              "       [468.6702 ],\n",
              "       [479.5581 ],\n",
              "       [395.92938],\n",
              "       [355.21686],\n",
              "       [309.0918 ],\n",
              "       [334.69922],\n",
              "       [356.14075],\n",
              "       [339.39273],\n",
              "       [397.69446],\n",
              "       [388.82944],\n",
              "       [409.93433],\n",
              "       [453.52115],\n",
              "       [511.53183],\n",
              "       [519.3562 ],\n",
              "       [446.1973 ],\n",
              "       [398.57538],\n",
              "       [357.9863 ],\n",
              "       [396.8124 ],\n",
              "       [407.3287 ],\n",
              "       [384.3602 ],\n",
              "       [409.06677],\n",
              "       [444.5571 ],\n",
              "       [453.52115],\n",
              "       [502.0989 ],\n",
              "       [561.44714],\n",
              "       [551.1887 ],\n",
              "       [481.86072],\n",
              "       [444.5571 ]], dtype=float32)"
            ]
          },
          "metadata": {
            "tags": []
          },
          "execution_count": 25
        }
      ]
    },
    {
      "cell_type": "code",
      "metadata": {
        "colab": {
          "base_uri": "https://localhost:8080/"
        },
        "id": "eDURmG47hc-1",
        "outputId": "0599dbd8-aefe-4e95-fdfb-4f7346649fa7"
      },
      "source": [
        "trainPredictPlot"
      ],
      "execution_count": 26,
      "outputs": [
        {
          "output_type": "execute_result",
          "data": {
            "text/plain": [
              "array([[       nan],\n",
              "       [122.886894],\n",
              "       [128.07146 ],\n",
              "       [140.36282 ],\n",
              "       [137.70694 ],\n",
              "       [130.68289 ],\n",
              "       [143.03026 ],\n",
              "       [154.71616 ],\n",
              "       [154.71616 ],\n",
              "       [143.9219  ],\n",
              "       [128.94054 ],\n",
              "       [116.05638 ],\n",
              "       [128.07146 ],\n",
              "       [125.47272 ],\n",
              "       [135.06284 ],\n",
              "       [148.39868 ],\n",
              "       [143.03026 ],\n",
              "       [134.18414 ],\n",
              "       [155.62323 ],\n",
              "       [174.91472 ],\n",
              "       [174.91472 ],\n",
              "       [163.83607 ],\n",
              "       [141.25069 ],\n",
              "       [124.60932 ],\n",
              "       [147.5009  ],\n",
              "       [152.0017  ],\n",
              "       [156.53143 ],\n",
              "       [182.37396 ],\n",
              "       [168.43521 ],\n",
              "       [176.77432 ],\n",
              "       [182.37396 ],\n",
              "       [202.19077 ],\n",
              "       [202.19077 ],\n",
              "       [188.00319 ],\n",
              "       [167.5134  ],\n",
              "       [152.90538 ],\n",
              "       [171.20648 ],\n",
              "       [175.84406 ],\n",
              "       [184.2472  ],\n",
              "       [196.49753 ],\n",
              "       [185.18501 ],\n",
              "       [187.06303 ],\n",
              "       [220.35124 ],\n",
              "       [231.90022 ],\n",
              "       [243.48903 ],\n",
              "       [211.72646 ],\n",
              "       [194.60498 ],\n",
              "       [176.77432 ],\n",
              "       [197.4448  ],\n",
              "       [199.34128 ],\n",
              "       [199.34128 ],\n",
              "       [237.69073 ],\n",
              "       [236.72507 ],\n",
              "       [230.93602 ],\n",
              "       [244.45602 ],\n",
              "       [264.7807  ],\n",
              "       [272.52124 ],\n",
              "       [238.65666 ],\n",
              "       [213.63988 ],\n",
              "       [184.2472  ],\n",
              "       [204.09343 ],\n",
              "       [206.95175 ],\n",
              "       [191.77132 ],\n",
              "       [236.72507 ],\n",
              "       [229.00854 ],\n",
              "       [235.75958 ],\n",
              "       [264.7807  ],\n",
              "       [301.43307 ],\n",
              "       [292.78674 ],\n",
              "       [259.9406  ],\n",
              "       [230.93602 ],\n",
              "       [205.99844 ],\n",
              "       [230.93602 ],\n",
              "       [243.48903 ],\n",
              "       [234.79437 ],\n",
              "       [267.68414 ],\n",
              "       [269.61932 ],\n",
              "       [270.58676 ],\n",
              "       [313.86377 ],\n",
              "       [359.82855 ],\n",
              "       [344.06897 ],\n",
              "       [311.00204 ],\n",
              "       [274.45523 ],\n",
              "       [238.65666 ],\n",
              "       [278.32117 ],\n",
              "       [284.11423 ],\n",
              "       [277.35495 ],\n",
              "       [315.76907 ],\n",
              "       [311.95645 ],\n",
              "       [316.72095 ],\n",
              "       [368.9896  ],\n",
              "       [403.83978 ],\n",
              "       [396.8124  ],\n",
              "       [351.5131  ],\n",
              "       [305.2659  ],\n",
              "       [       nan],\n",
              "       [       nan],\n",
              "       [       nan],\n",
              "       [       nan],\n",
              "       [       nan],\n",
              "       [       nan],\n",
              "       [       nan],\n",
              "       [       nan],\n",
              "       [       nan],\n",
              "       [       nan],\n",
              "       [       nan],\n",
              "       [       nan],\n",
              "       [       nan],\n",
              "       [       nan],\n",
              "       [       nan],\n",
              "       [       nan],\n",
              "       [       nan],\n",
              "       [       nan],\n",
              "       [       nan],\n",
              "       [       nan],\n",
              "       [       nan],\n",
              "       [       nan],\n",
              "       [       nan],\n",
              "       [       nan],\n",
              "       [       nan],\n",
              "       [       nan],\n",
              "       [       nan],\n",
              "       [       nan],\n",
              "       [       nan],\n",
              "       [       nan],\n",
              "       [       nan],\n",
              "       [       nan],\n",
              "       [       nan],\n",
              "       [       nan],\n",
              "       [       nan],\n",
              "       [       nan],\n",
              "       [       nan],\n",
              "       [       nan],\n",
              "       [       nan],\n",
              "       [       nan],\n",
              "       [       nan],\n",
              "       [       nan],\n",
              "       [       nan],\n",
              "       [       nan],\n",
              "       [       nan],\n",
              "       [       nan],\n",
              "       [       nan],\n",
              "       [       nan],\n",
              "       [       nan]], dtype=float32)"
            ]
          },
          "metadata": {
            "tags": []
          },
          "execution_count": 26
        }
      ]
    },
    {
      "cell_type": "code",
      "metadata": {
        "colab": {
          "base_uri": "https://localhost:8080/",
          "height": 265
        },
        "id": "8rpOEK4nh1R2",
        "outputId": "3d9c88a1-2708-4ebc-fc44-540198a27855"
      },
      "source": [
        "plt.plot(scaler.inverse_transform(dataset))\n",
        "#plt.plot(trainPredictPlot)\n",
        "#plt.plot(testPredictPlot)\n",
        "plt.show()"
      ],
      "execution_count": 30,
      "outputs": [
        {
          "output_type": "display_data",
          "data": {
            "image/png": "[encoded data removed]",
            "text/plain": [
              "<Figure size 432x288 with 1 Axes>"
            ]
          },
          "metadata": {
            "tags": [],
            "needs_background": "light"
          }
        }
      ]
    },
    {
      "cell_type": "markdown",
      "metadata": {
        "id": "_HZp3kCIi0Bh"
      },
      "source": [
        "## The next plots will show how beautifully accurate our prediction is."
      ]
    },
    {
      "cell_type": "code",
      "metadata": {
        "colab": {
          "base_uri": "https://localhost:8080/",
          "height": 265
        },
        "id": "9XWPiBNQikjJ",
        "outputId": "a79658ae-d998-4feb-f8d2-23272ddd546a"
      },
      "source": [
        "plt.plot(scaler.inverse_transform(dataset))\n",
        "plt.plot(trainPredictPlot)\n",
        "#plt.plot(testPredictPlot)\n",
        "plt.show()"
      ],
      "execution_count": 33,
      "outputs": [
        {
          "output_type": "display_data",
          "data": {
            "image/png": "[encoded data removed]",
            "text/plain": [
              "<Figure size 432x288 with 1 Axes>"
            ]
          },
          "metadata": {
            "tags": [],
            "needs_background": "light"
          }
        }
      ]
    },
    {
      "cell_type": "markdown",
      "metadata": {
        "id": "Y20cyxU8jYBB"
      },
      "source": [
        "The above plot shows how our train predictons came so close with the original dataset"
      ]
    },
    {
      "cell_type": "code",
      "metadata": {
        "colab": {
          "base_uri": "https://localhost:8080/",
          "height": 265
        },
        "id": "OyW0oBwejsv8",
        "outputId": "d4d0148e-fab8-4c96-db7b-fdd0ead9370c"
      },
      "source": [
        "# see the test prediction accuracy !\n",
        "plt.plot(scaler.inverse_transform(dataset))\n",
        "#plt.plot(trainPredictPlot)\n",
        "plt.plot(testPredictPlot)\n",
        "plt.show()"
      ],
      "execution_count": 34,
      "outputs": [
        {
          "output_type": "display_data",
          "data": {
            "image/png": "[encoded data removed]",
            "text/plain": [
              "<Figure size 432x288 with 1 Axes>"
            ]
          },
          "metadata": {
            "tags": [],
            "needs_background": "light"
          }
        }
      ]
    }
  ]
}