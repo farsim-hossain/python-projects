{
  "nbformat": 4,
  "nbformat_minor": 0,
  "metadata": {
    "colab": {
      "name": "Text Classification With RNN.ipynb",
      "provenance": [],
      "authorship_tag": "ABX9TyMHaLZqQxJtt1ZPp1BvOpTe"
    },
    "kernelspec": {
      "name": "python3",
      "display_name": "Python 3"
    },
    "language_info": {
      "name": "python"
    }
  },
  "cells": [
    {
      "cell_type": "markdown",
      "metadata": {
        "id": "PNSAILtd361r"
      },
      "source": [
        "## Text Classification With RNN \n",
        "\n"
      ]
    },
    {
      "cell_type": "code",
      "metadata": {
        "id": "p2RbmTsf33pO"
      },
      "source": [
        "import numpy as np\n",
        "import tensorflow_datasets as tfds\n",
        "import tensorflow as tf \n",
        "\n",
        "tfds.disable_progress_bar()"
      ],
      "execution_count": 1,
      "outputs": []
    },
    {
      "cell_type": "code",
      "metadata": {
        "id": "a4kLKVsH4M0G"
      },
      "source": [
        "import matplotlib.pyplot as plt\n",
        "\n",
        "def plot_graphs(history, metric):\n",
        "  plt.plot(history.history[metric])\n",
        "  plt.plot(history.history['val_'+metric], '')\n",
        "  plt.xlabel(\"Epochs\")\n",
        "  plt.ylabel(metric)\n",
        "  plt.legend([metric, 'val_'+metric])"
      ],
      "execution_count": 2,
      "outputs": []
    },
    {
      "cell_type": "markdown",
      "metadata": {
        "id": "zSh9hhjZ6Rdb"
      },
      "source": [
        "## Setup input pipeline\n",
        "The IMDB large movie review dataset is a binary classification dataset—all the reviews have either a positive or negative sentiment."
      ]
    },
    {
      "cell_type": "code",
      "metadata": {
        "colab": {
          "base_uri": "https://localhost:8080/"
        },
        "id": "qSYHJp9Y6Mta",
        "outputId": "081d0445-2082-48cd-e722-372174e973c4"
      },
      "source": [
        "dataset, info = tfds.load('imdb_reviews', with_info= True, as_supervised= True)\n",
        "train_dataset, test_dataset = dataset['train'], dataset['test']\n",
        "\n",
        "train_dataset.element_spec"
      ],
      "execution_count": 3,
      "outputs": [
        {
          "output_type": "stream",
          "name": "stdout",
          "text": [
            "\u001b[1mDownloading and preparing dataset imdb_reviews/plain_text/1.0.0 (download: 80.23 MiB, generated: Unknown size, total: 80.23 MiB) to /root/tensorflow_datasets/imdb_reviews/plain_text/1.0.0...\u001b[0m\n",
            "Shuffling and writing examples to /root/tensorflow_datasets/imdb_reviews/plain_text/1.0.0.incompleteMON63N/imdb_reviews-train.tfrecord\n",
            "Shuffling and writing examples to /root/tensorflow_datasets/imdb_reviews/plain_text/1.0.0.incompleteMON63N/imdb_reviews-test.tfrecord\n",
            "Shuffling and writing examples to /root/tensorflow_datasets/imdb_reviews/plain_text/1.0.0.incompleteMON63N/imdb_reviews-unsupervised.tfrecord\n"
          ]
        },
        {
          "output_type": "stream",
          "name": "stderr",
          "text": [
            "WARNING:absl:Dataset is using deprecated text encoder API which will be removed soon. Please use the plain_text version of the dataset and migrate to `tensorflow_text`.\n"
          ]
        },
        {
          "output_type": "stream",
          "name": "stdout",
          "text": [
            "\u001b[1mDataset imdb_reviews downloaded and prepared to /root/tensorflow_datasets/imdb_reviews/plain_text/1.0.0. Subsequent calls will reuse this data.\u001b[0m\n"
          ]
        },
        {
          "output_type": "execute_result",
          "data": {
            "text/plain": [
              "(TensorSpec(shape=(), dtype=tf.string, name=None),\n",
              " TensorSpec(shape=(), dtype=tf.int64, name=None))"
            ]
          },
          "metadata": {},
          "execution_count": 3
        }
      ]
    },
    {
      "cell_type": "markdown",
      "metadata": {
        "id": "Xuy0GUng61LK"
      },
      "source": [
        "Dataset of text, label pairs"
      ]
    },
    {
      "cell_type": "code",
      "metadata": {
        "colab": {
          "base_uri": "https://localhost:8080/"
        },
        "id": "c68pxpCo6oq_",
        "outputId": "851c1167-9f6e-40e4-a42c-b64fc8973faa"
      },
      "source": [
        "for example, label in train_dataset.take(1):\n",
        "  print('text:', example.numpy())\n",
        "  print('label:', label.numpy())"
      ],
      "execution_count": 6,
      "outputs": [
        {
          "output_type": "stream",
          "name": "stdout",
          "text": [
            "text: b\"This was an absolutely terrible movie. Don't be lured in by Christopher Walken or Michael Ironside. Both are great actors, but this must simply be their worst role in history. Even their great acting could not redeem this movie's ridiculous storyline. This movie is an early nineties US propaganda piece. The most pathetic scenes were those when the Columbian rebels were making their cases for revolutions. Maria Conchita Alonso appeared phony, and her pseudo-love affair with Walken was nothing but a pathetic emotional plug in a movie that was devoid of any real meaning. I am disappointed that there are movies like this, ruining actor's like Christopher Walken's good name. I could barely sit through it.\"\n",
            "label: 0\n"
          ]
        }
      ]
    },
    {
      "cell_type": "code",
      "metadata": {
        "id": "gy8GnUuh7ix2"
      },
      "source": [
        "# Shuffle \n",
        "BUFFER_SIZE = 10000\n",
        "BATCH_SIZE = 64\n",
        "\n",
        "train_dataset = train_dataset.shuffle(BUFFER_SIZE).batch(BATCH_SIZE).prefetch(tf.data.AUTOTUNE)\n",
        "test_dataset = test_dataset.batch(BATCH_SIZE).prefetch(tf.data.AUTOTUNE)"
      ],
      "execution_count": 7,
      "outputs": []
    },
    {
      "cell_type": "code",
      "metadata": {
        "colab": {
          "base_uri": "https://localhost:8080/"
        },
        "id": "Y9EfPEhV8L67",
        "outputId": "31de9d6a-dd19-4f10-b566-10bf768cd1d9"
      },
      "source": [
        "for example, label in train_dataset.take(1):\n",
        "  print('texts: ', example.numpy()[:3])\n",
        "  print()\n",
        "  print('labels: ', label.numpy()[:3])"
      ],
      "execution_count": 8,
      "outputs": [
        {
          "output_type": "stream",
          "name": "stdout",
          "text": [
            "texts:  [b\"I just read a review defending this film because it had a low budget, now my take on things.<br /><br />The CGI monsters was reasonable well animated but was implemented in the worst possible way. The fight scenes weren't even fights it was just one shot of an actor then one shot of monster with very interaction at all. When the monster did interact it looked like it was done in paintshop pro. In my opinion if you have a low budget you should use models and puppets. They may not look as fancy but at least they interact, just look at Peter Jacksons early films.<br /><br />As for the acting Beowulf did an descent job but the rest of the cast were either not trying or they forgot where they where.<br /><br />The script seemed confused to me. One minute they would be talking as if it were a modern day setting the next you get drama club Shakespeare speech. I'm not say it should be all 'ye' and 'that it be' but you need to find a cohesive balance so the lines sound like they come from the same person.<br /><br />I did notice one part near the start when Beowulf was quoting the old testament which would have been find had he not spent the rest of the films talking about the gods and portents.<br /><br />In short, this film is a very slightly polished turd, but a turn none the less.\"\n",
            " b\"Well I'm blowed, a Woody Allen film that I walked out of after half an hour (I'm aware of the moral fragility of commenting on a film of which I've seen less than half, but I hope you'll understand why). Basically, it became apparent very early on that we were going to be patronised from the screen with: a script that set out its conceit as if with bullet points; a cast that were all trying to be characters from Hannah and Her Sisters (with the exception of Chloe Sevigny), and were badly directed into doing so; and a camera that sat around portentously, only for there to be nothing to film but chat and the actor delivering it. Drama? None; it's partially pre-narrated, but the action does nothing to develop a dramatic situation.<br /><br />Maybe I did leave too early in this case, but by then I'd decided against another hour and a half of one-liner-Allen clones. The script has its funny moments \\xc2\\x96 I went almost entirely on the back of Will Ferrell's excerpts in the trailer (trailer-hooked again, doh!) \\xc2\\x96 but there's little pace to let them fly off nonchalantly, as is best. Worse than this there's no fluidity. Saying this film's wooden makes a forest look like a jelly: the opening caf\\xc3\\xa9-bound discussion being the most abject case-in-point. The only thing that should be done by numbers is potted reviewing \\xc2\\x96 2/10.\"\n",
            " b\"I could only get through about 25 mins of it. Not one laugh in the 25 minutes I gave it, one of the most painful films I've ever had to endure. Chris Kattan is so nervous on screen that it made me nervous to watch him. Just a horrible movie.\"]\n",
            "\n",
            "labels:  [0 0 0]\n"
          ]
        }
      ]
    },
    {
      "cell_type": "markdown",
      "metadata": {
        "id": "9AbkytWg9DG5"
      },
      "source": [
        "## Create the text encoder \n",
        "\n",
        "The raw text loaded by tfds needs to be processed before it can be used in a model. The simplest way to process text for training is using the experimental.preprocessing.TextVectorization layer. This layer has many capabilities."
      ]
    },
    {
      "cell_type": "code",
      "metadata": {
        "id": "73_VQabC8gjg"
      },
      "source": [
        "VOCAB_SIZE = 1000\n",
        "encoder = tf.keras.layers.experimental.preprocessing.TextVectorization(\n",
        "    max_tokens = VOCAB_SIZE\n",
        ")\n",
        "\n",
        "encoder.adapt(train_dataset.map(lambda text, label: text))"
      ],
      "execution_count": 10,
      "outputs": []
    },
    {
      "cell_type": "markdown",
      "metadata": {
        "id": "l0cmyr5v-8y_"
      },
      "source": [
        "The .adapt method sets the layer's vocabulary. Here are the first 20 tokens. After the padding and unknown tokens they're sorted by frequency:"
      ]
    },
    {
      "cell_type": "code",
      "metadata": {
        "colab": {
          "base_uri": "https://localhost:8080/"
        },
        "id": "6lYry6hE-1kz",
        "outputId": "8be16e0d-2d62-4010-f14c-77a98b33e3b7"
      },
      "source": [
        "vocab = np.array(encoder.get_vocabulary())\n",
        "vocab[:20]"
      ],
      "execution_count": 12,
      "outputs": [
        {
          "output_type": "execute_result",
          "data": {
            "text/plain": [
              "array(['', '[UNK]', 'the', 'and', 'a', 'of', 'to', 'is', 'in', 'it', 'i',\n",
              "       'this', 'that', 'br', 'was', 'as', 'for', 'with', 'movie', 'but'],\n",
              "      dtype='<U14')"
            ]
          },
          "metadata": {},
          "execution_count": 12
        }
      ]
    },
    {
      "cell_type": "markdown",
      "metadata": {
        "id": "9nJkaCAM_fCq"
      },
      "source": [
        "Now we can encode our text into indices, with padded zeroes\n"
      ]
    },
    {
      "cell_type": "code",
      "metadata": {
        "colab": {
          "base_uri": "https://localhost:8080/"
        },
        "id": "f-2MlmmC_ach",
        "outputId": "a8f5afd6-2d0d-4278-af7d-50c540524a6f"
      },
      "source": [
        "encoded_example = encoder(example)[:3].numpy()\n",
        "encoded_example"
      ],
      "execution_count": 13,
      "outputs": [
        {
          "output_type": "execute_result",
          "data": {
            "text/plain": [
              "array([[ 10,  41, 321, ...,   0,   0,   0],\n",
              "       [ 74, 142,   1, ...,   0,   0,   0],\n",
              "       [ 10,  96,  61, ...,   0,   0,   0]])"
            ]
          },
          "metadata": {},
          "execution_count": 13
        }
      ]
    },
    {
      "cell_type": "code",
      "metadata": {
        "colab": {
          "base_uri": "https://localhost:8080/"
        },
        "id": "LANnRi_NAE0i",
        "outputId": "5263e11b-09d5-4731-ddf6-4f95de8700a6"
      },
      "source": [
        "for n in range(3):\n",
        "  print(\"Original: \", example[n].numpy())\n",
        "  print(\"Round- trip\", \" \".join(vocab[encoded_example[n]]))\n",
        "  print()"
      ],
      "execution_count": 14,
      "outputs": [
        {
          "output_type": "stream",
          "name": "stdout",
          "text": [
            "Original:  b\"I just read a review defending this film because it had a low budget, now my take on things.<br /><br />The CGI monsters was reasonable well animated but was implemented in the worst possible way. The fight scenes weren't even fights it was just one shot of an actor then one shot of monster with very interaction at all. When the monster did interact it looked like it was done in paintshop pro. In my opinion if you have a low budget you should use models and puppets. They may not look as fancy but at least they interact, just look at Peter Jacksons early films.<br /><br />As for the acting Beowulf did an descent job but the rest of the cast were either not trying or they forgot where they where.<br /><br />The script seemed confused to me. One minute they would be talking as if it were a modern day setting the next you get drama club Shakespeare speech. I'm not say it should be all 'ye' and 'that it be' but you need to find a cohesive balance so the lines sound like they come from the same person.<br /><br />I did notice one part near the start when Beowulf was quoting the old testament which would have been find had he not spent the rest of the films talking about the gods and portents.<br /><br />In short, this film is a very slightly polished turd, but a turn none the less.\"\n",
            "Round- trip i just read a review [UNK] this film because it had a low budget now my take on [UNK] br the [UNK] [UNK] was [UNK] well [UNK] but was [UNK] in the worst possible way the fight scenes [UNK] even [UNK] it was just one shot of an actor then one shot of monster with very [UNK] at all when the monster did [UNK] it looked like it was done in [UNK] [UNK] in my opinion if you have a low budget you should use [UNK] and [UNK] they may not look as [UNK] but at least they [UNK] just look at peter [UNK] early [UNK] br as for the acting [UNK] did an [UNK] job but the rest of the cast were either not trying or they [UNK] where they [UNK] br the script seemed [UNK] to me one minute they would be talking as if it were a modern day setting the next you get drama [UNK] [UNK] [UNK] im not say it should be all [UNK] and that it be but you need to find a [UNK] [UNK] so the lines sound like they come from the same [UNK] br i did [UNK] one part near the start when [UNK] was [UNK] the old [UNK] which would have been find had he not [UNK] the rest of the films talking about the [UNK] and [UNK] br in short this film is a very [UNK] [UNK] [UNK] but a turn none the less                                                                                                                                                                                                                                                                                                                                                                                                                                                                                                                                                                                                                                                                                                   \n",
            "\n",
            "Original:  b\"Well I'm blowed, a Woody Allen film that I walked out of after half an hour (I'm aware of the moral fragility of commenting on a film of which I've seen less than half, but I hope you'll understand why). Basically, it became apparent very early on that we were going to be patronised from the screen with: a script that set out its conceit as if with bullet points; a cast that were all trying to be characters from Hannah and Her Sisters (with the exception of Chloe Sevigny), and were badly directed into doing so; and a camera that sat around portentously, only for there to be nothing to film but chat and the actor delivering it. Drama? None; it's partially pre-narrated, but the action does nothing to develop a dramatic situation.<br /><br />Maybe I did leave too early in this case, but by then I'd decided against another hour and a half of one-liner-Allen clones. The script has its funny moments \\xc2\\x96 I went almost entirely on the back of Will Ferrell's excerpts in the trailer (trailer-hooked again, doh!) \\xc2\\x96 but there's little pace to let them fly off nonchalantly, as is best. Worse than this there's no fluidity. Saying this film's wooden makes a forest look like a jelly: the opening caf\\xc3\\xa9-bound discussion being the most abject case-in-point. The only thing that should be done by numbers is potted reviewing \\xc2\\x96 2/10.\"\n",
            "Round- trip well im [UNK] a [UNK] [UNK] film that i [UNK] out of after half an hour im [UNK] of the [UNK] [UNK] of [UNK] on a film of which ive seen less than half but i hope youll understand why basically it became [UNK] very early on that we were going to be [UNK] from the screen with a script that set out its [UNK] as if with [UNK] points a cast that were all trying to be characters from [UNK] and her [UNK] with the [UNK] of [UNK] [UNK] and were badly directed into doing so and a camera that [UNK] around [UNK] only for there to be nothing to film but [UNK] and the actor [UNK] it drama none its [UNK] [UNK] but the action does nothing to [UNK] a dramatic [UNK] br maybe i did leave too early in this case but by then id decided against another hour and a half of [UNK] [UNK] the script has its funny moments  i went almost [UNK] on the back of will [UNK] [UNK] in the [UNK] [UNK] again [UNK]  but theres little [UNK] to let them [UNK] off [UNK] as is best worse than this theres no [UNK] saying this films [UNK] makes a [UNK] look like a [UNK] the opening [UNK] [UNK] being the most [UNK] [UNK] the only thing that should be done by [UNK] is [UNK] [UNK]  [UNK]                                                                                                                                                                                                                                                                                                                                                                                                                                                                                                                                                                                                                                                                                                            \n",
            "\n",
            "Original:  b\"I could only get through about 25 mins of it. Not one laugh in the 25 minutes I gave it, one of the most painful films I've ever had to endure. Chris Kattan is so nervous on screen that it made me nervous to watch him. Just a horrible movie.\"\n",
            "Round- trip i could only get through about [UNK] [UNK] of it not one laugh in the [UNK] minutes i gave it one of the most [UNK] films ive ever had to [UNK] [UNK] [UNK] is so [UNK] on screen that it made me [UNK] to watch him just a horrible movie                                                                                                                                                                                                                                                                                                                                                                                                                                                                                                                                                                                                                                                                                                                                                                                                                                                                                                      \n",
            "\n"
          ]
        }
      ]
    },
    {
      "cell_type": "code",
      "metadata": {
        "id": "aLh_3AcmCLvd"
      },
      "source": [
        "model = tf.keras.Sequential([\n",
        "                             encoder,\n",
        "                             tf.keras.layers.Embedding(\n",
        "                                 input_dim = len(encoder.get_vocabulary()),\n",
        "                                 output_dim = 64,\n",
        "                                 mask_zero = True\n",
        "                             ),\n",
        "                             tf.keras.layers.Bidirectional(tf.keras.layers.LSTM(64)),\n",
        "                             tf.keras.layers.Dense(64, activation = 'relu'),\n",
        "                             tf.keras.layers.Dense(1)\n",
        "])\n"
      ],
      "execution_count": 15,
      "outputs": []
    },
    {
      "cell_type": "code",
      "metadata": {
        "colab": {
          "base_uri": "https://localhost:8080/"
        },
        "id": "1V8L0dSVEGou",
        "outputId": "77a702a2-1ddb-47af-88ad-ce5388ca2ca3"
      },
      "source": [
        "print([layer.supports_masking for layer in model.layers])"
      ],
      "execution_count": 16,
      "outputs": [
        {
          "output_type": "stream",
          "name": "stdout",
          "text": [
            "[False, True, True, True, True]\n"
          ]
        }
      ]
    },
    {
      "cell_type": "markdown",
      "metadata": {
        "id": "ZKvFDs9nFAE0"
      },
      "source": [
        "To confirm that this works as expected, evaluate a sentence twice. First, alone so there's no padding to mask:\n",
        "\n"
      ]
    },
    {
      "cell_type": "code",
      "metadata": {
        "colab": {
          "base_uri": "https://localhost:8080/"
        },
        "id": "h5E_jkphE53C",
        "outputId": "4532e291-b5be-482d-d3fb-2fcaee287ea1"
      },
      "source": [
        "# predict on a sample text without padding \n",
        "sample_text = ('The movie was cool. The animation and the graphics '\n",
        "               'were out of this world. I would recommend this movie.')\n",
        "\n",
        "prediction = model.predict(np.array([sample_text]))\n",
        "print(prediction[0])"
      ],
      "execution_count": 17,
      "outputs": [
        {
          "output_type": "stream",
          "name": "stdout",
          "text": [
            "[0.00758174]\n"
          ]
        }
      ]
    },
    {
      "cell_type": "code",
      "metadata": {
        "colab": {
          "base_uri": "https://localhost:8080/"
        },
        "id": "SRlbNi9FFRjS",
        "outputId": "b7bead85-32b9-43e1-d707-f890263d314e"
      },
      "source": [
        "# with padding \n",
        "\n",
        "padding = \"the \" * 2000\n",
        "predictions = model.predict(np.array([sample_text, padding]))\n",
        "print(predictions[0])"
      ],
      "execution_count": 19,
      "outputs": [
        {
          "output_type": "stream",
          "name": "stdout",
          "text": [
            "[0.00758174]\n"
          ]
        }
      ]
    },
    {
      "cell_type": "code",
      "metadata": {
        "id": "em3p1wgRFfcS"
      },
      "source": [
        "# Compile the keras model \n",
        "model.compile(loss=tf.keras.losses.BinaryCrossentropy(from_logits=True),\n",
        "              optimizer=tf.keras.optimizers.Adam(1e-4),\n",
        "              metrics=['accuracy'])"
      ],
      "execution_count": 20,
      "outputs": []
    },
    {
      "cell_type": "code",
      "metadata": {
        "colab": {
          "base_uri": "https://localhost:8080/"
        },
        "id": "zPntyHilFr6Z",
        "outputId": "e1cac4d6-f54b-48ac-ed84-c3ea582372c1"
      },
      "source": [
        "# train \n",
        "\n",
        "\n",
        "history = model.fit(train_dataset, epochs = 10,\n",
        "                    validation_data = test_dataset,\n",
        "                    validation_steps = 30)"
      ],
      "execution_count": 21,
      "outputs": [
        {
          "output_type": "stream",
          "name": "stdout",
          "text": [
            "Epoch 1/10\n",
            "391/391 [==============================] - 677s 2s/step - loss: 0.6475 - accuracy: 0.5571 - val_loss: 0.5064 - val_accuracy: 0.7750\n",
            "Epoch 2/10\n",
            "391/391 [==============================] - 665s 2s/step - loss: 0.4044 - accuracy: 0.8124 - val_loss: 0.3591 - val_accuracy: 0.8344\n",
            "Epoch 3/10\n",
            "391/391 [==============================] - 662s 2s/step - loss: 0.3389 - accuracy: 0.8506 - val_loss: 0.3512 - val_accuracy: 0.8604\n",
            "Epoch 4/10\n",
            "391/391 [==============================] - 662s 2s/step - loss: 0.3211 - accuracy: 0.8610 - val_loss: 0.3317 - val_accuracy: 0.8510\n",
            "Epoch 5/10\n",
            "391/391 [==============================] - 654s 2s/step - loss: 0.3136 - accuracy: 0.8651 - val_loss: 0.3305 - val_accuracy: 0.8464\n",
            "Epoch 6/10\n",
            "391/391 [==============================] - 658s 2s/step - loss: 0.3107 - accuracy: 0.8652 - val_loss: 0.3285 - val_accuracy: 0.8557\n",
            "Epoch 7/10\n",
            "391/391 [==============================] - 655s 2s/step - loss: 0.3040 - accuracy: 0.8693 - val_loss: 0.3212 - val_accuracy: 0.8583\n",
            "Epoch 8/10\n",
            "391/391 [==============================] - 663s 2s/step - loss: 0.3015 - accuracy: 0.8705 - val_loss: 0.3268 - val_accuracy: 0.8599\n",
            "Epoch 9/10\n",
            "391/391 [==============================] - 658s 2s/step - loss: 0.2988 - accuracy: 0.8720 - val_loss: 0.3282 - val_accuracy: 0.8599\n",
            "Epoch 10/10\n",
            "391/391 [==============================] - 661s 2s/step - loss: 0.2994 - accuracy: 0.8720 - val_loss: 0.3241 - val_accuracy: 0.8531\n"
          ]
        }
      ]
    },
    {
      "cell_type": "code",
      "metadata": {
        "colab": {
          "base_uri": "https://localhost:8080/"
        },
        "id": "wCQ5gAb-F67B",
        "outputId": "19607c37-a5a5-4cdd-9543-ca89d37da1d7"
      },
      "source": [
        "test_loss, test_acc = model.evaluate(test_dataset)\n",
        "print('Test Loss:', test_loss)\n",
        "print('Test Accuracy:', test_acc)"
      ],
      "execution_count": 22,
      "outputs": [
        {
          "output_type": "stream",
          "name": "stdout",
          "text": [
            "391/391 [==============================] - 140s 358ms/step - loss: 0.3212 - accuracy: 0.8599\n",
            "Test Loss: 0.32119473814964294\n",
            "Test Accuracy: 0.8598799705505371\n"
          ]
        }
      ]
    },
    {
      "cell_type": "code",
      "metadata": {
        "colab": {
          "base_uri": "https://localhost:8080/",
          "height": 518
        },
        "id": "8iA5miK-GzVy",
        "outputId": "a3f92a6d-c10a-45f5-a8a9-8646314eeb27"
      },
      "source": [
        "plt.figure(figsize=(16, 8))\n",
        "plt.subplot(1, 2, 1)\n",
        "plot_graphs(history, 'accuracy')\n",
        "plt.ylim(None, 1)\n",
        "plt.subplot(1, 2, 2)\n",
        "plot_graphs(history, 'loss')\n",
        "plt.ylim(0, None)"
      ],
      "execution_count": 23,
      "outputs": [
        {
          "output_type": "execute_result",
          "data": {
            "text/plain": [
              "(0.0, 0.6649209916591644)"
            ]
          },
          "metadata": {},
          "execution_count": 23
        },
        {
          "output_type": "display_data",
          "data": {
            "image/png": "[encoded data removed]",
            "text/plain": [
              "<Figure size 1152x576 with 2 Axes>"
            ]
          },
          "metadata": {
            "needs_background": "light"
          }
        }
      ]
    },
    {
      "cell_type": "code",
      "metadata": {
        "id": "oV8oQhnjG22S"
      },
      "source": [
        "# prediction on a new sentence \n",
        "\n",
        "sample_text = ('The movie was cool. The animation and the graphics '\n",
        "               'were out of this world. I would recommend this movie.')\n",
        "predictions = model.predict(np.array([sample_text]))"
      ],
      "execution_count": 24,
      "outputs": []
    },
    {
      "cell_type": "markdown",
      "metadata": {
        "id": "GNCK1ascIbsf"
      },
      "source": [
        "## Stack two or more LSTM layers\n",
        "Keras recurrent layers have two available modes that are controlled by the return_sequences constructor argument:\n",
        "\n",
        "If False it returns only the last output for each input sequence (a 2D tensor of shape (batch_size, output_features)). This is the default, used in the previous model.\n",
        "\n",
        "If True the full sequences of successive outputs for each timestep is returned (a 3D tensor of shape (batch_size, timesteps, output_features))."
      ]
    },
    {
      "cell_type": "code",
      "metadata": {
        "id": "IepQLDzbG-2a"
      },
      "source": [
        "model = tf.keras.Sequential([\n",
        "    encoder,\n",
        "    tf.keras.layers.Embedding(len(encoder.get_vocabulary()), 64, mask_zero=True),\n",
        "    tf.keras.layers.Bidirectional(tf.keras.layers.LSTM(64,  return_sequences=True)),\n",
        "    tf.keras.layers.Bidirectional(tf.keras.layers.LSTM(32)),\n",
        "    tf.keras.layers.Dense(64, activation='relu'),\n",
        "    tf.keras.layers.Dropout(0.5),\n",
        "    tf.keras.layers.Dense(1)\n",
        "])"
      ],
      "execution_count": 25,
      "outputs": []
    },
    {
      "cell_type": "code",
      "metadata": {
        "id": "PQOZIIYGI0qT"
      },
      "source": [
        "model.compile(loss=tf.keras.losses.BinaryCrossentropy(from_logits=True),\n",
        "              optimizer=tf.keras.optimizers.Adam(1e-4),\n",
        "              metrics=['accuracy'])"
      ],
      "execution_count": 26,
      "outputs": []
    },
    {
      "cell_type": "code",
      "metadata": {
        "colab": {
          "base_uri": "https://localhost:8080/"
        },
        "id": "mUb9RdY3I3UD",
        "outputId": "9b625358-ba4c-412e-e2d5-b06dcd000877"
      },
      "source": [
        "history = model.fit(train_dataset, epochs=10,\n",
        "                    validation_data=test_dataset,\n",
        "                    validation_steps=30)"
      ],
      "execution_count": null,
      "outputs": [
        {
          "output_type": "stream",
          "name": "stdout",
          "text": [
            "Epoch 1/10\n",
            "391/391 [==============================] - 1241s 3s/step - loss: 0.6215 - accuracy: 0.5917 - val_loss: 0.4249 - val_accuracy: 0.8193\n",
            "Epoch 2/10\n",
            "391/391 [==============================] - 1217s 3s/step - loss: 0.3815 - accuracy: 0.8332 - val_loss: 0.3476 - val_accuracy: 0.8380\n",
            "Epoch 3/10\n",
            "391/391 [==============================] - 1206s 3s/step - loss: 0.3353 - accuracy: 0.8583 - val_loss: 0.3277 - val_accuracy: 0.8526\n",
            "Epoch 4/10\n",
            "391/391 [==============================] - 1208s 3s/step - loss: 0.3203 - accuracy: 0.8646 - val_loss: 0.3284 - val_accuracy: 0.8557\n",
            "Epoch 5/10\n",
            "219/391 [===============>..............] - ETA: 8:40 - loss: 0.3090 - accuracy: 0.8733"
          ]
        }
      ]
    },
    {
      "cell_type": "code",
      "metadata": {
        "id": "9K3sJYMlI6Yr"
      },
      "source": [
        "test_loss, test_acc = model.evaluate(test_dataset)\n",
        "\n",
        "print('Test Loss:', test_loss)\n",
        "print('Test Accuracy:', test_acc)"
      ],
      "execution_count": null,
      "outputs": []
    },
    {
      "cell_type": "code",
      "metadata": {
        "id": "DxlNfSp5JDu7"
      },
      "source": [
        "# predict on a sample text without padding.\n",
        "\n",
        "sample_text = ('The movie was not good. The animation and the graphics '\n",
        "               'were terrible. I would not recommend this movie.')\n",
        "predictions = model.predict(np.array([sample_text]))\n",
        "print(predictions)"
      ],
      "execution_count": null,
      "outputs": []
    },
    {
      "cell_type": "code",
      "metadata": {
        "id": "L1kCxvJQJT3q"
      },
      "source": [
        "plt.figure(figsize=(16, 6))\n",
        "plt.subplot(1, 2, 1)\n",
        "plot_graphs(history, 'accuracy')\n",
        "plt.subplot(1, 2, 2)\n",
        "plot_graphs(history, 'loss')"
      ],
      "execution_count": null,
      "outputs": []
    }
  ]
}