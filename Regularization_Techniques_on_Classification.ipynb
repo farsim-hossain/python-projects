{
  "nbformat": 4,
  "nbformat_minor": 0,
  "metadata": {
    "colab": {
      "name": "Regularization Techniques on Classification.ipynb",
      "provenance": [],
      "toc_visible": true,
      "authorship_tag": "ABX9TyOxKhFOivEs8xGjrWLmoqKk",
      "include_colab_link": true
    },
    "kernelspec": {
      "name": "python3",
      "display_name": "Python 3"
    },
    "language_info": {
      "name": "python"
    }
  },
  "cells": [
    {
      "cell_type": "markdown",
      "metadata": {
        "id": "view-in-github",
        "colab_type": "text"
      },
      "source": [
        "<a href=\"https://colab.research.google.com/github/farsim-hossain/python-projects/blob/main/Regularization_Techniques_on_Classification.ipynb\" target=\"_parent\"><img src=\"https://colab.research.google.com/assets/colab-badge.svg\" alt=\"Open In Colab\"/></a>"
      ]
    },
    {
      "cell_type": "markdown",
      "metadata": {
        "id": "-AYCyXqjjJ1W"
      },
      "source": [
        "# Preventing Overfitting With Regularizations"
      ]
    },
    {
      "cell_type": "code",
      "metadata": {
        "colab": {
          "base_uri": "https://localhost:8080/"
        },
        "id": "4SQuS0JAjPtB",
        "outputId": "0c342d50-4814-46f4-d070-6eb4334390db"
      },
      "source": [
        "import tensorflow as tf \n",
        "\n",
        "from tensorflow.keras import layers \n",
        "from tensorflow.keras import regularizers\n",
        "\n",
        "print(tf.__version__)"
      ],
      "execution_count": 1,
      "outputs": [
        {
          "output_type": "stream",
          "text": [
            "2.4.1\n"
          ],
          "name": "stdout"
        }
      ]
    },
    {
      "cell_type": "code",
      "metadata": {
        "colab": {
          "base_uri": "https://localhost:8080/"
        },
        "id": "g-0hPSuSjgsx",
        "outputId": "edbd96b7-8f0f-4abd-9eaa-1340256612a4"
      },
      "source": [
        "!pip install -q git+https://github.com/tensorflow/docs\n",
        "\n",
        "import tensorflow_docs as tfdocs\n",
        "import tensorflow_docs.modeling\n",
        "import tensorflow_docs.plots"
      ],
      "execution_count": 4,
      "outputs": [
        {
          "output_type": "stream",
          "text": [
            "\u001b[?25l\r\u001b[K     |▎                               | 10kB 13.1MB/s eta 0:00:01\r\u001b[K     |▋                               | 20kB 17.8MB/s eta 0:00:01\r\u001b[K     |█                               | 30kB 12.7MB/s eta 0:00:01\r\u001b[K     |█▎                              | 40kB 9.5MB/s eta 0:00:01\r\u001b[K     |█▋                              | 51kB 5.5MB/s eta 0:00:01\r\u001b[K     |██                              | 61kB 5.5MB/s eta 0:00:01\r\u001b[K     |██▎                             | 71kB 5.9MB/s eta 0:00:01\r\u001b[K     |██▋                             | 81kB 6.5MB/s eta 0:00:01\r\u001b[K     |██▉                             | 92kB 6.6MB/s eta 0:00:01\r\u001b[K     |███▏                            | 102kB 6.9MB/s eta 0:00:01\r\u001b[K     |███▌                            | 112kB 6.9MB/s eta 0:00:01\r\u001b[K     |███▉                            | 122kB 6.9MB/s eta 0:00:01\r\u001b[K     |████▏                           | 133kB 6.9MB/s eta 0:00:01\r\u001b[K     |████▌                           | 143kB 6.9MB/s eta 0:00:01\r\u001b[K     |████▉                           | 153kB 6.9MB/s eta 0:00:01\r\u001b[K     |█████▏                          | 163kB 6.9MB/s eta 0:00:01\r\u001b[K     |█████▍                          | 174kB 6.9MB/s eta 0:00:01\r\u001b[K     |█████▊                          | 184kB 6.9MB/s eta 0:00:01\r\u001b[K     |██████                          | 194kB 6.9MB/s eta 0:00:01\r\u001b[K     |██████▍                         | 204kB 6.9MB/s eta 0:00:01\r\u001b[K     |██████▊                         | 215kB 6.9MB/s eta 0:00:01\r\u001b[K     |███████                         | 225kB 6.9MB/s eta 0:00:01\r\u001b[K     |███████▍                        | 235kB 6.9MB/s eta 0:00:01\r\u001b[K     |███████▊                        | 245kB 6.9MB/s eta 0:00:01\r\u001b[K     |████████                        | 256kB 6.9MB/s eta 0:00:01\r\u001b[K     |████████▎                       | 266kB 6.9MB/s eta 0:00:01\r\u001b[K     |████████▋                       | 276kB 6.9MB/s eta 0:00:01\r\u001b[K     |█████████                       | 286kB 6.9MB/s eta 0:00:01\r\u001b[K     |█████████▎                      | 296kB 6.9MB/s eta 0:00:01\r\u001b[K     |█████████▋                      | 307kB 6.9MB/s eta 0:00:01\r\u001b[K     |██████████                      | 317kB 6.9MB/s eta 0:00:01\r\u001b[K     |██████████▎                     | 327kB 6.9MB/s eta 0:00:01\r\u001b[K     |██████████▋                     | 337kB 6.9MB/s eta 0:00:01\r\u001b[K     |██████████▉                     | 348kB 6.9MB/s eta 0:00:01\r\u001b[K     |███████████▏                    | 358kB 6.9MB/s eta 0:00:01\r\u001b[K     |███████████▌                    | 368kB 6.9MB/s eta 0:00:01\r\u001b[K     |███████████▉                    | 378kB 6.9MB/s eta 0:00:01\r\u001b[K     |████████████▏                   | 389kB 6.9MB/s eta 0:00:01\r\u001b[K     |████████████▌                   | 399kB 6.9MB/s eta 0:00:01\r\u001b[K     |████████████▉                   | 409kB 6.9MB/s eta 0:00:01\r\u001b[K     |█████████████▏                  | 419kB 6.9MB/s eta 0:00:01\r\u001b[K     |█████████████▌                  | 430kB 6.9MB/s eta 0:00:01\r\u001b[K     |█████████████▊                  | 440kB 6.9MB/s eta 0:00:01\r\u001b[K     |██████████████                  | 450kB 6.9MB/s eta 0:00:01\r\u001b[K     |██████████████▍                 | 460kB 6.9MB/s eta 0:00:01\r\u001b[K     |██████████████▊                 | 471kB 6.9MB/s eta 0:00:01\r\u001b[K     |███████████████                 | 481kB 6.9MB/s eta 0:00:01\r\u001b[K     |███████████████▍                | 491kB 6.9MB/s eta 0:00:01\r\u001b[K     |███████████████▊                | 501kB 6.9MB/s eta 0:00:01\r\u001b[K     |████████████████                | 512kB 6.9MB/s eta 0:00:01\r\u001b[K     |████████████████▎               | 522kB 6.9MB/s eta 0:00:01\r\u001b[K     |████████████████▋               | 532kB 6.9MB/s eta 0:00:01\r\u001b[K     |█████████████████               | 542kB 6.9MB/s eta 0:00:01\r\u001b[K     |█████████████████▎              | 552kB 6.9MB/s eta 0:00:01\r\u001b[K     |█████████████████▋              | 563kB 6.9MB/s eta 0:00:01\r\u001b[K     |██████████████████              | 573kB 6.9MB/s eta 0:00:01\r\u001b[K     |██████████████████▎             | 583kB 6.9MB/s eta 0:00:01\r\u001b[K     |██████████████████▋             | 593kB 6.9MB/s eta 0:00:01\r\u001b[K     |███████████████████             | 604kB 6.9MB/s eta 0:00:01\r\u001b[K     |███████████████████▏            | 614kB 6.9MB/s eta 0:00:01\r\u001b[K     |███████████████████▌            | 624kB 6.9MB/s eta 0:00:01\r\u001b[K     |███████████████████▉            | 634kB 6.9MB/s eta 0:00:01\r\u001b[K     |████████████████████▏           | 645kB 6.9MB/s eta 0:00:01\r\u001b[K     |████████████████████▌           | 655kB 6.9MB/s eta 0:00:01\r\u001b[K     |████████████████████▉           | 665kB 6.9MB/s eta 0:00:01\r\u001b[K     |█████████████████████▏          | 675kB 6.9MB/s eta 0:00:01\r\u001b[K     |█████████████████████▌          | 686kB 6.9MB/s eta 0:00:01\r\u001b[K     |█████████████████████▊          | 696kB 6.9MB/s eta 0:00:01\r\u001b[K     |██████████████████████          | 706kB 6.9MB/s eta 0:00:01\r\u001b[K     |██████████████████████▍         | 716kB 6.9MB/s eta 0:00:01\r\u001b[K     |██████████████████████▊         | 727kB 6.9MB/s eta 0:00:01\r\u001b[K     |███████████████████████         | 737kB 6.9MB/s eta 0:00:01\r\u001b[K     |███████████████████████▍        | 747kB 6.9MB/s eta 0:00:01\r\u001b[K     |███████████████████████▊        | 757kB 6.9MB/s eta 0:00:01\r\u001b[K     |████████████████████████        | 768kB 6.9MB/s eta 0:00:01\r\u001b[K     |████████████████████████▍       | 778kB 6.9MB/s eta 0:00:01\r\u001b[K     |████████████████████████▋       | 788kB 6.9MB/s eta 0:00:01\r\u001b[K     |█████████████████████████       | 798kB 6.9MB/s eta 0:00:01\r\u001b[K     |█████████████████████████▎      | 808kB 6.9MB/s eta 0:00:01\r\u001b[K     |█████████████████████████▋      | 819kB 6.9MB/s eta 0:00:01\r\u001b[K     |██████████████████████████      | 829kB 6.9MB/s eta 0:00:01\r\u001b[K     |██████████████████████████▎     | 839kB 6.9MB/s eta 0:00:01\r\u001b[K     |██████████████████████████▋     | 849kB 6.9MB/s eta 0:00:01\r\u001b[K     |███████████████████████████     | 860kB 6.9MB/s eta 0:00:01\r\u001b[K     |███████████████████████████▏    | 870kB 6.9MB/s eta 0:00:01\r\u001b[K     |███████████████████████████▌    | 880kB 6.9MB/s eta 0:00:01\r\u001b[K     |███████████████████████████▉    | 890kB 6.9MB/s eta 0:00:01\r\u001b[K     |████████████████████████████▏   | 901kB 6.9MB/s eta 0:00:01\r\u001b[K     |████████████████████████████▌   | 911kB 6.9MB/s eta 0:00:01\r\u001b[K     |████████████████████████████▉   | 921kB 6.9MB/s eta 0:00:01\r\u001b[K     |█████████████████████████████▏  | 931kB 6.9MB/s eta 0:00:01\r\u001b[K     |█████████████████████████████▌  | 942kB 6.9MB/s eta 0:00:01\r\u001b[K     |█████████████████████████████▉  | 952kB 6.9MB/s eta 0:00:01\r\u001b[K     |██████████████████████████████  | 962kB 6.9MB/s eta 0:00:01\r\u001b[K     |██████████████████████████████▍ | 972kB 6.9MB/s eta 0:00:01\r\u001b[K     |██████████████████████████████▊ | 983kB 6.9MB/s eta 0:00:01\r\u001b[K     |███████████████████████████████ | 993kB 6.9MB/s eta 0:00:01\r\u001b[K     |███████████████████████████████▍| 1.0MB 6.9MB/s eta 0:00:01\r\u001b[K     |███████████████████████████████▊| 1.0MB 6.9MB/s eta 0:00:01\r\u001b[K     |████████████████████████████████| 1.0MB 6.9MB/s \n",
            "\u001b[?25h  Building wheel for tensorflow-docs (setup.py) ... \u001b[?25l\u001b[?25hdone\n"
          ],
          "name": "stdout"
        }
      ]
    },
    {
      "cell_type": "code",
      "metadata": {
        "id": "2iqt9nkJjwvD"
      },
      "source": [
        "from IPython import display\n",
        "from matplotlib import pyplot as plt\n",
        "\n",
        "import numpy as np \n",
        "\n",
        "import pathlib\n",
        "import shutil\n",
        "import tempfile "
      ],
      "execution_count": 5,
      "outputs": []
    },
    {
      "cell_type": "code",
      "metadata": {
        "id": "wPKifpWIkY3w"
      },
      "source": [
        "logdir = pathlib.Path(tempfile.mkdtemp())/\"tensorboard_logs\"\n",
        "shutil.rmtree(logdir, ignore_errors=True)\n",
        "\n"
      ],
      "execution_count": 27,
      "outputs": []
    },
    {
      "cell_type": "markdown",
      "metadata": {
        "id": "txaz2ecklH--"
      },
      "source": [
        "## The Higgs Dataset \n",
        "It contains 11 000 000 examples, each with 28 features, and a binary class label."
      ]
    },
    {
      "cell_type": "code",
      "metadata": {
        "colab": {
          "base_uri": "https://localhost:8080/"
        },
        "id": "GaYXZ2NslMMR",
        "outputId": "2e6ae37c-019b-48db-93ef-ccb08984927f"
      },
      "source": [
        "gz = tf.keras.utils.get_file('HIGGS.csv.gz', 'http://mlphysics.ics.uci.edu/data/higgs/HIGGS.csv.gz')"
      ],
      "execution_count": 6,
      "outputs": [
        {
          "output_type": "stream",
          "text": [
            "Downloading data from http://mlphysics.ics.uci.edu/data/higgs/HIGGS.csv.gz\n",
            "2816409600/2816407858 [==============================] - 70s 0us/step\n"
          ],
          "name": "stdout"
        }
      ]
    },
    {
      "cell_type": "markdown",
      "metadata": {
        "id": "ynUer3Ublpw4"
      },
      "source": [
        "The tf.data.experimental.CsvDataset class can be used to read csv records directly from a gzip file with no intermediate decompression step."
      ]
    },
    {
      "cell_type": "code",
      "metadata": {
        "id": "aVdRonBrlZD-"
      },
      "source": [
        "FEATURES = 28\n",
        "\n",
        "ds = tf.data.experimental.CsvDataset(gz, [float(),]*(FEATURES+1),compression_type = \"GZIP\")\n"
      ],
      "execution_count": 8,
      "outputs": []
    },
    {
      "cell_type": "markdown",
      "metadata": {
        "id": "k5ftTfnnmVa8"
      },
      "source": [
        "That csv reader class returns a list of scalars for each record. The following function repacks that list of scalars into a (feature_vector, label) pair."
      ]
    },
    {
      "cell_type": "code",
      "metadata": {
        "id": "J9z2BlKOl_N2"
      },
      "source": [
        "# I guess this functions is just to make an organized view of rows\n",
        "def pack_row(*row):\n",
        "  label = row[0]\n",
        "  features = tf.stack(row[1:],1)\n",
        "  return features, label\n"
      ],
      "execution_count": 9,
      "outputs": []
    },
    {
      "cell_type": "markdown",
      "metadata": {
        "id": "ErdNwl3-m4-5"
      },
      "source": [
        "TensorFlow is most efficient when operating on large batches of data.\n",
        "\n",
        "So instead of repacking each row individually make a new Dataset that takes batches of 10000-examples, applies the pack_row function to each batch, and then splits the batches back up into individual records:"
      ]
    },
    {
      "cell_type": "code",
      "metadata": {
        "id": "gNwzmPNlmxOq"
      },
      "source": [
        "packed_ds = ds.batch(10000).map(pack_row).unbatch()"
      ],
      "execution_count": 10,
      "outputs": []
    },
    {
      "cell_type": "markdown",
      "metadata": {
        "id": "pgixmMsanK3a"
      },
      "source": [
        "Have a look at some of the records from this new packed_ds.\n",
        "\n",
        "The features are not perfectly normalized, but this is sufficient for this tutorial.# l"
      ]
    },
    {
      "cell_type": "code",
      "metadata": {
        "colab": {
          "base_uri": "https://localhost:8080/",
          "height": 367
        },
        "id": "SLm46zYPnDlH",
        "outputId": "92327174-01c8-4c2a-db93-f23a9348cd17"
      },
      "source": [
        "# Take a look at the first data point\n",
        "for features,label in packed_ds.batch(1000).take(1):\n",
        "  print(features[0])\n",
        "  plt.hist(features.numpy().flatten(),bins =101)"
      ],
      "execution_count": 11,
      "outputs": [
        {
          "output_type": "stream",
          "text": [
            "tf.Tensor(\n",
            "[ 0.8692932  -0.6350818   0.22569026  0.32747006 -0.6899932   0.75420225\n",
            " -0.24857314 -1.0920639   0.          1.3749921  -0.6536742   0.9303491\n",
            "  1.1074361   1.1389043  -1.5781983  -1.0469854   0.          0.65792954\n",
            " -0.01045457 -0.04576717  3.1019614   1.35376     0.9795631   0.97807616\n",
            "  0.92000484  0.72165745  0.98875093  0.87667835], shape=(28,), dtype=float32)\n"
          ],
          "name": "stdout"
        },
        {
          "output_type": "display_data",
          "data": {
            "image/png": "[encoded data removed]",
            "text/plain": [
              "<Figure size 432x288 with 1 Axes>"
            ]
          },
          "metadata": {
            "tags": [],
            "needs_background": "light"
          }
        }
      ]
    },
    {
      "cell_type": "markdown",
      "metadata": {
        "id": "63rgh8rnn4pf"
      },
      "source": [
        "To keep this tutorial relatively short use just the first 1000 samples for validation, and the next 10 000 for training:"
      ]
    },
    {
      "cell_type": "code",
      "metadata": {
        "id": "gWBYQrs8nn8E"
      },
      "source": [
        "N_VALIDATION =int(1e3)\n",
        "N_TRAIN = int(1e4)\n",
        "\n",
        "BUFFER_SIZE = int(1e4)\n",
        "BATCH_SIZE = 500\n",
        "\n",
        "STEPS_PER_EPOCH = N_TRAIN//BATCH_SIZE"
      ],
      "execution_count": 12,
      "outputs": []
    },
    {
      "cell_type": "markdown",
      "metadata": {
        "id": "TcRyCJhJodhK"
      },
      "source": [
        "The Dataset.skip and Dataset.take methods make this easy.\n",
        "\n",
        "At the same time, use the Dataset.cache method to ensure that the loader doesn't need to re-read the data from the file on each epoch:"
      ]
    },
    {
      "cell_type": "code",
      "metadata": {
        "id": "L0ocTbrToRRX"
      },
      "source": [
        "# Basically splitting the dataset into train and validation....these fancy \n",
        "#stuffs are used to handle large number of data\n",
        "validate_ds = packed_ds.take(N_VALIDATION).cache()\n",
        "train_ds = packed_ds.skip(N_VALIDATION).take(N_TRAIN).cache()"
      ],
      "execution_count": 13,
      "outputs": []
    },
    {
      "cell_type": "code",
      "metadata": {
        "colab": {
          "base_uri": "https://localhost:8080/"
        },
        "id": "8IMhxnPhphFX",
        "outputId": "06add6e5-6c19-4eb3-8d22-f59f1771bead"
      },
      "source": [
        "train_ds "
      ],
      "execution_count": 14,
      "outputs": [
        {
          "output_type": "execute_result",
          "data": {
            "text/plain": [
              "<CacheDataset shapes: ((28,), ()), types: (tf.float32, tf.float32)>"
            ]
          },
          "metadata": {
            "tags": []
          },
          "execution_count": 14
        }
      ]
    },
    {
      "cell_type": "markdown",
      "metadata": {
        "id": "6qB4ARcNptcX"
      },
      "source": [
        "These datasets return individual examples. Use the .batch method to create batches of an appropriate size for training. Before batching also remember to .shuffle and .repeat the training set."
      ]
    },
    {
      "cell_type": "code",
      "metadata": {
        "id": "QdWm_fk0pjZy"
      },
      "source": [
        "validate_ds = validate_ds.batch(BATCH_SIZE)\n",
        "train_ds = train_ds.shuffle(BUFFER_SIZE).repeat().batch(BATCH_SIZE)"
      ],
      "execution_count": 15,
      "outputs": []
    },
    {
      "cell_type": "markdown",
      "metadata": {
        "id": "TbP3pVeIr05W"
      },
      "source": [
        "The simplest way to prevent overfitting is to start with a small model: A model with a small number of learnable parameters (which is determined by the number of layers and the number of units per layer). In deep learning, the number of learnable parameters in a model is often referred to as the model's \"capacity\".\n",
        "\n",
        "Intuitively, a model with more parameters will have more \"memorization capacity\" and therefore will be able to easily learn a perfect dictionary-like mapping between training samples and their targets, a mapping without any generalization power, but this would be useless when making predictions on previously unseen data.\n",
        "\n",
        "Start with a simple model using only layers.Dense as a baseline, then create larger versions, and compare them.\n",
        "\n",
        "## Training Precedure \n",
        "\n",
        "Many models train better if you gradually reduce the learning rate during training. Use optimizers.schedules to reduce the learning rate over time:\n"
      ]
    },
    {
      "cell_type": "code",
      "metadata": {
        "id": "PmqEWWM-rOna"
      },
      "source": [
        "lr_schedule = tf.keras.optimizers.schedules.InverseTimeDecay(\n",
        "    0.001,\n",
        "    decay_steps = STEPS_PER_EPOCH*1000,\n",
        "    decay_rate=1,\n",
        "    staircase=False\n",
        ")\n",
        "\n",
        "\n",
        "def get_optimizer():\n",
        "  return tf.keras.optimizers.Adam(lr_schedule)\n",
        "\n",
        "  "
      ],
      "execution_count": 16,
      "outputs": []
    },
    {
      "cell_type": "markdown",
      "metadata": {
        "id": "Kg5VhBzksmYR"
      },
      "source": [
        "## ITS ALL ABOUT EXPERIMENT AND NOODLING \n",
        "\n",
        "Lets visualize how the learning rate would drop"
      ]
    },
    {
      "cell_type": "code",
      "metadata": {
        "colab": {
          "base_uri": "https://localhost:8080/",
          "height": 388
        },
        "id": "uQEkEPiyskfP",
        "outputId": "46cdeb9c-ca3e-4a7d-d627-256e8b152824"
      },
      "source": [
        "step = np.linspace(0,100000)\n",
        "lr = lr_schedule(step)\n",
        "plt.figure(figsize= (8,6))\n",
        "plt.plot(step/STEPS_PER_EPOCH, lr)\n",
        "plt.ylim([0,max(plt.ylim())])\n",
        "plt.xlabel('Epoch')\n",
        "\n",
        "_=plt.ylabel('Learning Rate')"
      ],
      "execution_count": 17,
      "outputs": [
        {
          "output_type": "display_data",
          "data": {
            "image/png": "[encoded data removed]",
            "text/plain": [
              "<Figure size 576x432 with 1 Axes>"
            ]
          },
          "metadata": {
            "tags": [],
            "needs_background": "light"
          }
        }
      ]
    },
    {
      "cell_type": "markdown",
      "metadata": {
        "id": "8fgNRIQKt10W"
      },
      "source": [
        "## Recuding the logging for this large data\n",
        "\n",
        "Each model in this tutorial will use the same training configuration. So set these up in a reusable way, starting with the list of callbacks.\n",
        "\n",
        "The training for this tutorial runs for many short epochs. To reduce the logging noise use the tfdocs.EpochDots which simply prints a . for each epoch, and a full set of metrics every 100 epochs.\n",
        "\n",
        "Next include callbacks.EarlyStopping to avoid long and unnecessary training times. Note that this callback is set to monitor the val_binary_crossentropy, not the val_loss. This difference will be important later.\n",
        "\n",
        "Use callbacks.TensorBoard to generate TensorBoard logs for the training."
      ]
    },
    {
      "cell_type": "code",
      "metadata": {
        "id": "_QrTyNQFtWlw"
      },
      "source": [
        "def get_callbacks(name):\n",
        "  return [\n",
        "    tfdocs.modeling.EpochDots(),\n",
        "    tf.keras.callbacks.EarlyStopping(monitor='val_binary_crossentropy', patience=200),\n",
        "    tf.keras.callbacks.TensorBoard(logdir/name),\n",
        "  ]"
      ],
      "execution_count": 25,
      "outputs": []
    },
    {
      "cell_type": "markdown",
      "metadata": {
        "id": "vSlgzGjIvFaY"
      },
      "source": [
        "## Model"
      ]
    },
    {
      "cell_type": "code",
      "metadata": {
        "id": "BJ6o_PUWuxYS"
      },
      "source": [
        "def compile_and_fit(model, name, optimizer=None, max_epochs=10000):\n",
        "  if optimizer is None:\n",
        "    optimizer = get_optimizer()\n",
        "    model.compile(optimizer=optimizer,\n",
        "                  loss = tf.keras.losses.BinaryCrossentropy(from_logits=True),\n",
        "                  metrics = [\n",
        "                             tf.keras.losses.BinaryCrossentropy(\n",
        "                                 from_logits = True, name = 'binary_crossentropy'\n",
        "                             ), 'accuracy'\n",
        "                  ])\n",
        "  model.summary()\n",
        "  history = model.fit(\n",
        "      train_ds,\n",
        "      steps_per_epoch = STEPS_PER_EPOCH,\n",
        "      epochs = max_epochs,\n",
        "      validation_data = validate_ds,\n",
        "      callbacks = get_callbacks(name),\n",
        "      verbose = 0\n",
        "  )\n",
        "\n",
        "  return history"
      ],
      "execution_count": 21,
      "outputs": []
    },
    {
      "cell_type": "markdown",
      "metadata": {
        "id": "hAhPNxqrxGgA"
      },
      "source": [
        "So far we just designed the model with optimizers. There are more layers need to be fit in. We will try with a very small model now."
      ]
    },
    {
      "cell_type": "code",
      "metadata": {
        "id": "p40d8446w9MY"
      },
      "source": [
        "tiny_model = tf.keras.Sequential([\n",
        "    layers.Dense(16, activation = 'elu', input_shape = (FEATURES,)),\n",
        "    layers.Dense(1)\n",
        "])\n"
      ],
      "execution_count": 22,
      "outputs": []
    },
    {
      "cell_type": "code",
      "metadata": {
        "id": "JP7zZB5Cx2OC"
      },
      "source": [
        "# make an empty dictionary to sve models \n",
        "\n",
        "size_histories = {}\n"
      ],
      "execution_count": 23,
      "outputs": []
    },
    {
      "cell_type": "code",
      "metadata": {
        "colab": {
          "base_uri": "https://localhost:8080/"
        },
        "id": "kbRa6gvkyFtc",
        "outputId": "b677d74b-a188-40ae-8cbc-1e1c9c569c32"
      },
      "source": [
        "size_histories['Tiny'] = compile_and_fit(tiny_model, 'sizes/Tiny')"
      ],
      "execution_count": 28,
      "outputs": [
        {
          "output_type": "stream",
          "text": [
            "Model: \"sequential\"\n",
            "_________________________________________________________________\n",
            "Layer (type)                 Output Shape              Param #   \n",
            "=================================================================\n",
            "dense (Dense)                (None, 16)                464       \n",
            "_________________________________________________________________\n",
            "dense_1 (Dense)              (None, 1)                 17        \n",
            "=================================================================\n",
            "Total params: 481\n",
            "Trainable params: 481\n",
            "Non-trainable params: 0\n",
            "_________________________________________________________________\n",
            "WARNING:tensorflow:Callback method `on_train_batch_end` is slow compared to the batch time (batch time: 0.0043s vs `on_train_batch_end` time: 0.0201s). Check your callbacks.\n",
            "\n",
            "Epoch: 0, accuracy:0.4992,  binary_crossentropy:0.7271,  loss:0.7271,  val_accuracy:0.4640,  val_binary_crossentropy:0.7232,  val_loss:0.7232,  \n",
            "....................................................................................................\n",
            "Epoch: 100, accuracy:0.6052,  binary_crossentropy:0.6224,  loss:0.6224,  val_accuracy:0.5880,  val_binary_crossentropy:0.6223,  val_loss:0.6223,  \n",
            "....................................................................................................\n",
            "Epoch: 200, accuracy:0.6408,  binary_crossentropy:0.6058,  loss:0.6058,  val_accuracy:0.5960,  val_binary_crossentropy:0.6039,  val_loss:0.6039,  \n",
            "....................................................................................................\n",
            "Epoch: 300, accuracy:0.6536,  binary_crossentropy:0.5938,  loss:0.5938,  val_accuracy:0.6460,  val_binary_crossentropy:0.5889,  val_loss:0.5889,  \n",
            "....................................................................................................\n",
            "Epoch: 400, accuracy:0.6639,  binary_crossentropy:0.5878,  loss:0.5878,  val_accuracy:0.6620,  val_binary_crossentropy:0.5841,  val_loss:0.5841,  \n",
            "....................................................................................................\n",
            "Epoch: 500, accuracy:0.6697,  binary_crossentropy:0.5838,  loss:0.5838,  val_accuracy:0.6540,  val_binary_crossentropy:0.5809,  val_loss:0.5809,  \n",
            "....................................................................................................\n",
            "Epoch: 600, accuracy:0.6729,  binary_crossentropy:0.5808,  loss:0.5808,  val_accuracy:0.6610,  val_binary_crossentropy:0.5788,  val_loss:0.5788,  \n",
            "....................................................................................................\n",
            "Epoch: 700, accuracy:0.6758,  binary_crossentropy:0.5787,  loss:0.5787,  val_accuracy:0.6700,  val_binary_crossentropy:0.5764,  val_loss:0.5764,  \n",
            "....................................................................................................\n",
            "Epoch: 800, accuracy:0.6781,  binary_crossentropy:0.5758,  loss:0.5758,  val_accuracy:0.6550,  val_binary_crossentropy:0.5766,  val_loss:0.5766,  \n",
            "....................................................................................................\n",
            "Epoch: 900, accuracy:0.6798,  binary_crossentropy:0.5737,  loss:0.5737,  val_accuracy:0.6650,  val_binary_crossentropy:0.5755,  val_loss:0.5755,  \n",
            "....................................................................................................\n",
            "Epoch: 1000, accuracy:0.6772,  binary_crossentropy:0.5729,  loss:0.5729,  val_accuracy:0.6520,  val_binary_crossentropy:0.5774,  val_loss:0.5774,  \n",
            "....................................................................................................\n",
            "Epoch: 1100, accuracy:0.6825,  binary_crossentropy:0.5706,  loss:0.5706,  val_accuracy:0.6610,  val_binary_crossentropy:0.5753,  val_loss:0.5753,  \n",
            "....................................................................................................\n",
            "Epoch: 1200, accuracy:0.6816,  binary_crossentropy:0.5693,  loss:0.5693,  val_accuracy:0.6710,  val_binary_crossentropy:0.5736,  val_loss:0.5736,  \n",
            "....................................................................................................\n",
            "Epoch: 1300, accuracy:0.6832,  binary_crossentropy:0.5682,  loss:0.5682,  val_accuracy:0.6720,  val_binary_crossentropy:0.5726,  val_loss:0.5726,  \n",
            "....................................................................................................\n",
            "Epoch: 1400, accuracy:0.6834,  binary_crossentropy:0.5680,  loss:0.5680,  val_accuracy:0.6540,  val_binary_crossentropy:0.5751,  val_loss:0.5751,  \n",
            "....................................................................................................\n",
            "Epoch: 1500, accuracy:0.6844,  binary_crossentropy:0.5666,  loss:0.5666,  val_accuracy:0.6700,  val_binary_crossentropy:0.5725,  val_loss:0.5725,  \n",
            "....................................................................................................\n",
            "Epoch: 1600, accuracy:0.6839,  binary_crossentropy:0.5660,  loss:0.5660,  val_accuracy:0.6740,  val_binary_crossentropy:0.5713,  val_loss:0.5713,  \n",
            "....................................................................................................\n",
            "Epoch: 1700, accuracy:0.6823,  binary_crossentropy:0.5650,  loss:0.5650,  val_accuracy:0.6760,  val_binary_crossentropy:0.5709,  val_loss:0.5709,  \n",
            "....................................................................................................\n",
            "Epoch: 1800, accuracy:0.6831,  binary_crossentropy:0.5651,  loss:0.5651,  val_accuracy:0.6800,  val_binary_crossentropy:0.5704,  val_loss:0.5704,  \n",
            "....................................................................................................\n",
            "Epoch: 1900, accuracy:0.6834,  binary_crossentropy:0.5638,  loss:0.5638,  val_accuracy:0.6690,  val_binary_crossentropy:0.5718,  val_loss:0.5718,  \n",
            "................................."
          ],
          "name": "stdout"
        }
      ]
    },
    {
      "cell_type": "markdown",
      "metadata": {
        "id": "Iq1xccRtz7OB"
      },
      "source": [
        "# Lets visualize the model performance "
      ]
    },
    {
      "cell_type": "code",
      "metadata": {
        "colab": {
          "base_uri": "https://localhost:8080/",
          "height": 300
        },
        "id": "ZjfpzVtXyOyy",
        "outputId": "53e0ee95-1571-4539-88ac-e2b340317fbc"
      },
      "source": [
        "plotter = tfdocs.plots.HistoryPlotter(metric = 'binary_crossentropy', smoothing_std=10)\n",
        "plotter.plot(size_histories)\n",
        "plt.ylim([0.5, 0.7])"
      ],
      "execution_count": 29,
      "outputs": [
        {
          "output_type": "execute_result",
          "data": {
            "text/plain": [
              "(0.5, 0.7)"
            ]
          },
          "metadata": {
            "tags": []
          },
          "execution_count": 29
        },
        {
          "output_type": "display_data",
          "data": {
            "image/png": "[encoded data removed]",
            "text/plain": [
              "<Figure size 432x288 with 1 Axes>"
            ]
          },
          "metadata": {
            "tags": [],
            "needs_background": "light"
          }
        }
      ]
    },
    {
      "cell_type": "markdown",
      "metadata": {
        "id": "Iq6F8kZZ0TEF"
      },
      "source": [
        "## Lets try with more layers \n",
        "\n"
      ]
    },
    {
      "cell_type": "code",
      "metadata": {
        "id": "Ew8YK_1M0Q-e"
      },
      "source": [
        "small_model = tf.keras.Sequential([\n",
        "                                   layers.Dense(16, activation='elu', input_shape = (FEATURES,)),\n",
        "                                   layers.Dense(16, activation = 'elu'),\n",
        "                                   layers.Dense(1)\n",
        "                                   \n",
        "])"
      ],
      "execution_count": 30,
      "outputs": []
    },
    {
      "cell_type": "code",
      "metadata": {
        "colab": {
          "base_uri": "https://localhost:8080/"
        },
        "id": "YJnDWuvH0tmK",
        "outputId": "472f6644-d6b3-42da-84da-346ab51e832e"
      },
      "source": [
        "size_histories ['Small'] = compile_and_fit(small_model, 'sizes/Small')"
      ],
      "execution_count": 31,
      "outputs": [
        {
          "output_type": "stream",
          "text": [
            "Model: \"sequential_1\"\n",
            "_________________________________________________________________\n",
            "Layer (type)                 Output Shape              Param #   \n",
            "=================================================================\n",
            "dense_2 (Dense)              (None, 16)                464       \n",
            "_________________________________________________________________\n",
            "dense_3 (Dense)              (None, 16)                272       \n",
            "_________________________________________________________________\n",
            "dense_4 (Dense)              (None, 1)                 17        \n",
            "=================================================================\n",
            "Total params: 753\n",
            "Trainable params: 753\n",
            "Non-trainable params: 0\n",
            "_________________________________________________________________\n",
            "WARNING:tensorflow:Callback method `on_train_batch_end` is slow compared to the batch time (batch time: 0.0031s vs `on_train_batch_end` time: 0.0144s). Check your callbacks.\n",
            "\n",
            "Epoch: 0, accuracy:0.4849,  binary_crossentropy:0.7643,  loss:0.7643,  val_accuracy:0.4930,  val_binary_crossentropy:0.7013,  val_loss:0.7013,  \n",
            "....................................................................................................\n",
            "Epoch: 100, accuracy:0.6231,  binary_crossentropy:0.6122,  loss:0.6122,  val_accuracy:0.6140,  val_binary_crossentropy:0.6138,  val_loss:0.6138,  \n",
            "....................................................................................................\n",
            "Epoch: 200, accuracy:0.6561,  binary_crossentropy:0.5943,  loss:0.5943,  val_accuracy:0.6350,  val_binary_crossentropy:0.5981,  val_loss:0.5981,  \n",
            "....................................................................................................\n",
            "Epoch: 300, accuracy:0.6699,  binary_crossentropy:0.5812,  loss:0.5812,  val_accuracy:0.6560,  val_binary_crossentropy:0.5929,  val_loss:0.5929,  \n",
            "....................................................................................................\n",
            "Epoch: 400, accuracy:0.6753,  binary_crossentropy:0.5738,  loss:0.5738,  val_accuracy:0.6270,  val_binary_crossentropy:0.6003,  val_loss:0.6003,  \n",
            "....................................................................................................\n",
            "Epoch: 500, accuracy:0.6855,  binary_crossentropy:0.5673,  loss:0.5673,  val_accuracy:0.6510,  val_binary_crossentropy:0.5928,  val_loss:0.5928,  \n",
            "....................................................................................................\n",
            "Epoch: 600, accuracy:0.6880,  binary_crossentropy:0.5634,  loss:0.5634,  val_accuracy:0.6600,  val_binary_crossentropy:0.5918,  val_loss:0.5918,  \n",
            "............."
          ],
          "name": "stdout"
        }
      ]
    },
    {
      "cell_type": "markdown",
      "metadata": {
        "id": "7RsGxeYw03nA"
      },
      "source": [
        "## Medium Model \n",
        "Lets Try 3 hidden layers with 64 units each "
      ]
    },
    {
      "cell_type": "code",
      "metadata": {
        "id": "Q7NCk6OG08RZ"
      },
      "source": [
        "medium_model = tf.keras.Sequential([\n",
        "                                    layers.Dense(64, activation = 'elu', input_shape = (FEATURES,)),\n",
        "                                    layers.Dense(63, activation='elu'),\n",
        "                                    layers.Dense(64, activation ='elu'),\n",
        "                                    layers.Dense(1)\n",
        "])"
      ],
      "execution_count": 32,
      "outputs": []
    },
    {
      "cell_type": "code",
      "metadata": {
        "colab": {
          "base_uri": "https://localhost:8080/"
        },
        "id": "CU9RDJZk1Tzp",
        "outputId": "30516502-0f53-4f7b-a171-bd678e5f9ddc"
      },
      "source": [
        "size_histories ['Medium'] = compile_and_fit(medium_model, 'sizes/Medium')"
      ],
      "execution_count": 33,
      "outputs": [
        {
          "output_type": "stream",
          "text": [
            "Model: \"sequential_2\"\n",
            "_________________________________________________________________\n",
            "Layer (type)                 Output Shape              Param #   \n",
            "=================================================================\n",
            "dense_5 (Dense)              (None, 64)                1856      \n",
            "_________________________________________________________________\n",
            "dense_6 (Dense)              (None, 63)                4095      \n",
            "_________________________________________________________________\n",
            "dense_7 (Dense)              (None, 64)                4096      \n",
            "_________________________________________________________________\n",
            "dense_8 (Dense)              (None, 1)                 65        \n",
            "=================================================================\n",
            "Total params: 10,112\n",
            "Trainable params: 10,112\n",
            "Non-trainable params: 0\n",
            "_________________________________________________________________\n",
            "WARNING:tensorflow:Callback method `on_train_batch_end` is slow compared to the batch time (batch time: 0.0046s vs `on_train_batch_end` time: 0.0173s). Check your callbacks.\n",
            "\n",
            "Epoch: 0, accuracy:0.4978,  binary_crossentropy:0.6919,  loss:0.6919,  val_accuracy:0.4820,  val_binary_crossentropy:0.6733,  val_loss:0.6733,  \n",
            "....................................................................................................\n",
            "Epoch: 100, accuracy:0.7130,  binary_crossentropy:0.5303,  loss:0.5303,  val_accuracy:0.6730,  val_binary_crossentropy:0.5979,  val_loss:0.5979,  \n",
            "....................................................................................................\n",
            "Epoch: 200, accuracy:0.7870,  binary_crossentropy:0.4304,  loss:0.4304,  val_accuracy:0.6520,  val_binary_crossentropy:0.6737,  val_loss:0.6737,  \n",
            "........................................................."
          ],
          "name": "stdout"
        }
      ]
    },
    {
      "cell_type": "markdown",
      "metadata": {
        "id": "liQ8HQH91hA4"
      },
      "source": [
        "## Large Model "
      ]
    },
    {
      "cell_type": "code",
      "metadata": {
        "id": "9UPNJP1p1kDa"
      },
      "source": [
        "large_model = tf.keras.Sequential([\n",
        "                                   layers.Dense(512, activation='elu', input_shape =(FEATURES,)),\n",
        "                                   layers.Dense(512, activation = 'elu'),\n",
        "                                   layers.Dense(512, activation= 'elu'),\n",
        "                                   layers.Dense(512, activation='elu'),\n",
        "                                   layers.Dense(1)\n",
        "])"
      ],
      "execution_count": 34,
      "outputs": []
    },
    {
      "cell_type": "code",
      "metadata": {
        "colab": {
          "base_uri": "https://localhost:8080/"
        },
        "id": "0KBjnlQl1__h",
        "outputId": "9e345550-9e71-46a3-be6b-47d2e3138fd6"
      },
      "source": [
        "size_histories['large'] = compile_and_fit(large_model, \"sizes/large\")"
      ],
      "execution_count": 35,
      "outputs": [
        {
          "output_type": "stream",
          "text": [
            "Model: \"sequential_3\"\n",
            "_________________________________________________________________\n",
            "Layer (type)                 Output Shape              Param #   \n",
            "=================================================================\n",
            "dense_9 (Dense)              (None, 512)               14848     \n",
            "_________________________________________________________________\n",
            "dense_10 (Dense)             (None, 512)               262656    \n",
            "_________________________________________________________________\n",
            "dense_11 (Dense)             (None, 512)               262656    \n",
            "_________________________________________________________________\n",
            "dense_12 (Dense)             (None, 512)               262656    \n",
            "_________________________________________________________________\n",
            "dense_13 (Dense)             (None, 1)                 513       \n",
            "=================================================================\n",
            "Total params: 803,329\n",
            "Trainable params: 803,329\n",
            "Non-trainable params: 0\n",
            "_________________________________________________________________\n",
            "\n",
            "Epoch: 0, accuracy:0.5063,  binary_crossentropy:0.7399,  loss:0.7399,  val_accuracy:0.5580,  val_binary_crossentropy:0.6766,  val_loss:0.6766,  \n",
            "....................................................................................................\n",
            "Epoch: 100, accuracy:1.0000,  binary_crossentropy:0.0017,  loss:0.0017,  val_accuracy:0.6800,  val_binary_crossentropy:1.7107,  val_loss:1.7107,  \n",
            "....................................................................................................\n",
            "Epoch: 200, accuracy:1.0000,  binary_crossentropy:0.0001,  loss:0.0001,  val_accuracy:0.6810,  val_binary_crossentropy:2.2562,  val_loss:2.2562,  \n",
            "................."
          ],
          "name": "stdout"
        }
      ]
    },
    {
      "cell_type": "markdown",
      "metadata": {
        "id": "eX_g4N9z2yBV"
      },
      "source": [
        "## Plotting the models "
      ]
    },
    {
      "cell_type": "code",
      "metadata": {
        "colab": {
          "base_uri": "https://localhost:8080/",
          "height": 304
        },
        "id": "k5pDqhoa2Hda",
        "outputId": "c29965f5-f173-486f-c915-9c7fc470aaa9"
      },
      "source": [
        "plotter.plot(size_histories)\n",
        "a = plt.xscale('log')\n",
        "plt.xlim([5, max(plt.xlim())])\n",
        "plt.ylim([0.5, 0.7])\n",
        "plt.xlabel(\"Epochs [log scale]\")"
      ],
      "execution_count": 37,
      "outputs": [
        {
          "output_type": "execute_result",
          "data": {
            "text/plain": [
              "Text(0.5, 0, 'Epochs [log scale]')"
            ]
          },
          "metadata": {
            "tags": []
          },
          "execution_count": 37
        },
        {
          "output_type": "display_data",
          "data": {
            "image/png": "[encoded data removed]",
            "text/plain": [
              "<Figure size 432x288 with 1 Axes>"
            ]
          },
          "metadata": {
            "tags": [],
            "needs_background": "light"
          }
        }
      ]
    },
    {
      "cell_type": "markdown",
      "metadata": {
        "id": "mbxCaPpX3LWW"
      },
      "source": [
        "Clearly, the tiny model was better. **EARLYCALLBACK** stopped the training when it saw there was not significant improvement in the training"
      ]
    },
    {
      "cell_type": "code",
      "metadata": {
        "id": "-fmJVlHw3H4S"
      },
      "source": [
        ""
      ],
      "execution_count": null,
      "outputs": []
    }
  ]
}