{
  "nbformat": 4,
  "nbformat_minor": 0,
  "metadata": {
    "colab": {
      "name": "Loading CSV Data into TF.ipynb",
      "provenance": [],
      "authorship_tag": "ABX9TyPyt3KLkGhfRtEFb+OHdi0A",
      "include_colab_link": true
    },
    "kernelspec": {
      "name": "python3",
      "display_name": "Python 3"
    },
    "language_info": {
      "name": "python"
    }
  },
  "cells": [
    {
      "cell_type": "markdown",
      "metadata": {
        "id": "view-in-github",
        "colab_type": "text"
      },
      "source": [
        "<a href=\"https://colab.research.google.com/github/farsim-hossain/python-projects/blob/main/Various_ways_to_load_data_in_TF.ipynb\" target=\"_parent\"><img src=\"https://colab.research.google.com/assets/colab-badge.svg\" alt=\"Open In Colab\"/></a>"
      ]
    },
    {
      "cell_type": "markdown",
      "metadata": {
        "id": "F3Df7DY7iuzX"
      },
      "source": [
        "# Load CSV Data\n",
        "We will learn various methods of loading csv files. \"There are things beyond our imagination.\""
      ]
    },
    {
      "cell_type": "code",
      "metadata": {
        "id": "ECxS_SovhzfX"
      },
      "source": [
        "import pandas as pd \n",
        "import numpy as np \n",
        "\n",
        "np.set_printoptions(precision =3, suppress = True)\n",
        "\n",
        "import tensorflow as tf\n",
        "from tensorflow.keras import layers \n",
        "from tensorflow.keras.layers.experimental import preprocessing \n",
        "\n"
      ],
      "execution_count": 1,
      "outputs": []
    },
    {
      "cell_type": "markdown",
      "metadata": {
        "id": "33LW-hVmmmFJ"
      },
      "source": [
        "For any small CSV dataset the simplest way to train a TensorFlow model on it is to load it into memory as a pandas Dataframe or a NumPy array."
      ]
    },
    {
      "cell_type": "code",
      "metadata": {
        "colab": {
          "base_uri": "https://localhost:8080/",
          "height": 221
        },
        "id": "H6i9yRbNmafk",
        "outputId": "0a71c115-9733-4087-a21a-f74a1821770f"
      },
      "source": [
        "abalone_train = pd.read_csv(\"https://storage.googleapis.com/download.tensorflow.org/data/abalone_train.csv\",\n",
        "                            names = [\"Length\", \"Diameter\", \"Height\", \"Whole weight\", \"Shucked weight\",\n",
        "           \"Viscera weight\", \"Shell weight\", \"Age\"])\n",
        "\n",
        "abalone_train.head()"
      ],
      "execution_count": 2,
      "outputs": [
        {
          "output_type": "execute_result",
          "data": {
            "text/html": [
              "<div>\n",
              "<style scoped>\n",
              "    .dataframe tbody tr th:only-of-type {\n",
              "        vertical-align: middle;\n",
              "    }\n",
              "\n",
              "    .dataframe tbody tr th {\n",
              "        vertical-align: top;\n",
              "    }\n",
              "\n",
              "    .dataframe thead th {\n",
              "        text-align: right;\n",
              "    }\n",
              "</style>\n",
              "<table border=\"1\" class=\"dataframe\">\n",
              "  <thead>\n",
              "    <tr style=\"text-align: right;\">\n",
              "      <th></th>\n",
              "      <th>Length</th>\n",
              "      <th>Diameter</th>\n",
              "      <th>Height</th>\n",
              "      <th>Whole weight</th>\n",
              "      <th>Shucked weight</th>\n",
              "      <th>Viscera weight</th>\n",
              "      <th>Shell weight</th>\n",
              "      <th>Age</th>\n",
              "    </tr>\n",
              "  </thead>\n",
              "  <tbody>\n",
              "    <tr>\n",
              "      <th>0</th>\n",
              "      <td>0.435</td>\n",
              "      <td>0.335</td>\n",
              "      <td>0.110</td>\n",
              "      <td>0.334</td>\n",
              "      <td>0.1355</td>\n",
              "      <td>0.0775</td>\n",
              "      <td>0.0965</td>\n",
              "      <td>7</td>\n",
              "    </tr>\n",
              "    <tr>\n",
              "      <th>1</th>\n",
              "      <td>0.585</td>\n",
              "      <td>0.450</td>\n",
              "      <td>0.125</td>\n",
              "      <td>0.874</td>\n",
              "      <td>0.3545</td>\n",
              "      <td>0.2075</td>\n",
              "      <td>0.2250</td>\n",
              "      <td>6</td>\n",
              "    </tr>\n",
              "    <tr>\n",
              "      <th>2</th>\n",
              "      <td>0.655</td>\n",
              "      <td>0.510</td>\n",
              "      <td>0.160</td>\n",
              "      <td>1.092</td>\n",
              "      <td>0.3960</td>\n",
              "      <td>0.2825</td>\n",
              "      <td>0.3700</td>\n",
              "      <td>14</td>\n",
              "    </tr>\n",
              "    <tr>\n",
              "      <th>3</th>\n",
              "      <td>0.545</td>\n",
              "      <td>0.425</td>\n",
              "      <td>0.125</td>\n",
              "      <td>0.768</td>\n",
              "      <td>0.2940</td>\n",
              "      <td>0.1495</td>\n",
              "      <td>0.2600</td>\n",
              "      <td>16</td>\n",
              "    </tr>\n",
              "    <tr>\n",
              "      <th>4</th>\n",
              "      <td>0.545</td>\n",
              "      <td>0.420</td>\n",
              "      <td>0.130</td>\n",
              "      <td>0.879</td>\n",
              "      <td>0.3740</td>\n",
              "      <td>0.1695</td>\n",
              "      <td>0.2300</td>\n",
              "      <td>13</td>\n",
              "    </tr>\n",
              "  </tbody>\n",
              "</table>\n",
              "</div>"
            ],
            "text/plain": [
              "   Length  Diameter  Height  ...  Viscera weight  Shell weight  Age\n",
              "0   0.435     0.335   0.110  ...          0.0775        0.0965    7\n",
              "1   0.585     0.450   0.125  ...          0.2075        0.2250    6\n",
              "2   0.655     0.510   0.160  ...          0.2825        0.3700   14\n",
              "3   0.545     0.425   0.125  ...          0.1495        0.2600   16\n",
              "4   0.545     0.420   0.130  ...          0.1695        0.2300   13\n",
              "\n",
              "[5 rows x 8 columns]"
            ]
          },
          "metadata": {
            "tags": []
          },
          "execution_count": 2
        }
      ]
    },
    {
      "cell_type": "code",
      "metadata": {
        "id": "7w7Ne5KPm3gU"
      },
      "source": [
        "abalone_features = abalone_train.copy()\n",
        "abalone_labels = abalone_features.pop('Age')"
      ],
      "execution_count": 3,
      "outputs": []
    },
    {
      "cell_type": "markdown",
      "metadata": {
        "id": "dM0PNMsYnPW1"
      },
      "source": [
        "Lets pach the feature into a single numpy array "
      ]
    },
    {
      "cell_type": "code",
      "metadata": {
        "colab": {
          "base_uri": "https://localhost:8080/"
        },
        "id": "ToIv_SPUnKXc",
        "outputId": "e466deb0-dca2-4022-c04c-ddf251329b65"
      },
      "source": [
        "abalone_features = np.array(abalone_features)\n",
        "abalone_features"
      ],
      "execution_count": 4,
      "outputs": [
        {
          "output_type": "execute_result",
          "data": {
            "text/plain": [
              "array([[0.435, 0.335, 0.11 , ..., 0.136, 0.077, 0.097],\n",
              "       [0.585, 0.45 , 0.125, ..., 0.354, 0.207, 0.225],\n",
              "       [0.655, 0.51 , 0.16 , ..., 0.396, 0.282, 0.37 ],\n",
              "       ...,\n",
              "       [0.53 , 0.42 , 0.13 , ..., 0.374, 0.167, 0.249],\n",
              "       [0.395, 0.315, 0.105, ..., 0.118, 0.091, 0.119],\n",
              "       [0.45 , 0.355, 0.12 , ..., 0.115, 0.067, 0.16 ]])"
            ]
          },
          "metadata": {
            "tags": []
          },
          "execution_count": 4
        }
      ]
    },
    {
      "cell_type": "markdown",
      "metadata": {
        "id": "aDyIo20Mnbnq"
      },
      "source": [
        "Next make a regression model predict the age. Since there is only a single input tensor, a keras.Sequential model is sufficient here."
      ]
    },
    {
      "cell_type": "code",
      "metadata": {
        "id": "ENamheSgnXDO"
      },
      "source": [
        "abalone_model = tf.keras.Sequential([\n",
        "    layers.Dense(64),\n",
        "    layers.Dense(1)]\n",
        ")\n",
        "\n",
        "abalone_model.compile(loss = tf.losses.MeanSquaredError(),\n",
        "                      optimizer = tf.optimizers.Adam())"
      ],
      "execution_count": 5,
      "outputs": []
    },
    {
      "cell_type": "code",
      "metadata": {
        "colab": {
          "base_uri": "https://localhost:8080/"
        },
        "id": "hoNiOnDSn0QM",
        "outputId": "2ba2244b-4623-4b8f-ab9d-0ada9e265120"
      },
      "source": [
        "abalone_model.fit(abalone_features, abalone_labels, epochs = 10)"
      ],
      "execution_count": 6,
      "outputs": [
        {
          "output_type": "stream",
          "text": [
            "Epoch 1/10\n",
            "104/104 [==============================] - 1s 888us/step - loss: 85.3764\n",
            "Epoch 2/10\n",
            "104/104 [==============================] - 0s 859us/step - loss: 17.0604\n",
            "Epoch 3/10\n",
            "104/104 [==============================] - 0s 914us/step - loss: 8.9593\n",
            "Epoch 4/10\n",
            "104/104 [==============================] - 0s 1ms/step - loss: 8.2175\n",
            "Epoch 5/10\n",
            "104/104 [==============================] - 0s 974us/step - loss: 7.9350\n",
            "Epoch 6/10\n",
            "104/104 [==============================] - 0s 1ms/step - loss: 7.2673\n",
            "Epoch 7/10\n",
            "104/104 [==============================] - 0s 905us/step - loss: 7.1767\n",
            "Epoch 8/10\n",
            "104/104 [==============================] - 0s 879us/step - loss: 7.0608\n",
            "Epoch 9/10\n",
            "104/104 [==============================] - 0s 928us/step - loss: 6.4113\n",
            "Epoch 10/10\n",
            "104/104 [==============================] - 0s 879us/step - loss: 6.4813\n"
          ],
          "name": "stdout"
        },
        {
          "output_type": "execute_result",
          "data": {
            "text/plain": [
              "<tensorflow.python.keras.callbacks.History at 0x7f6a3a35dbd0>"
            ]
          },
          "metadata": {
            "tags": []
          },
          "execution_count": 6
        }
      ]
    },
    {
      "cell_type": "markdown",
      "metadata": {
        "id": "4a-uJ4VDoAdg"
      },
      "source": [
        "## Apply basic preprocessing\n",
        "\n",
        "It's good practice to normalize the inputs to your model. The experimental.preprocessing layers provide a convenient way to build this normalization into your model.\n",
        "\n",
        "The layer will precompute the mean and variance of each column, and use these to normalize the data.\n",
        "\n",
        "First you create the layer:"
      ]
    },
    {
      "cell_type": "code",
      "metadata": {
        "id": "nzzd-HzSn8Gf"
      },
      "source": [
        "normalize = preprocessing.Normalization()"
      ],
      "execution_count": 7,
      "outputs": []
    },
    {
      "cell_type": "markdown",
      "metadata": {
        "id": "E-DEJrmKoMrw"
      },
      "source": [
        "Then you use the Normalization.adapt() method to adapt the normalization layer to your data."
      ]
    },
    {
      "cell_type": "code",
      "metadata": {
        "id": "Q1oNmz3soKK0"
      },
      "source": [
        "normalize.adapt(abalone_features)\n",
        "\n"
      ],
      "execution_count": 8,
      "outputs": []
    },
    {
      "cell_type": "markdown",
      "metadata": {
        "id": "LabjipEcoVeh"
      },
      "source": [
        "Then use normalization layers in the model"
      ]
    },
    {
      "cell_type": "code",
      "metadata": {
        "colab": {
          "base_uri": "https://localhost:8080/"
        },
        "id": "_GbTRiMeoUiO",
        "outputId": "97f2df6b-fe90-4262-e9c3-c86f52d93e17"
      },
      "source": [
        "norm_abalone_model = tf.keras.Sequential(\n",
        "    [\n",
        "     normalize,\n",
        "     layers.Dense(64),\n",
        "     layers.Dense(1)\n",
        "    ]\n",
        ")\n",
        "\n",
        "norm_abalone_model.compile(loss = tf.losses.MeanSquaredError(),\n",
        "                           optimizer = tf.optimizers.Adam())\n",
        "\n",
        "norm_abalone_model.fit(abalone_features,abalone_labels, epochs =10)"
      ],
      "execution_count": 9,
      "outputs": [
        {
          "output_type": "stream",
          "text": [
            "Epoch 1/10\n",
            "104/104 [==============================] - 0s 924us/step - loss: 104.6584\n",
            "Epoch 2/10\n",
            "104/104 [==============================] - 0s 893us/step - loss: 67.7098\n",
            "Epoch 3/10\n",
            "104/104 [==============================] - 0s 937us/step - loss: 24.6416\n",
            "Epoch 4/10\n",
            "104/104 [==============================] - 0s 996us/step - loss: 7.1822\n",
            "Epoch 5/10\n",
            "104/104 [==============================] - 0s 922us/step - loss: 5.7362\n",
            "Epoch 6/10\n",
            "104/104 [==============================] - 0s 879us/step - loss: 5.2818\n",
            "Epoch 7/10\n",
            "104/104 [==============================] - 0s 1ms/step - loss: 5.1274\n",
            "Epoch 8/10\n",
            "104/104 [==============================] - 0s 1ms/step - loss: 5.1435\n",
            "Epoch 9/10\n",
            "104/104 [==============================] - 0s 1ms/step - loss: 4.9934\n",
            "Epoch 10/10\n",
            "104/104 [==============================] - 0s 907us/step - loss: 5.0798\n"
          ],
          "name": "stdout"
        },
        {
          "output_type": "execute_result",
          "data": {
            "text/plain": [
              "<tensorflow.python.keras.callbacks.History at 0x7f6a3435f590>"
            ]
          },
          "metadata": {
            "tags": []
          },
          "execution_count": 9
        }
      ]
    },
    {
      "cell_type": "markdown",
      "metadata": {
        "id": "XlOJJrUApPbF"
      },
      "source": [
        "## Preprocessing of mixed data types "
      ]
    },
    {
      "cell_type": "code",
      "metadata": {
        "id": "pruajm2Bo8oN"
      },
      "source": [
        "titanic = pd.read_csv(\"https://storage.googleapis.com/tf-datasets/titanic/train.csv\")\n",
        "titanic.head()\n",
        "titanic_features = titanic.copy()\n",
        "titanic_labels = titanic_features.pop('survived')"
      ],
      "execution_count": 10,
      "outputs": []
    },
    {
      "cell_type": "code",
      "metadata": {
        "colab": {
          "base_uri": "https://localhost:8080/",
          "height": 224
        },
        "id": "Aj9MsHCWppGi",
        "outputId": "2318c118-0e98-4bf6-df13-766cc9e53387"
      },
      "source": [
        "titanic.head()\n"
      ],
      "execution_count": 11,
      "outputs": [
        {
          "output_type": "execute_result",
          "data": {
            "text/html": [
              "<div>\n",
              "<style scoped>\n",
              "    .dataframe tbody tr th:only-of-type {\n",
              "        vertical-align: middle;\n",
              "    }\n",
              "\n",
              "    .dataframe tbody tr th {\n",
              "        vertical-align: top;\n",
              "    }\n",
              "\n",
              "    .dataframe thead th {\n",
              "        text-align: right;\n",
              "    }\n",
              "</style>\n",
              "<table border=\"1\" class=\"dataframe\">\n",
              "  <thead>\n",
              "    <tr style=\"text-align: right;\">\n",
              "      <th></th>\n",
              "      <th>survived</th>\n",
              "      <th>sex</th>\n",
              "      <th>age</th>\n",
              "      <th>n_siblings_spouses</th>\n",
              "      <th>parch</th>\n",
              "      <th>fare</th>\n",
              "      <th>class</th>\n",
              "      <th>deck</th>\n",
              "      <th>embark_town</th>\n",
              "      <th>alone</th>\n",
              "    </tr>\n",
              "  </thead>\n",
              "  <tbody>\n",
              "    <tr>\n",
              "      <th>0</th>\n",
              "      <td>0</td>\n",
              "      <td>male</td>\n",
              "      <td>22.0</td>\n",
              "      <td>1</td>\n",
              "      <td>0</td>\n",
              "      <td>7.2500</td>\n",
              "      <td>Third</td>\n",
              "      <td>unknown</td>\n",
              "      <td>Southampton</td>\n",
              "      <td>n</td>\n",
              "    </tr>\n",
              "    <tr>\n",
              "      <th>1</th>\n",
              "      <td>1</td>\n",
              "      <td>female</td>\n",
              "      <td>38.0</td>\n",
              "      <td>1</td>\n",
              "      <td>0</td>\n",
              "      <td>71.2833</td>\n",
              "      <td>First</td>\n",
              "      <td>C</td>\n",
              "      <td>Cherbourg</td>\n",
              "      <td>n</td>\n",
              "    </tr>\n",
              "    <tr>\n",
              "      <th>2</th>\n",
              "      <td>1</td>\n",
              "      <td>female</td>\n",
              "      <td>26.0</td>\n",
              "      <td>0</td>\n",
              "      <td>0</td>\n",
              "      <td>7.9250</td>\n",
              "      <td>Third</td>\n",
              "      <td>unknown</td>\n",
              "      <td>Southampton</td>\n",
              "      <td>y</td>\n",
              "    </tr>\n",
              "    <tr>\n",
              "      <th>3</th>\n",
              "      <td>1</td>\n",
              "      <td>female</td>\n",
              "      <td>35.0</td>\n",
              "      <td>1</td>\n",
              "      <td>0</td>\n",
              "      <td>53.1000</td>\n",
              "      <td>First</td>\n",
              "      <td>C</td>\n",
              "      <td>Southampton</td>\n",
              "      <td>n</td>\n",
              "    </tr>\n",
              "    <tr>\n",
              "      <th>4</th>\n",
              "      <td>0</td>\n",
              "      <td>male</td>\n",
              "      <td>28.0</td>\n",
              "      <td>0</td>\n",
              "      <td>0</td>\n",
              "      <td>8.4583</td>\n",
              "      <td>Third</td>\n",
              "      <td>unknown</td>\n",
              "      <td>Queenstown</td>\n",
              "      <td>y</td>\n",
              "    </tr>\n",
              "  </tbody>\n",
              "</table>\n",
              "</div>"
            ],
            "text/plain": [
              "   survived     sex   age  ...     deck  embark_town  alone\n",
              "0         0    male  22.0  ...  unknown  Southampton      n\n",
              "1         1  female  38.0  ...        C    Cherbourg      n\n",
              "2         1  female  26.0  ...  unknown  Southampton      y\n",
              "3         1  female  35.0  ...        C  Southampton      n\n",
              "4         0    male  28.0  ...  unknown   Queenstown      y\n",
              "\n",
              "[5 rows x 10 columns]"
            ]
          },
          "metadata": {
            "tags": []
          },
          "execution_count": 11
        }
      ]
    },
    {
      "cell_type": "markdown",
      "metadata": {
        "id": "4YKgVvzup6CI"
      },
      "source": [
        "Since the dataset is a mix of numerical and cat data, In this example, you'll build a model that implements the preprocessing logic using Keras functional API. You could also do it by subclassing."
      ]
    },
    {
      "cell_type": "code",
      "metadata": {
        "colab": {
          "base_uri": "https://localhost:8080/"
        },
        "id": "bSXkIjUfpsT3",
        "outputId": "d3e3282d-08f3-494d-9558-bb8e85edab12"
      },
      "source": [
        "# create a symbolic input \n",
        "\n",
        "input = tf.keras.Input(shape = (), dtype = tf.float32)\n",
        "\n",
        "# tensorflow 1/infinite calculation model\n",
        "result = 1*input + 1\n",
        "\n",
        "result"
      ],
      "execution_count": 12,
      "outputs": [
        {
          "output_type": "execute_result",
          "data": {
            "text/plain": [
              "<KerasTensor: shape=(None,) dtype=float32 (created by layer 'tf.__operators__.add')>"
            ]
          },
          "metadata": {
            "tags": []
          },
          "execution_count": 12
        }
      ]
    },
    {
      "cell_type": "code",
      "metadata": {
        "colab": {
          "base_uri": "https://localhost:8080/"
        },
        "id": "TNfPNLJXqYBJ",
        "outputId": "374ca378-d83d-4a76-9f86-6e54d625199e"
      },
      "source": [
        "#  mystery again, lesson learned\n",
        "calc = tf.keras.Model(inputs = input, outputs = result)\n",
        "\n",
        "print(calc(1).numpy())\n",
        "print(calc(2).numpy())"
      ],
      "execution_count": 14,
      "outputs": [
        {
          "output_type": "stream",
          "text": [
            "2.0\n",
            "3.0\n"
          ],
          "name": "stdout"
        }
      ]
    },
    {
      "cell_type": "markdown",
      "metadata": {
        "id": "e5o74BxarWdy"
      },
      "source": [
        "Preprocessin model, here we will make a dictionary of the data types of columns."
      ]
    },
    {
      "cell_type": "code",
      "metadata": {
        "colab": {
          "base_uri": "https://localhost:8080/"
        },
        "id": "HnWnYA8Bq3SW",
        "outputId": "6c6eb498-e59e-4250-e3dd-85a8a267e89f"
      },
      "source": [
        "inputs = {}\n",
        "\n",
        "for name, column in titanic_features.items():\n",
        "  dtype = column.dtype\n",
        "  if dtype ==object:\n",
        "    dtype = tf.string\n",
        "  else :\n",
        "    dtype = tf.float32\n",
        "  inputs[name] = tf.keras.Input(shape = (1,), name = name, dtype=dtype)\n",
        "\n",
        "inputs"
      ],
      "execution_count": 16,
      "outputs": [
        {
          "output_type": "execute_result",
          "data": {
            "text/plain": [
              "{'age': <KerasTensor: shape=(None, 1) dtype=float32 (created by layer 'age')>,\n",
              " 'alone': <KerasTensor: shape=(None, 1) dtype=string (created by layer 'alone')>,\n",
              " 'class': <KerasTensor: shape=(None, 1) dtype=string (created by layer 'class')>,\n",
              " 'deck': <KerasTensor: shape=(None, 1) dtype=string (created by layer 'deck')>,\n",
              " 'embark_town': <KerasTensor: shape=(None, 1) dtype=string (created by layer 'embark_town')>,\n",
              " 'fare': <KerasTensor: shape=(None, 1) dtype=float32 (created by layer 'fare')>,\n",
              " 'n_siblings_spouses': <KerasTensor: shape=(None, 1) dtype=float32 (created by layer 'n_siblings_spouses')>,\n",
              " 'parch': <KerasTensor: shape=(None, 1) dtype=float32 (created by layer 'parch')>,\n",
              " 'sex': <KerasTensor: shape=(None, 1) dtype=string (created by layer 'sex')>}"
            ]
          },
          "metadata": {
            "tags": []
          },
          "execution_count": 16
        }
      ]
    },
    {
      "cell_type": "markdown",
      "metadata": {
        "id": "09OW5NaQs8Z_"
      },
      "source": [
        "We got the cat variables list. Now lets get the num varialbles"
      ]
    },
    {
      "cell_type": "code",
      "metadata": {
        "colab": {
          "base_uri": "https://localhost:8080/"
        },
        "id": "dhB4xr11svop",
        "outputId": "5ad7faf0-a1d3-4ca6-af3f-daa9c9bf0cec"
      },
      "source": [
        "numeric_inputs = {name:input for name,input in inputs.items() if input.dtype == tf.float32}\n",
        "\n",
        "x = layers.Concatenate()(list(numeric_inputs.values()))\n",
        "norm = preprocessing.Normalization()\n",
        "norm.adapt(np.array(titanic[numeric_inputs.keys()]))\n",
        "all_numeric_inputs = norm(x)\n",
        "\n",
        "all_numeric_inputs"
      ],
      "execution_count": 17,
      "outputs": [
        {
          "output_type": "execute_result",
          "data": {
            "text/plain": [
              "<KerasTensor: shape=(None, 4) dtype=float32 (created by layer 'normalization_1')>"
            ]
          },
          "metadata": {
            "tags": []
          },
          "execution_count": 17
        }
      ]
    },
    {
      "cell_type": "markdown",
      "metadata": {
        "id": "jDfJ2Uq5uPNd"
      },
      "source": [
        "Now we got the numeric and cat variables in tensors. Now lets concatenate the cat and num vars "
      ]
    },
    {
      "cell_type": "code",
      "metadata": {
        "id": "G2u9o-kluJrD"
      },
      "source": [
        "preprocessed_inputs = [all_numeric_inputs]"
      ],
      "execution_count": 18,
      "outputs": []
    },
    {
      "cell_type": "markdown",
      "metadata": {
        "id": "Nr_LqwxJuq--"
      },
      "source": [
        "For the string inputs use the preprocessing.StringLookup function to map from strings to integer indices in a vocabulary. Next, use preprocessing.CategoryEncoding to convert the indexes into float32 data appropriate for the model.\n",
        "The default settings for the preprocessing.CategoryEncoding layer create a one-hot vector for each input. \n"
      ]
    },
    {
      "cell_type": "code",
      "metadata": {
        "id": "EiHHoaTHuc56"
      },
      "source": [
        "for name, input in inputs.items():\n",
        "  if input.dtype ==tf.float32:\n",
        "    continue\n",
        "# if inout.dtype is cat, then\n",
        "  lookup = preprocessing.StringLookup(vocabulary=np.unique(titanic_features[name]))\n",
        "  one_hot = preprocessing.CategoryEncoding(max_tokens= lookup.vocab_size())\n",
        "\n",
        "  x = lookup(input)\n",
        "  x = one_hot(x)\n",
        "  preprocessed_inputs.append(x)\n",
        "\n"
      ],
      "execution_count": 20,
      "outputs": []
    },
    {
      "cell_type": "markdown",
      "metadata": {
        "id": "HG1ZDjC5v566"
      },
      "source": [
        "In the above code all the inputs became numeric\n",
        "With the collection of inputs and processed_inputs, you can concatenate all the preprocessed inputs together, and build a model that handles the preprocessing:"
      ]
    },
    {
      "cell_type": "code",
      "metadata": {
        "colab": {
          "base_uri": "https://localhost:8080/"
        },
        "id": "JX3goJ4jvton",
        "outputId": "0e4b3664-a0d7-4737-e0f0-ca0b02cea0f0"
      },
      "source": [
        "preprocessed_inputs"
      ],
      "execution_count": 22,
      "outputs": [
        {
          "output_type": "execute_result",
          "data": {
            "text/plain": [
              "[<KerasTensor: shape=(None, 4) dtype=float32 (created by layer 'normalization_1')>,\n",
              " <KerasTensor: shape=(None, 4) dtype=float32 (created by layer 'category_encoding')>,\n",
              " <KerasTensor: shape=(None, 5) dtype=float32 (created by layer 'category_encoding_1')>,\n",
              " <KerasTensor: shape=(None, 10) dtype=float32 (created by layer 'category_encoding_2')>,\n",
              " <KerasTensor: shape=(None, 6) dtype=float32 (created by layer 'category_encoding_3')>,\n",
              " <KerasTensor: shape=(None, 4) dtype=float32 (created by layer 'category_encoding_4')>]"
            ]
          },
          "metadata": {
            "tags": []
          },
          "execution_count": 22
        }
      ]
    },
    {
      "cell_type": "code",
      "metadata": {
        "colab": {
          "base_uri": "https://localhost:8080/",
          "height": 819
        },
        "id": "HbHf4eTSv4jv",
        "outputId": "ded75b68-4f82-4324-95a0-fbe1b6556f70"
      },
      "source": [
        "preprocessed_inputs_cat = layers.Concatenate()(preprocessed_inputs)\n",
        "\n",
        "titanic_preprocessing = tf.keras.Model(inputs, preprocessed_inputs_cat)\n",
        "\n",
        "tf.keras.utils.plot_model(model = titanic_preprocessing, rankdir = \"LR\", dpi =72, show_shapes= True)\n"
      ],
      "execution_count": 23,
      "outputs": [
        {
          "output_type": "execute_result",
          "data": {
            "image/png": "[encoded data removed]",
            "text/plain": [
              "<IPython.core.display.Image object>"
            ]
          },
          "metadata": {
            "tags": []
          },
          "execution_count": 23
        }
      ]
    },
    {
      "cell_type": "markdown",
      "metadata": {
        "id": "riikrOlXxoxD"
      },
      "source": [
        "The above model shows how tensorflow takes in the preprocessed inputs. To know how a particular model takes in the inputs and works, its only reasonable if we know the ins and outs of a framework. \n",
        "\n",
        "This model just contains the input preprocessing. You can run it to see what it does to your data. Keras models don't automatically convert Pandas DataFrames because it's not clear if it should be converted to one tensor or to a dictionary of tensors. So convert it to a dictionary of tensors:"
      ]
    },
    {
      "cell_type": "code",
      "metadata": {
        "id": "jX-8aFjPxK3M"
      },
      "source": [
        "titanic_features_dict = {name:np.array(value) for name, value in titanic_features.items()}\n"
      ],
      "execution_count": 24,
      "outputs": []
    },
    {
      "cell_type": "markdown",
      "metadata": {
        "id": "8HXAnf0ryhAM"
      },
      "source": [
        "Slice out the first training example and pass it to this preprocessing model, you see the numeric features and string one-hots all concatenated together:"
      ]
    },
    {
      "cell_type": "code",
      "metadata": {
        "colab": {
          "base_uri": "https://localhost:8080/"
        },
        "id": "ybEWu0klyfeA",
        "outputId": "7225171c-7a37-438c-97c4-32fe2e219918"
      },
      "source": [
        "features_dict = {name:values[:1] for name,values in titanic_features_dict.items()}\n",
        "\n",
        "titanic_preprocessing(features_dict)"
      ],
      "execution_count": 25,
      "outputs": [
        {
          "output_type": "execute_result",
          "data": {
            "text/plain": [
              "<tf.Tensor: shape=(1, 33), dtype=float32, numpy=\n",
              "array([[-0.61 ,  0.395, -0.479, -0.497,  0.   ,  0.   ,  0.   ,  1.   ,\n",
              "         0.   ,  0.   ,  0.   ,  0.   ,  1.   ,  0.   ,  0.   ,  0.   ,\n",
              "         0.   ,  0.   ,  0.   ,  0.   ,  0.   ,  0.   ,  1.   ,  0.   ,\n",
              "         0.   ,  0.   ,  0.   ,  1.   ,  0.   ,  0.   ,  0.   ,  1.   ,\n",
              "         0.   ]], dtype=float32)>"
            ]
          },
          "metadata": {
            "tags": []
          },
          "execution_count": 25
        }
      ]
    },
    {
      "cell_type": "markdown",
      "metadata": {
        "id": "rStXXXPnzKac"
      },
      "source": [
        "We got the preprocessed inputs . Now its time for modelling"
      ]
    },
    {
      "cell_type": "code",
      "metadata": {
        "id": "x8_8da5gzEnJ"
      },
      "source": [
        "def titanic_model(preprocessing_head, inputs):\n",
        "  body = tf.keras.Sequential([\n",
        "                              layers.Dense(64),\n",
        "                              layers.Dense(1)\n",
        "  ])\n",
        "\n",
        "  preprocessed_inputs = preprocessing_head(inputs)\n",
        "  result = body(preprocessed_inputs)\n",
        "  model = tf.keras.Model(inputs, result)\n",
        "\n",
        "  model.compile(loss = tf.losses.BinaryCrossentropy(from_logits=True),\n",
        "                optimizer = tf.optimizers.Adam())\n",
        "  return model\n",
        "\n",
        "titanic_model = titanic_model(titanic_preprocessing, inputs)"
      ],
      "execution_count": 27,
      "outputs": []
    },
    {
      "cell_type": "code",
      "metadata": {
        "colab": {
          "base_uri": "https://localhost:8080/"
        },
        "id": "Wd98NZjr0X7P",
        "outputId": "1f52b763-3b72-413f-f9dc-ad8b2525cb47"
      },
      "source": [
        "titanic_model.fit(x = titanic_features_dict, y = titanic_labels, epochs= 10)"
      ],
      "execution_count": 28,
      "outputs": [
        {
          "output_type": "stream",
          "text": [
            "Epoch 1/10\n",
            "20/20 [==============================] - 1s 2ms/step - loss: 0.6455\n",
            "Epoch 2/10\n",
            "20/20 [==============================] - 0s 1ms/step - loss: 0.5719\n",
            "Epoch 3/10\n",
            "20/20 [==============================] - 0s 2ms/step - loss: 0.4953\n",
            "Epoch 4/10\n",
            "20/20 [==============================] - 0s 1ms/step - loss: 0.4839\n",
            "Epoch 5/10\n",
            "20/20 [==============================] - 0s 1ms/step - loss: 0.4791\n",
            "Epoch 6/10\n",
            "20/20 [==============================] - 0s 1ms/step - loss: 0.3973\n",
            "Epoch 7/10\n",
            "20/20 [==============================] - 0s 2ms/step - loss: 0.4676\n",
            "Epoch 8/10\n",
            "20/20 [==============================] - 0s 1ms/step - loss: 0.4020\n",
            "Epoch 9/10\n",
            "20/20 [==============================] - 0s 1ms/step - loss: 0.4241\n",
            "Epoch 10/10\n",
            "20/20 [==============================] - 0s 2ms/step - loss: 0.4192\n"
          ],
          "name": "stdout"
        },
        {
          "output_type": "execute_result",
          "data": {
            "text/plain": [
              "<tensorflow.python.keras.callbacks.History at 0x7f6a3433d550>"
            ]
          },
          "metadata": {
            "tags": []
          },
          "execution_count": 28
        }
      ]
    },
    {
      "cell_type": "markdown",
      "metadata": {
        "id": "VvEKm9G_07aN"
      },
      "source": [
        "Since there is a huge preprocesing task, we can save the model."
      ]
    },
    {
      "cell_type": "code",
      "metadata": {
        "colab": {
          "base_uri": "https://localhost:8080/"
        },
        "id": "ehX8Ax7901EN",
        "outputId": "1e1cce0f-c57b-406c-be2c-7a5623122763"
      },
      "source": [
        "titanic_model.save('test')\n",
        "reloaded = tf.keras.models.load_model('test')"
      ],
      "execution_count": 29,
      "outputs": [
        {
          "output_type": "stream",
          "text": [
            "INFO:tensorflow:Assets written to: test/assets\n",
            "WARNING:tensorflow:5 out of the last 5 calls to <function recreate_function.<locals>.restored_function_body at 0x7f6a3373c170> triggered tf.function retracing. Tracing is expensive and the excessive number of tracings could be due to (1) creating @tf.function repeatedly in a loop, (2) passing tensors with different shapes, (3) passing Python objects instead of tensors. For (1), please define your @tf.function outside of the loop. For (2), @tf.function has experimental_relax_shapes=True option that relaxes argument shapes that can avoid unnecessary retracing. For (3), please refer to https://www.tensorflow.org/guide/function#controlling_retracing and https://www.tensorflow.org/api_docs/python/tf/function for  more details.\n"
          ],
          "name": "stdout"
        }
      ]
    },
    {
      "cell_type": "code",
      "metadata": {
        "colab": {
          "base_uri": "https://localhost:8080/"
        },
        "id": "cOYlegwX1V6W",
        "outputId": "100916b1-1ed4-4302-a992-e26dc2624ad0"
      },
      "source": [
        "features_dict = {name:values[:1] for name,values in titanic_features_dict.items()}\n",
        "\n",
        "before = titanic_model(features_dict)\n",
        "after = reloaded(features_dict)\n",
        "assert (before-after)<1e-3\n",
        "print(before\n",
        "      )\n",
        "print(after )\n",
        "\n",
        "#checking the difference of applying saved preprocess"
      ],
      "execution_count": 30,
      "outputs": [
        {
          "output_type": "stream",
          "text": [
            "tf.Tensor([[-1.905]], shape=(1, 1), dtype=float32)\n",
            "tf.Tensor([[-1.905]], shape=(1, 1), dtype=float32)\n"
          ],
          "name": "stdout"
        }
      ]
    },
    {
      "cell_type": "markdown",
      "metadata": {
        "id": "-NEW9QGi2nWP"
      },
      "source": [
        "## Another preprocessing tf.data\n",
        "\n",
        "In the previous section you relied on the model's built-in data shuffling and batching while training the model.\n",
        "\n",
        "If you need more control over the input data pipeline or need to use data that doesn't easily fit into memory: use tf.data.\n",
        "\n",
        "As a first example of applying tf.data to CSV data consider the following code to manually slice up the dictionary of features from the previous section. For each index, it takes that index for each feature:"
      ]
    },
    {
      "cell_type": "code",
      "metadata": {
        "colab": {
          "base_uri": "https://localhost:8080/"
        },
        "id": "IC6FPmN92hmQ",
        "outputId": "ae0674bc-f85a-471e-d098-b7cd8c8011ee"
      },
      "source": [
        "import itertools\n",
        "\n",
        "def slices(features):\n",
        "  for i in itertools.count():\n",
        "    example = {name:values[i] for name, values in features.items()}\n",
        "    yield example \n",
        "\n",
        "for example in slices(titanic_features_dict):\n",
        "  for name, value in example.items():\n",
        "    print(f\"{name:19s}:{value}\")\n",
        "\n",
        "  break"
      ],
      "execution_count": 31,
      "outputs": [
        {
          "output_type": "stream",
          "text": [
            "sex                :male\n",
            "age                :22.0\n",
            "n_siblings_spouses :1\n",
            "parch              :0\n",
            "fare               :7.25\n",
            "class              :Third\n",
            "deck               :unknown\n",
            "embark_town        :Southampton\n",
            "alone              :n\n"
          ],
          "name": "stdout"
        }
      ]
    },
    {
      "cell_type": "markdown",
      "metadata": {
        "id": "FOnBeOTi4Cu8"
      },
      "source": [
        "## Now this \n",
        "\n",
        "The most basic tf.data.Dataset in memory data loader is the Dataset.from_tensor_slices constructor. This returns a tf.data.Dataset that implements a generalized version of the above slices function, in TensorFlow."
      ]
    },
    {
      "cell_type": "code",
      "metadata": {
        "colab": {
          "base_uri": "https://localhost:8080/"
        },
        "id": "rfFWhEKv33OU",
        "outputId": "56b3230d-6b4f-4601-e372-50beb6191243"
      },
      "source": [
        "features_ds = tf.data.Dataset.from_tensor_slices(titanic_features_dict) #from_tensor_slices is the automated function that we tried manually earlier\n",
        "for example in features_ds:\n",
        "  for name, value in example.items():\n",
        "    print(f\"{name:19s}:{value}\")\n",
        "\n",
        "  break"
      ],
      "execution_count": 33,
      "outputs": [
        {
          "output_type": "stream",
          "text": [
            "sex                :b'male'\n",
            "age                :22.0\n",
            "n_siblings_spouses :1\n",
            "parch              :0\n",
            "fare               :7.25\n",
            "class              :b'Third'\n",
            "deck               :b'unknown'\n",
            "embark_town        :b'Southampton'\n",
            "alone              :b'n'\n"
          ],
          "name": "stdout"
        }
      ]
    },
    {
      "cell_type": "code",
      "metadata": {
        "id": "LJTa_NWA4eM2"
      },
      "source": [
        "titanic_ds = tf.data.Dataset.from_tensor_slices((titanic_features_dict, titanic_labels))"
      ],
      "execution_count": 34,
      "outputs": []
    },
    {
      "cell_type": "markdown",
      "metadata": {
        "id": "A8KMrDWS5EgW"
      },
      "source": [
        "To train a model ,we need to shuffle and batch the data"
      ]
    },
    {
      "cell_type": "code",
      "metadata": {
        "id": "C7KB7rmX4_zQ"
      },
      "source": [
        "titanic_batches = titanic_ds.shuffle(len(titanic_labels)).batch(32)"
      ],
      "execution_count": 35,
      "outputs": []
    },
    {
      "cell_type": "markdown",
      "metadata": {
        "id": "UnJw88Dg5QAZ"
      },
      "source": [
        "Now that we have the features and labels in the batch, \n",
        "we will pass the batch into the model"
      ]
    },
    {
      "cell_type": "code",
      "metadata": {
        "colab": {
          "base_uri": "https://localhost:8080/"
        },
        "id": "_IbDs6Rj5PMa",
        "outputId": "12a73112-628e-425c-cbd5-293febca9bb3"
      },
      "source": [
        "titanic_model.fit(titanic_batches, epochs = 5)"
      ],
      "execution_count": 36,
      "outputs": [
        {
          "output_type": "stream",
          "text": [
            "Epoch 1/5\n",
            "20/20 [==============================] - 0s 3ms/step - loss: 0.4235\n",
            "Epoch 2/5\n",
            "20/20 [==============================] - 0s 3ms/step - loss: 0.4226\n",
            "Epoch 3/5\n",
            "20/20 [==============================] - 0s 2ms/step - loss: 0.4203\n",
            "Epoch 4/5\n",
            "20/20 [==============================] - 0s 3ms/step - loss: 0.4204\n",
            "Epoch 5/5\n",
            "20/20 [==============================] - 0s 3ms/step - loss: 0.4206\n"
          ],
          "name": "stdout"
        },
        {
          "output_type": "execute_result",
          "data": {
            "text/plain": [
              "<tensorflow.python.keras.callbacks.History at 0x7f6a30f07f50>"
            ]
          },
          "metadata": {
            "tags": []
          },
          "execution_count": 36
        }
      ]
    },
    {
      "cell_type": "markdown",
      "metadata": {
        "id": "ypyLwAm_6AgK"
      },
      "source": [
        "# From a single file\n",
        "So far this tutorial has worked with in-memory data. tf.data is a highly scalable toolkit for building data pipelines, and provides a few functions for dealing loading CSV files."
      ]
    },
    {
      "cell_type": "code",
      "metadata": {
        "colab": {
          "base_uri": "https://localhost:8080/"
        },
        "id": "tOK9f_yW5ign",
        "outputId": "efa1a0a2-1300-40eb-99cf-22003de5a00e"
      },
      "source": [
        "titanic_file_path = tf.keras.utils.get_file(\"train.csv\", \"https://storage.googleapis.com/tf-datasets/titanic/train.csv\")\n"
      ],
      "execution_count": 37,
      "outputs": [
        {
          "output_type": "stream",
          "text": [
            "Downloading data from https://storage.googleapis.com/tf-datasets/titanic/train.csv\n",
            "32768/30874 [===============================] - 0s 0us/step\n"
          ],
          "name": "stdout"
        }
      ]
    },
    {
      "cell_type": "markdown",
      "metadata": {
        "id": "4_A5-wCG6ZO6"
      },
      "source": [
        "After getting the file, we will read into csv"
      ]
    },
    {
      "cell_type": "code",
      "metadata": {
        "id": "lm2fsYk76cZ5"
      },
      "source": [
        "titanic_csv_ds = tf.data.experimental.make_csv_dataset(\n",
        "    titanic_file_path,\n",
        "    batch_size =5,\n",
        "    label_name = 'survived',\n",
        "    num_epochs =1,\n",
        "    ignore_errors = True\n",
        ")"
      ],
      "execution_count": 39,
      "outputs": []
    },
    {
      "cell_type": "markdown",
      "metadata": {
        "id": "-gFlhkQK628z"
      },
      "source": [
        "This new method has some benefits. This function includes many convenient features so the data is easy to work with. This includes:\n",
        "\n",
        "Using the column headers as dictionary keys.\n",
        "Automatically determining the type of each column."
      ]
    },
    {
      "cell_type": "code",
      "metadata": {
        "colab": {
          "base_uri": "https://localhost:8080/"
        },
        "id": "eJCbmt2o6wYq",
        "outputId": "4a693de8-9721-40c4-8787-685be82215cb"
      },
      "source": [
        "for batch, label in titanic_csv_ds.take(1):\n",
        "  for key, value in batch.items():\n",
        "    print(f\"{key:20s}:{value}\")\n",
        "  print()\n",
        "  print(f\"{'label':20s}:{label}\")"
      ],
      "execution_count": 40,
      "outputs": [
        {
          "output_type": "stream",
          "text": [
            "sex                 :[b'female' b'female' b'male' b'female' b'male']\n",
            "age                 :[50.  18.  34.5 32.  25. ]\n",
            "n_siblings_spouses  :[0 1 0 1 1]\n",
            "parch               :[0 0 0 1 0]\n",
            "fare                :[10.5   17.8    6.438 15.5    7.775]\n",
            "class               :[b'Second' b'Third' b'Third' b'Third' b'Third']\n",
            "deck                :[b'unknown' b'unknown' b'unknown' b'unknown' b'unknown']\n",
            "embark_town         :[b'Southampton' b'Southampton' b'Cherbourg' b'Queenstown' b'Southampton']\n",
            "alone               :[b'y' b'n' b'y' b'n' b'n']\n",
            "\n",
            "label               :[1 0 0 0 1]\n"
          ],
          "name": "stdout"
        }
      ]
    },
    {
      "cell_type": "markdown",
      "metadata": {
        "id": "uC-FIke57hKZ"
      },
      "source": [
        "## Excellent new machine to look up values \n",
        "This can also decompress the data on the fly. Here is a gzipped csv "
      ]
    },
    {
      "cell_type": "code",
      "metadata": {
        "colab": {
          "base_uri": "https://localhost:8080/"
        },
        "id": "mQLXALuX7dd2",
        "outputId": "2e4f0f18-54cc-4e7c-98ac-2ccf3ec0f441"
      },
      "source": [
        "traffic_volume_csv_gz = tf.keras.utils.get_file(\n",
        "    'Metro_Interstate_Traffic_Volume.csv.gz', \n",
        "    \"https://archive.ics.uci.edu/ml/machine-learning-databases/00492/Metro_Interstate_Traffic_Volume.csv.gz\",\n",
        "    cache_dir = '.', cache_subdir = 'traffic'\n",
        ")"
      ],
      "execution_count": 41,
      "outputs": [
        {
          "output_type": "stream",
          "text": [
            "Downloading data from https://archive.ics.uci.edu/ml/machine-learning-databases/00492/Metro_Interstate_Traffic_Volume.csv.gz\n",
            "409600/405373 [==============================] - 0s 1us/step\n"
          ],
          "name": "stdout"
        }
      ]
    },
    {
      "cell_type": "markdown",
      "metadata": {
        "id": "IpicTEht8IJj"
      },
      "source": [
        "Set the compression_type afg to read directly from the compressed file"
      ]
    },
    {
      "cell_type": "code",
      "metadata": {
        "colab": {
          "base_uri": "https://localhost:8080/"
        },
        "id": "tgJsUukp8ENP",
        "outputId": "e868ab9c-c5e0-45ca-c886-4b462d504f66"
      },
      "source": [
        "traffic_volume_csv_gz_ds = tf.data.experimental.make_csv_dataset(\n",
        "    traffic_volume_csv_gz,\n",
        "    batch_size = 256,\n",
        "    label_name = 'traffic_volume',\n",
        "    num_epochs =1,\n",
        "    compression_type = 'GZIP'\n",
        ")\n",
        "\n",
        "for batch, label in traffic_volume_csv_gz_ds.take(1):\n",
        "  for key, value in batch.items():\n",
        "    print(f\"{key:20s}:{value[:5]}\")\n",
        "\n",
        "  print()\n",
        "  print(f\"{'label':20s}:{label[:5]}\")"
      ],
      "execution_count": 42,
      "outputs": [
        {
          "output_type": "stream",
          "text": [
            "holiday             :[b'None' b'None' b'None' b'None' b'None']\n",
            "temp                :[298.356 273.05  282.85  298.15  292.32 ]\n",
            "rain_1h             :[0. 0. 0. 0. 0.]\n",
            "snow_1h             :[0. 0. 0. 0. 0.]\n",
            "clouds_all          :[ 0 75 20 40  8]\n",
            "weather_main        :[b'Clear' b'Clouds' b'Clouds' b'Clouds' b'Clear']\n",
            "weather_description :[b'Sky is Clear' b'broken clouds' b'few clouds' b'scattered clouds'\n",
            " b'sky is clear']\n",
            "date_time           :[b'2013-09-06 22:00:00' b'2013-01-08 12:00:00' b'2012-10-23 04:00:00'\n",
            " b'2013-08-17 14:00:00' b'2013-06-17 22:00:00']\n",
            "\n",
            "label               :[2846 4589  807 4721 1919]\n"
          ],
          "name": "stdout"
        }
      ]
    },
    {
      "cell_type": "markdown",
      "metadata": {
        "id": "ODV7Mdo-9cQa"
      },
      "source": [
        "## Caching \n",
        "\n",
        "There is some overhead to parsing the csv data. For small models this can be the bottleneck in training.\n",
        "\n",
        "Depending on your use case it may be a good idea to use Dataset.cache or data.experimental.snapshot so that the csv data is only parsed on the first epoch.\n",
        "\n",
        "The main difference between the cache and snapshot methods is that cache files can only be used by the TensorFlow process that created them, but snapshot files can be read by other processes.\n",
        "\n",
        "For example, iterating over the traffic_volume_csv_gz_ds 20 times, takes ~15 seconds without caching, or ~2s with caching."
      ]
    },
    {
      "cell_type": "code",
      "metadata": {
        "colab": {
          "base_uri": "https://localhost:8080/"
        },
        "id": "g6bVKE8s9Edu",
        "outputId": "250cdb0a-74fe-4d29-b6de-0d2cf43439be"
      },
      "source": [
        "%%time \n",
        "\n",
        "for i, (batch, label) in enumerate(traffic_volume_csv_gz_ds.repeat(20)):\n",
        "  if i % 40 == 0:\n",
        "    print('.', end = '')\n",
        "\n",
        "print()"
      ],
      "execution_count": 43,
      "outputs": [
        {
          "output_type": "stream",
          "text": [
            "...............................................................................................\n",
            "CPU times: user 13.7 s, sys: 2.83 s, total: 16.5 s\n",
            "Wall time: 11.1 s\n"
          ],
          "name": "stdout"
        }
      ]
    },
    {
      "cell_type": "code",
      "metadata": {
        "colab": {
          "base_uri": "https://localhost:8080/"
        },
        "id": "pguYvAxh95Ds",
        "outputId": "71b3f992-64db-4cf6-9d13-f40b82b11eab"
      },
      "source": [
        "# Now with caching \n",
        "\n",
        "%%time \n",
        "caching = traffic_volume_csv_gz_ds.cache().shuffle(1000)\n",
        "\n",
        "for i, (batch,label) in enumerate(caching.shuffle(1000).repeat(20)):\n",
        "  if i % 40 == 0 :\n",
        "    print('.',end = '')\n",
        "\n",
        "print()"
      ],
      "execution_count": 44,
      "outputs": [
        {
          "output_type": "stream",
          "text": [
            "...............................................................................................\n",
            "CPU times: user 1.41 s, sys: 139 ms, total: 1.55 s\n",
            "Wall time: 1.29 s\n"
          ],
          "name": "stdout"
        }
      ]
    },
    {
      "cell_type": "code",
      "metadata": {
        "colab": {
          "base_uri": "https://localhost:8080/"
        },
        "id": "SouPxxN7-uAw",
        "outputId": "82e9603c-a38f-45b7-e29e-6e34bca57cc0"
      },
      "source": [
        "# with snapshot \n",
        "\n",
        "%%time\n",
        "\n",
        "snapshot = tf.data.experimental.snapshot('titanic.tfsnap')\n",
        "snapshotting = traffic_volume_csv_gz_ds.apply(snapshot).shuffle(1000)\n",
        "\n",
        "for i , (batch,label) in enumerate(snapshotting.shuffle(1000).repeat(20)):\n",
        "  if i % 40 ==0 :\n",
        "    print('.' ,end ='')\n",
        "\n",
        "print()"
      ],
      "execution_count": 46,
      "outputs": [
        {
          "output_type": "stream",
          "text": [
            "...............................................................................................\n",
            "CPU times: user 2.15 s, sys: 259 ms, total: 2.41 s\n",
            "Wall time: 1.92 s\n"
          ],
          "name": "stdout"
        }
      ]
    },
    {
      "cell_type": "markdown",
      "metadata": {
        "id": "PhM2L56w_ouk"
      },
      "source": [
        "## Magic of tf.data in working with multiple files "
      ]
    },
    {
      "cell_type": "code",
      "metadata": {
        "colab": {
          "base_uri": "https://localhost:8080/"
        },
        "id": "VypH6iu8_cgY",
        "outputId": "ea46b5f6-4b80-40f2-dc73-7370bfbb1220"
      },
      "source": [
        "fonts_zip = tf.keras.utils.get_file(\n",
        "    'fonts.zip',  \"https://archive.ics.uci.edu/ml/machine-learning-databases/00417/fonts.zip\",\n",
        "    cache_dir = '.', cache_subdir = 'fonts',\n",
        "    extract = True\n",
        "    \n",
        ")"
      ],
      "execution_count": 47,
      "outputs": [
        {
          "output_type": "stream",
          "text": [
            "Downloading data from https://archive.ics.uci.edu/ml/machine-learning-databases/00417/fonts.zip\n",
            "160317440/160313983 [==============================] - 5s 0us/step\n"
          ],
          "name": "stdout"
        }
      ]
    },
    {
      "cell_type": "code",
      "metadata": {
        "id": "-BWORXc7AG5M"
      },
      "source": [
        "import pathlib \n",
        "# collecting the csv files in the fonts  directory\n",
        "font_csvs = sorted(str(p) for p in pathlib.Path('fonts').glob(\"*.csv\"))"
      ],
      "execution_count": 48,
      "outputs": []
    },
    {
      "cell_type": "code",
      "metadata": {
        "colab": {
          "base_uri": "https://localhost:8080/"
        },
        "id": "1HJsCRuaAxA2",
        "outputId": "25a8675a-6938-46b2-a99b-844752b2da17"
      },
      "source": [
        "font_csvs[:10]"
      ],
      "execution_count": 49,
      "outputs": [
        {
          "output_type": "execute_result",
          "data": {
            "text/plain": [
              "['fonts/AGENCY.csv',\n",
              " 'fonts/ARIAL.csv',\n",
              " 'fonts/BAITI.csv',\n",
              " 'fonts/BANKGOTHIC.csv',\n",
              " 'fonts/BASKERVILLE.csv',\n",
              " 'fonts/BAUHAUS.csv',\n",
              " 'fonts/BELL.csv',\n",
              " 'fonts/BERLIN.csv',\n",
              " 'fonts/BERNARD.csv',\n",
              " 'fonts/BITSTREAMVERA.csv']"
            ]
          },
          "metadata": {
            "tags": []
          },
          "execution_count": 49
        }
      ]
    },
    {
      "cell_type": "code",
      "metadata": {
        "colab": {
          "base_uri": "https://localhost:8080/"
        },
        "id": "kdx7HYjHAziv",
        "outputId": "7763ec9c-8a29-4a00-db16-fd565cc1a15f"
      },
      "source": [
        "# how many files \n",
        "\n",
        "len(font_csvs)"
      ],
      "execution_count": 50,
      "outputs": [
        {
          "output_type": "execute_result",
          "data": {
            "text/plain": [
              "153"
            ]
          },
          "metadata": {
            "tags": []
          },
          "execution_count": 50
        }
      ]
    },
    {
      "cell_type": "markdown",
      "metadata": {
        "id": "7N-tI_DpBqfH"
      },
      "source": [
        "When dealing with a bunch of files you can pass a glob-style file_pattern to the experimental.make_csv_dataset function. The order of the files is shuffled each iteration.\n",
        "\n",
        "Use the num_parallel_reads argument to set how many files are read in parallel and interleaved together."
      ]
    },
    {
      "cell_type": "code",
      "metadata": {
        "id": "wlphBHM6BC84"
      },
      "source": [
        "fonts_ds = tf.data.experimental.make_csv_dataset(\n",
        "    file_pattern = \"fonts/*.csv\",\n",
        "    batch_size = 10, num_epochs = 1,\n",
        "    num_parallel_reads = 20,\n",
        "    shuffle_buffer_size = 10000\n",
        ")"
      ],
      "execution_count": 51,
      "outputs": []
    },
    {
      "cell_type": "markdown",
      "metadata": {
        "id": "VT1jgcCrCIFA"
      },
      "source": [
        "These csv files have the images flattened out into a single row. The column names are formatted r{row}c{column}. Here's the first batch:"
      ]
    },
    {
      "cell_type": "code",
      "metadata": {
        "colab": {
          "base_uri": "https://localhost:8080/"
        },
        "id": "jc8staG0CCyx",
        "outputId": "15121c1d-6672-4474-ae60-8ff308f82019"
      },
      "source": [
        "for features in fonts_ds.take(1):\n",
        "  for i, (name, value) in enumerate(features.items()):\n",
        "    if i>15:\n",
        "      break\n",
        "    print(f\"{name:20s}: {value}\")\n",
        "print('...')\n",
        "print(f\"[total: {len(features)} features]\")"
      ],
      "execution_count": 54,
      "outputs": [
        {
          "output_type": "stream",
          "text": [
            "font                : [b'COMMERCIALSCRIPT' b'GLOUCESTER' b'ONYX' b'COURIER' b'ITALIC' b'FORTE'\n",
            " b'COMMERCIALSCRIPT' b'COMIC' b'COOPER' b'TIMES']\n",
            "fontVariant         : [b'COMMERCIALSCRIPT BT' b'GLOUCESTER MT EXTRA CONDENSED' b'ONYX'\n",
            " b'scanned' b'ITALICT' b'FORTE' b'COMMERCIALSCRIPT BT' b'COMIC SANS MS'\n",
            " b'COOPER BLACK' b'scanned']\n",
            "m_label             : [164 247 111 110 264 110 116 374 192  50]\n",
            "strength            : [0.4 0.4 0.4 0.4 0.4 0.4 0.4 0.4 0.4 0.4]\n",
            "italic              : [0 0 1 0 1 1 1 0 1 0]\n",
            "orientation         : [0. 0. 0. 0. 0. 0. 0. 0. 0. 0.]\n",
            "m_top               : [30 46 47  0 41 48 39 24 22  0]\n",
            "m_left              : [23 23 24  0 24 23 25 21 21  0]\n",
            "originalH           : [35 25 35 13 50 31 38 73 61 23]\n",
            "originalW           : [35 24 21 11 41 38 37 39 55 14]\n",
            "h                   : [20 20 20 20 20 20 20 20 20 20]\n",
            "w                   : [20 20 20 20 20 20 20 20 20 20]\n",
            "r0c0                : [47  1  1  1  1  1  1  1  1  8]\n",
            "r0c1                : [193   1   1   1   1   1   1   1   1  10]\n",
            "r0c2                : [32  1  1  1  1  1  1  1  1 14]\n",
            "r0c3                : [ 1  1  1  1  1  1  1  1  1 32]\n",
            "...\n",
            "[total: 412 features]\n"
          ],
          "name": "stdout"
        }
      ]
    },
    {
      "cell_type": "markdown",
      "metadata": {
        "id": "OyTsKfPPDFmC"
      },
      "source": [
        "# Optional: Packing fields\n",
        "You probably don't want to work with each pixel in separate columns like this. Before trying to use this dataset be sure to pack the pixels into an image-tensor.\n",
        "\n",
        "Here is code that parses the column names to build images for each example:"
      ]
    },
    {
      "cell_type": "code",
      "metadata": {
        "id": "cSFqp5-xCwVp"
      },
      "source": [
        "import re\n",
        "\n",
        "def make_images(features):\n",
        "  image = [None]*400 # setting blank tensor to be filled up \n",
        "  new_feats = {}\n",
        "\n",
        "  for name, value in features.items():\n",
        "    match = re.match('r(\\d+)c(\\d+)', name)\n",
        "    if match:\n",
        "      image[int(match.group(1))*20+int(match.group(2))] = value\n",
        "    else:\n",
        "      new_feats[name] = value\n",
        "\n",
        "  image = tf.stack(image, axis=0)\n",
        "  image = tf.reshape(image, [20, 20, -1])\n",
        "  new_feats['image'] = image\n",
        "\n",
        "  return new_feats"
      ],
      "execution_count": 55,
      "outputs": []
    },
    {
      "cell_type": "code",
      "metadata": {
        "id": "OsFOc-QWEZc8"
      },
      "source": [
        "# apply the function in each batch of dataset \n",
        "fonts_image_ds = fonts_ds.map(make_images)\n",
        "\n",
        "for features in fonts_image_ds.take(1):\n",
        "  break"
      ],
      "execution_count": 56,
      "outputs": []
    },
    {
      "cell_type": "code",
      "metadata": {
        "colab": {
          "base_uri": "https://localhost:8080/",
          "height": 697
        },
        "id": "BFzNkKAHEvpo",
        "outputId": "777b5af1-55b8-4591-8086-ce7bdeec5d5c"
      },
      "source": [
        "# plot the resulting image \n",
        "\n",
        "from matplotlib import pyplot as plt \n",
        "\n",
        "plt.figure(figsize = (6,6), dpi = 120)\n",
        "\n",
        "for n in range(9):\n",
        "  plt.subplot(3,3,n+1)\n",
        "  plt.imshow(features['image'][...,n])\n",
        "  plt.title(chr(features['m_label'][n]))\n",
        "  plt.axis('off')"
      ],
      "execution_count": 60,
      "outputs": [
        {
          "output_type": "stream",
          "text": [
            "/usr/local/lib/python3.7/dist-packages/matplotlib/backends/backend_agg.py:214: RuntimeWarning: Glyph 64500 missing from current font.\n",
            "  font.set_text(s, 0.0, flags=flags)\n",
            "/usr/local/lib/python3.7/dist-packages/matplotlib/backends/backend_agg.py:183: RuntimeWarning: Glyph 64500 missing from current font.\n",
            "  font.set_text(s, 0, flags=flags)\n"
          ],
          "name": "stderr"
        },
        {
          "output_type": "display_data",
          "data": {
            "image/png": "[encoded data removed]",
            "text/plain": [
              "<Figure size 720x720 with 9 Axes>"
            ]
          },
          "metadata": {
            "tags": [],
            "needs_background": "light"
          }
        }
      ]
    },
    {
      "cell_type": "markdown",
      "metadata": {
        "id": "lb0YyHNPF0ms"
      },
      "source": [
        "## Lower level functions \n",
        "\n",
        "more advanced techniques \n",
        "tf.io.decode_csv - a function for parsing lines of text into a list of CSV column tensors.\n",
        "tf.data.experimental.CsvDataset - a lower level csv dataset constructor.\n",
        "This section recreates functionality provided by make_csv_dataset, to demonstrate how this lower level functionality can be used.\n",
        "\n",
        "\n",
        "\n",
        "#### tf.io.decode_csv \n",
        "\n",
        "this function decodes a string of list of strings into a list of columns\n",
        "\n",
        "\n"
      ]
    },
    {
      "cell_type": "code",
      "metadata": {
        "colab": {
          "base_uri": "https://localhost:8080/"
        },
        "id": "HYS7ao49FY9h",
        "outputId": "55ea72f5-4277-4c83-bc96-0e6fa622e588"
      },
      "source": [
        "text = pathlib.Path(titanic_file_path).read_text()\n",
        "lines = text.split('\\n')[1:-1]\n",
        "\n",
        "all_strings = [str()]*10\n",
        "all_strings"
      ],
      "execution_count": 62,
      "outputs": [
        {
          "output_type": "execute_result",
          "data": {
            "text/plain": [
              "['', '', '', '', '', '', '', '', '', '']"
            ]
          },
          "metadata": {
            "tags": []
          },
          "execution_count": 62
        }
      ]
    },
    {
      "cell_type": "code",
      "metadata": {
        "colab": {
          "base_uri": "https://localhost:8080/"
        },
        "id": "Dq9bXflVHJPt",
        "outputId": "ae26f5e0-a569-4a35-9372-0e0a809f0049"
      },
      "source": [
        "features = tf.io.decode_csv(lines, record_defaults= all_strings)\n",
        "for f in features:\n",
        "  print(f\"type:{f.dtype.name}, shape: {f.shape}\")"
      ],
      "execution_count": 63,
      "outputs": [
        {
          "output_type": "stream",
          "text": [
            "type:string, shape: (627,)\n",
            "type:string, shape: (627,)\n",
            "type:string, shape: (627,)\n",
            "type:string, shape: (627,)\n",
            "type:string, shape: (627,)\n",
            "type:string, shape: (627,)\n",
            "type:string, shape: (627,)\n",
            "type:string, shape: (627,)\n",
            "type:string, shape: (627,)\n",
            "type:string, shape: (627,)\n"
          ],
          "name": "stdout"
        }
      ]
    },
    {
      "cell_type": "code",
      "metadata": {
        "colab": {
          "base_uri": "https://localhost:8080/"
        },
        "id": "-UNe6ckzHwit",
        "outputId": "f893db56-dedb-43da-c0be-11a96651dff8"
      },
      "source": [
        "print(lines[0])"
      ],
      "execution_count": 64,
      "outputs": [
        {
          "output_type": "stream",
          "text": [
            "0,male,22.0,1,0,7.25,Third,unknown,Southampton,n\n"
          ],
          "name": "stdout"
        }
      ]
    },
    {
      "cell_type": "code",
      "metadata": {
        "colab": {
          "base_uri": "https://localhost:8080/"
        },
        "id": "OhI4a-IxH5Fr",
        "outputId": "f05854be-eefb-4251-afc4-2b25cc5120d5"
      },
      "source": [
        "titanic_types = [int(), str(), float(), int(), int(), float(), str(), str(), str(), str()]\n",
        "titanic_types"
      ],
      "execution_count": 67,
      "outputs": [
        {
          "output_type": "execute_result",
          "data": {
            "text/plain": [
              "[0, '', 0.0, 0, 0, 0.0, '', '', '', '']"
            ]
          },
          "metadata": {
            "tags": []
          },
          "execution_count": 67
        }
      ]
    },
    {
      "cell_type": "code",
      "metadata": {
        "colab": {
          "base_uri": "https://localhost:8080/"
        },
        "id": "jHD9963FIF0X",
        "outputId": "aed96cd0-455d-442e-c072-bf73cae9295e"
      },
      "source": [
        "features = tf.io.decode_csv(lines, record_defaults= titanic_types)\n",
        "\n",
        "for f in features:\n",
        "  print(f\"type:{f.dtype.name}, shape: {f.shape}\")"
      ],
      "execution_count": 68,
      "outputs": [
        {
          "output_type": "stream",
          "text": [
            "type:int32, shape: (627,)\n",
            "type:string, shape: (627,)\n",
            "type:float32, shape: (627,)\n",
            "type:int32, shape: (627,)\n",
            "type:int32, shape: (627,)\n",
            "type:float32, shape: (627,)\n",
            "type:string, shape: (627,)\n",
            "type:string, shape: (627,)\n",
            "type:string, shape: (627,)\n",
            "type:string, shape: (627,)\n"
          ],
          "name": "stdout"
        }
      ]
    },
    {
      "cell_type": "markdown",
      "metadata": {
        "id": "XU5DG-CSIuJP"
      },
      "source": [
        "# tf.data.experimental.CsvDataset\n",
        "The tf.data.experimental.CsvDataset class provides a minimal CSV Dataset interface without the convenience features of the make_csv_dataset function: column header parsing, column type-inference, automatic shuffling, file interleaving.\n",
        "\n",
        "This constructor follows uses record_defaults the same way as io.parse_csv"
      ]
    },
    {
      "cell_type": "code",
      "metadata": {
        "colab": {
          "base_uri": "https://localhost:8080/"
        },
        "id": "IPVa1HjHIf5Y",
        "outputId": "41bbd117-11d8-41a2-889f-08d724494e5f"
      },
      "source": [
        "simple_titanic = tf.data.experimental.CsvDataset(titanic_file_path, record_defaults=titanic_types, header=True)\n",
        "\n",
        "for example in simple_titanic.take(1):\n",
        "  print([e.numpy() for e in example])"
      ],
      "execution_count": 70,
      "outputs": [
        {
          "output_type": "stream",
          "text": [
            "[0, b'male', 22.0, 1, 0, 7.25, b'Third', b'unknown', b'Southampton', b'n']\n"
          ],
          "name": "stdout"
        }
      ]
    },
    {
      "cell_type": "markdown",
      "metadata": {
        "id": "B0_ptUoWJ07z"
      },
      "source": [
        "The above code is equivalent to "
      ]
    },
    {
      "cell_type": "code",
      "metadata": {
        "colab": {
          "base_uri": "https://localhost:8080/"
        },
        "id": "SsYVoJ1dJJsh",
        "outputId": "36c9ddc0-6572-4ad9-c3f6-1b586b0bb49d"
      },
      "source": [
        "def decode_titanic_line(line):\n",
        "  return tf.io.decode_csv(line, titanic_types)\n",
        "\n",
        "manual_titanic = (\n",
        "    #load lines \n",
        "    tf.data.TextLineDataset(titanic_file_path)\n",
        "    #skip header row \n",
        "    .skip(1)\n",
        "    #decode the line \n",
        "    .map(decode_titanic_line)\n",
        ")\n",
        "\n",
        "for example in manual_titanic.take(1):\n",
        "  print([e.numpy() for e in example])"
      ],
      "execution_count": 71,
      "outputs": [
        {
          "output_type": "stream",
          "text": [
            "[0, b'male', 22.0, 1, 0, 7.25, b'Third', b'unknown', b'Southampton', b'n']\n"
          ],
          "name": "stdout"
        }
      ]
    },
    {
      "cell_type": "markdown",
      "metadata": {
        "id": "Fb4oIb7AKhuK"
      },
      "source": [
        "## Multiple files \n",
        "To parse the fonts dataset using experimental.CsvDataset, you first need to determine the column types for the record_defaults. Start by inspecting the first row of one file:\n"
      ]
    },
    {
      "cell_type": "code",
      "metadata": {
        "colab": {
          "base_uri": "https://localhost:8080/"
        },
        "id": "8Ki2PMIuKfTv",
        "outputId": "4e780821-3c06-4b32-c204-d43027b2bb84"
      },
      "source": [
        "font_line = pathlib.Path(font_csvs[0]).read_text().splitlines()[1]\n",
        "print(font_line)"
      ],
      "execution_count": 72,
      "outputs": [
        {
          "output_type": "stream",
          "text": [
            "AGENCY,AGENCY FB,64258,0.400000,0,0.000000,35,21,51,22,20,20,1,1,1,21,101,210,255,255,255,255,255,255,255,255,255,255,255,255,255,255,1,1,1,93,255,255,255,176,146,146,146,146,146,146,146,146,216,255,255,255,1,1,1,93,255,255,255,70,1,1,1,1,1,1,1,1,163,255,255,255,1,1,1,93,255,255,255,70,1,1,1,1,1,1,1,1,163,255,255,255,1,1,1,93,255,255,255,70,1,1,1,1,1,1,1,1,163,255,255,255,1,1,1,93,255,255,255,70,1,1,1,1,1,1,1,1,163,255,255,255,1,1,1,93,255,255,255,70,1,1,1,1,1,1,1,1,163,255,255,255,141,141,141,182,255,255,255,172,141,141,141,115,1,1,1,1,163,255,255,255,255,255,255,255,255,255,255,255,255,255,255,209,1,1,1,1,163,255,255,255,6,6,6,96,255,255,255,74,6,6,6,5,1,1,1,1,163,255,255,255,1,1,1,93,255,255,255,70,1,1,1,1,1,1,1,1,163,255,255,255,1,1,1,93,255,255,255,70,1,1,1,1,1,1,1,1,163,255,255,255,1,1,1,93,255,255,255,70,1,1,1,1,1,1,1,1,163,255,255,255,1,1,1,93,255,255,255,70,1,1,1,1,1,1,1,1,163,255,255,255,1,1,1,93,255,255,255,70,1,1,1,1,1,1,1,1,163,255,255,255,1,1,1,93,255,255,255,70,1,1,1,1,1,1,1,1,163,255,255,255,1,1,1,93,255,255,255,70,1,1,1,1,1,1,1,1,163,255,255,255,1,1,1,93,255,255,255,70,1,1,1,1,1,1,1,1,163,255,255,255,1,1,1,93,255,255,255,70,1,1,1,1,1,1,1,1,163,255,255,255,1,1,1,93,255,255,255,70,1,1,1,1,1,1,1,1,163,255,255,255\n"
          ],
          "name": "stdout"
        }
      ]
    },
    {
      "cell_type": "markdown",
      "metadata": {
        "id": "7vu8TFvLLKyr"
      },
      "source": [
        "Only the first two fields are strings, the rest are ints or floats, and you can get the total number of features by counting the commas:"
      ]
    },
    {
      "cell_type": "code",
      "metadata": {
        "id": "YPjfQmATK8rC"
      },
      "source": [
        "num_font_features = font_line.count(',')+1\n",
        "font_column_types = [str(), str()] + [float()]*(num_font_features-2)"
      ],
      "execution_count": 73,
      "outputs": []
    },
    {
      "cell_type": "markdown",
      "metadata": {
        "id": "PT1pdPaALk-k"
      },
      "source": [
        "The CsvDatasaet constructor can take a list of input files, but reads them sequentially. The first file in the list of CSVs is AGENCY.csv:"
      ]
    },
    {
      "cell_type": "code",
      "metadata": {
        "colab": {
          "base_uri": "https://localhost:8080/",
          "height": 35
        },
        "id": "5AMJTbuaLhQB",
        "outputId": "8b51fac3-cda7-4520-e682-4282dd4f2007"
      },
      "source": [
        "font_csvs[0]"
      ],
      "execution_count": 74,
      "outputs": [
        {
          "output_type": "execute_result",
          "data": {
            "application/vnd.google.colaboratory.intrinsic+json": {
              "type": "string"
            },
            "text/plain": [
              "'fonts/AGENCY.csv'"
            ]
          },
          "metadata": {
            "tags": []
          },
          "execution_count": 74
        }
      ]
    },
    {
      "cell_type": "markdown",
      "metadata": {
        "id": "qtpbW0ceLwRT"
      },
      "source": [
        "So when you pass pass the list of files to CsvDataaset the records from AGENCY.csv are read first:"
      ]
    },
    {
      "cell_type": "code",
      "metadata": {
        "colab": {
          "base_uri": "https://localhost:8080/"
        },
        "id": "pgMWGoBvLok8",
        "outputId": "1a0c6295-921f-42f9-b414-85fe26ee1c7d"
      },
      "source": [
        "simple_font_ds = tf.data.experimental.CsvDataset(\n",
        "    font_csvs,\n",
        "    record_defaults = font_column_types,\n",
        "    header = True\n",
        ")\n",
        "\n",
        "for row in simple_font_ds.take(10):\n",
        "  print(row[0].numpy())"
      ],
      "execution_count": 75,
      "outputs": [
        {
          "output_type": "stream",
          "text": [
            "b'AGENCY'\n",
            "b'AGENCY'\n",
            "b'AGENCY'\n",
            "b'AGENCY'\n",
            "b'AGENCY'\n",
            "b'AGENCY'\n",
            "b'AGENCY'\n",
            "b'AGENCY'\n",
            "b'AGENCY'\n",
            "b'AGENCY'\n"
          ],
          "name": "stdout"
        }
      ]
    },
    {
      "cell_type": "markdown",
      "metadata": {
        "id": "HXjPaAh5MMxL"
      },
      "source": [
        "To interleave multiple files, use Dataset.interleave.\n",
        "\n",
        "Here's an initial dataset that contains the csv file names:"
      ]
    },
    {
      "cell_type": "code",
      "metadata": {
        "id": "tlGkUN2xMEhi"
      },
      "source": [
        "font_files = tf.data.Dataset.list_files(\"fonts/*.csv\")"
      ],
      "execution_count": 76,
      "outputs": []
    },
    {
      "cell_type": "markdown",
      "metadata": {
        "id": "F3NRKDy-MWsy"
      },
      "source": [
        "This shuffles the file name each epoch :"
      ]
    },
    {
      "cell_type": "code",
      "metadata": {
        "colab": {
          "base_uri": "https://localhost:8080/"
        },
        "id": "fohVbkOhMUPs",
        "outputId": "fc21080d-87e6-4f57-a137-46643b283c3a"
      },
      "source": [
        "print('Epoch 1:')\n",
        "\n",
        "for f in list(font_files)[:5]:\n",
        "  print(\"    \",f.numpy())\n",
        "print('   ...')\n",
        "print()\n",
        "\n",
        "print('Epoch 2:')\n",
        "for f in list(font_files)[:5]:\n",
        "  print(\"    \",f.numpy())\n",
        "print('   ...')"
      ],
      "execution_count": 77,
      "outputs": [
        {
          "output_type": "stream",
          "text": [
            "Epoch 1:\n",
            "     b'fonts/MATURA.csv'\n",
            "     b'fonts/FELIX TITLING.csv'\n",
            "     b'fonts/TREBUCHET.csv'\n",
            "     b'fonts/EUROROMAN.csv'\n",
            "     b'fonts/REFERENCE.csv'\n",
            "   ...\n",
            "\n",
            "Epoch 2:\n",
            "     b'fonts/MODERN.csv'\n",
            "     b'fonts/VLADIMIR.csv'\n",
            "     b'fonts/BERLIN.csv'\n",
            "     b'fonts/CASTELLAR.csv'\n",
            "     b'fonts/PHAGSPA.csv'\n",
            "   ...\n"
          ],
          "name": "stdout"
        }
      ]
    },
    {
      "cell_type": "markdown",
      "metadata": {
        "id": "Sm2xCOQtNLH4"
      },
      "source": [
        "The interleave method takes a map_func that creates a child-Dataset for each element of the parent-Dataset.\n",
        "\n",
        "Here, you want to create a CsvDataset from each element of the dataset of files:"
      ]
    },
    {
      "cell_type": "code",
      "metadata": {
        "id": "-mNj7oZ0M8vx"
      },
      "source": [
        "def make_font_csv_ds(path):\n",
        "  return tf.data.experimental.CsvDataset(\n",
        "      path,\n",
        "      record_defaults = font_column_types,\n",
        "      header = True\n",
        "  )\n",
        "\n"
      ],
      "execution_count": 78,
      "outputs": []
    },
    {
      "cell_type": "markdown",
      "metadata": {
        "id": "o6T6tmAcNjoZ"
      },
      "source": [
        "The Dataset returned by interleave returns elements by cycling over a number of the child-Datasets. Note, below, how the dataset cycles over cycle_length)=3 three font files:"
      ]
    },
    {
      "cell_type": "code",
      "metadata": {
        "id": "NSp44OBINc_x"
      },
      "source": [
        "font_rows = font_files.interleave(make_font_csv_ds,\n",
        "                                  cycle_length = 3)"
      ],
      "execution_count": 79,
      "outputs": []
    },
    {
      "cell_type": "code",
      "metadata": {
        "colab": {
          "base_uri": "https://localhost:8080/",
          "height": 359
        },
        "id": "mD7cA68iNrUQ",
        "outputId": "98cc23f9-78fe-456b-c5be-eaba6641a27d"
      },
      "source": [
        "fonts_dict = {'font_name':[], 'character':[]}\n",
        "\n",
        "for row in font_rows.take(10):\n",
        "  fonts_dict['font_name'].append(row[0].numpy().decode())\n",
        "  fonts_dict['character'].append(chr(row[2].numpy()))\n",
        "\n",
        "pd.DataFrame(fonts_dict)"
      ],
      "execution_count": 81,
      "outputs": [
        {
          "output_type": "execute_result",
          "data": {
            "text/html": [
              "<div>\n",
              "<style scoped>\n",
              "    .dataframe tbody tr th:only-of-type {\n",
              "        vertical-align: middle;\n",
              "    }\n",
              "\n",
              "    .dataframe tbody tr th {\n",
              "        vertical-align: top;\n",
              "    }\n",
              "\n",
              "    .dataframe thead th {\n",
              "        text-align: right;\n",
              "    }\n",
              "</style>\n",
              "<table border=\"1\" class=\"dataframe\">\n",
              "  <thead>\n",
              "    <tr style=\"text-align: right;\">\n",
              "      <th></th>\n",
              "      <th>font_name</th>\n",
              "      <th>character</th>\n",
              "    </tr>\n",
              "  </thead>\n",
              "  <tbody>\n",
              "    <tr>\n",
              "      <th>0</th>\n",
              "      <td>BITSTREAMVERA</td>\n",
              "      <td>J</td>\n",
              "    </tr>\n",
              "    <tr>\n",
              "      <th>1</th>\n",
              "      <td>BAUHAUS</td>\n",
              "      <td></td>\n",
              "    </tr>\n",
              "    <tr>\n",
              "      <th>2</th>\n",
              "      <td>TW</td>\n",
              "      <td>ﬂ</td>\n",
              "    </tr>\n",
              "    <tr>\n",
              "      <th>3</th>\n",
              "      <td>BITSTREAMVERA</td>\n",
              "      <td>Z</td>\n",
              "    </tr>\n",
              "    <tr>\n",
              "      <th>4</th>\n",
              "      <td>BAUHAUS</td>\n",
              "      <td></td>\n",
              "    </tr>\n",
              "    <tr>\n",
              "      <th>5</th>\n",
              "      <td>TW</td>\n",
              "      <td>ﬁ</td>\n",
              "    </tr>\n",
              "    <tr>\n",
              "      <th>6</th>\n",
              "      <td>BITSTREAMVERA</td>\n",
              "      <td>D</td>\n",
              "    </tr>\n",
              "    <tr>\n",
              "      <th>7</th>\n",
              "      <td>BAUHAUS</td>\n",
              "      <td>◊</td>\n",
              "    </tr>\n",
              "    <tr>\n",
              "      <th>8</th>\n",
              "      <td>TW</td>\n",
              "      <td></td>\n",
              "    </tr>\n",
              "    <tr>\n",
              "      <th>9</th>\n",
              "      <td>BITSTREAMVERA</td>\n",
              "      <td>S</td>\n",
              "    </tr>\n",
              "  </tbody>\n",
              "</table>\n",
              "</div>"
            ],
            "text/plain": [
              "       font_name character\n",
              "0  BITSTREAMVERA         J\n",
              "1        BAUHAUS         \n",
              "2             TW         ﬂ\n",
              "3  BITSTREAMVERA         Z\n",
              "4        BAUHAUS         \n",
              "5             TW         ﬁ\n",
              "6  BITSTREAMVERA         D\n",
              "7        BAUHAUS         ◊\n",
              "8             TW         \n",
              "9  BITSTREAMVERA         S"
            ]
          },
          "metadata": {
            "tags": []
          },
          "execution_count": 81
        }
      ]
    },
    {
      "cell_type": "markdown",
      "metadata": {
        "id": "yHTMxeV1OYGW"
      },
      "source": [
        "## Performancewith cahching\n",
        "\n",
        "Earlier, it was noted that io.decode_csv is more efficient when run on a batch of strings.\n",
        "\n",
        "It is possible to take advantage of this fact, when using large batch sizes, to improve CSV loading performance (but try caching first).\n",
        "\n",
        "With the built-in loader 20, 2048-example batches take about 17s.[link text](https://)"
      ]
    },
    {
      "cell_type": "code",
      "metadata": {
        "id": "XCI4jCoiOPiW"
      },
      "source": [
        "BATCH_SIZE = 2048\n",
        "\n",
        "fonts_ds = tf.data.experimental.make_csv_dataset(\n",
        "    file_pattern = \"fonts/*.csv\",\n",
        "    batch_size = BATCH_SIZE, num_epochs = 1,\n",
        "    num_parallel_reads = 100\n",
        "\n",
        ")"
      ],
      "execution_count": 82,
      "outputs": []
    },
    {
      "cell_type": "code",
      "metadata": {
        "colab": {
          "base_uri": "https://localhost:8080/"
        },
        "id": "kcafgwDAO4sC",
        "outputId": "7f339699-73dd-4929-ad10-755e1a4cb4b0"
      },
      "source": [
        "%%time \n",
        "\n",
        "for i,batch in enumerate(fonts_ds.take(20)):\n",
        "  print('.', end = '')\n",
        "\n",
        "print()"
      ],
      "execution_count": 83,
      "outputs": [
        {
          "output_type": "stream",
          "text": [
            "....................\n",
            "CPU times: user 19.1 s, sys: 1.42 s, total: 20.5 s\n",
            "Wall time: 15.9 s\n"
          ],
          "name": "stdout"
        }
      ]
    },
    {
      "cell_type": "markdown",
      "metadata": {
        "id": "Eb9sX14jPSOX"
      },
      "source": [
        "Passing batches of text lines todecode_csv runs faster, in about 5s:\n",
        "\n"
      ]
    },
    {
      "cell_type": "code",
      "metadata": {
        "id": "2oCiEcMKPMjI"
      },
      "source": [
        "fonts_files = tf.data.Dataset.list_files(\"fonts/*.csv\")\n",
        "fonts_lines = fonts_files.interleave(\n",
        "    lambda fname:tf.data.TextLineDataset(fname).skip(1),\n",
        "    cycle_length = 100\n",
        ").batch(BATCH_SIZE)\n",
        "\n",
        "fonts_fast = fonts_lines.map(lambda x : tf.io.decode_csv(x, record_defaults=font_column_types))"
      ],
      "execution_count": 84,
      "outputs": []
    },
    {
      "cell_type": "code",
      "metadata": {
        "colab": {
          "base_uri": "https://localhost:8080/"
        },
        "id": "iN2f7QodP_br",
        "outputId": "9608c7aa-53c0-4ae9-c2f1-bb8fdc7961a6"
      },
      "source": [
        "%%time \n",
        "\n",
        "for i, batch in enumerate(fonts_fast.take(20)):\n",
        "  print('.', end = '')\n",
        "\n",
        "print()"
      ],
      "execution_count": 85,
      "outputs": [
        {
          "output_type": "stream",
          "text": [
            "....................\n",
            "CPU times: user 5.4 s, sys: 40.1 ms, total: 5.44 s\n",
            "Wall time: 4.61 s\n"
          ],
          "name": "stdout"
        }
      ]
    }
  ]
}