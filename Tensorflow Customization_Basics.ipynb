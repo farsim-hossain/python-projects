{
  "nbformat": 4,
  "nbformat_minor": 0,
  "metadata": {
    "colab": {
      "name": "Customization Basics.ipynb",
      "provenance": [],
      "authorship_tag": "ABX9TyNgzWmSwEmZZ5O6txh8Nc4o"
    },
    "kernelspec": {
      "name": "python3",
      "display_name": "Python 3"
    },
    "language_info": {
      "name": "python"
    },
    "accelerator": "GPU"
  },
  "cells": [
    {
      "cell_type": "markdown",
      "metadata": {
        "id": "5MklMHJAoq6Y"
      },
      "source": [
        "# Customization Basics : Tensors and Operators \n",
        "\n",
        "In this notebook we will explore how to import required packages, create and use tensors, use GPU acceleration and demonstrate tf.data.dataset"
      ]
    },
    {
      "cell_type": "code",
      "metadata": {
        "id": "gBNmGq_tolIf"
      },
      "source": [
        "# Importing tensorflow\n",
        "\n",
        "import tensorflow as tf "
      ],
      "execution_count": 2,
      "outputs": []
    },
    {
      "cell_type": "markdown",
      "metadata": {
        "id": "lkzBZSbipXfJ"
      },
      "source": [
        "## Tensors\n",
        "A Tensor is a multi-dimensional array. Similar to NumPy ndarray objects, tf.Tensor objects have a data type and a shape. Additionally, tf.Tensors can reside in accelerator memory (like a GPU). TensorFlow offers a rich library of operations (tf.add, tf.matmul, tf.linalg.inv etc.) that consume and produce tf.Tensors. These operations automatically convert native Python types,"
      ]
    },
    {
      "cell_type": "code",
      "metadata": {
        "colab": {
          "base_uri": "https://localhost:8080/"
        },
        "id": "s7_VzCMcpT3p",
        "outputId": "6d82fbac-ada4-4b82-abc5-147170b5e4d4"
      },
      "source": [
        "# some example tensors \n",
        "\n",
        "print(tf.add(1,2))\n"
      ],
      "execution_count": 3,
      "outputs": [
        {
          "output_type": "stream",
          "text": [
            "tf.Tensor(3, shape=(), dtype=int32)\n"
          ],
          "name": "stdout"
        }
      ]
    },
    {
      "cell_type": "code",
      "metadata": {
        "colab": {
          "base_uri": "https://localhost:8080/"
        },
        "id": "sP9SdDMFpw9t",
        "outputId": "a761d776-1a8c-4851-b57c-08d1d9ebcab1"
      },
      "source": [
        "print(tf.add ([1,2], [3,4]))"
      ],
      "execution_count": 4,
      "outputs": [
        {
          "output_type": "stream",
          "text": [
            "tf.Tensor([4 6], shape=(2,), dtype=int32)\n"
          ],
          "name": "stdout"
        }
      ]
    },
    {
      "cell_type": "code",
      "metadata": {
        "colab": {
          "base_uri": "https://localhost:8080/"
        },
        "id": "HcQlDs48p4jU",
        "outputId": "19f43007-7d58-49fa-97e6-d46f2e5ad457"
      },
      "source": [
        "print(tf.square(5))"
      ],
      "execution_count": 5,
      "outputs": [
        {
          "output_type": "stream",
          "text": [
            "tf.Tensor(25, shape=(), dtype=int32)\n"
          ],
          "name": "stdout"
        }
      ]
    },
    {
      "cell_type": "code",
      "metadata": {
        "colab": {
          "base_uri": "https://localhost:8080/"
        },
        "id": "RtJD2w2vqDFM",
        "outputId": "9c170399-617e-4087-f118-df34a2768f79"
      },
      "source": [
        "print(tf.reduce_sum([1,2,3]))"
      ],
      "execution_count": 6,
      "outputs": [
        {
          "output_type": "stream",
          "text": [
            "tf.Tensor(6, shape=(), dtype=int32)\n"
          ],
          "name": "stdout"
        }
      ]
    },
    {
      "cell_type": "markdown",
      "metadata": {
        "id": "1VoHL7fhq0d1"
      },
      "source": [
        "Each tensor has a shape and a datatype"
      ]
    },
    {
      "cell_type": "code",
      "metadata": {
        "colab": {
          "base_uri": "https://localhost:8080/"
        },
        "id": "brTdPAuXqKJ-",
        "outputId": "eab33987-face-483c-8151-8ec0ec4ddaf9"
      },
      "source": [
        "x = tf.matmul([[1]], [[2,3]])\n",
        "print(x)\n",
        "print(x.shape)\n",
        "print(x.dtype)"
      ],
      "execution_count": 7,
      "outputs": [
        {
          "output_type": "stream",
          "text": [
            "tf.Tensor([[2 3]], shape=(1, 2), dtype=int32)\n",
            "(1, 2)\n",
            "<dtype: 'int32'>\n"
          ],
          "name": "stdout"
        }
      ]
    },
    {
      "cell_type": "markdown",
      "metadata": {
        "id": "H7qwMY-esfHF"
      },
      "source": [
        "Tensor and numpy\n",
        "\n",
        "Although two types are kind of similar, there are some underlying differences among tensor and numpy arrays. Tensors are backed by GPU and numpy are backed by hosted memory."
      ]
    },
    {
      "cell_type": "code",
      "metadata": {
        "colab": {
          "base_uri": "https://localhost:8080/"
        },
        "id": "U0tP3OsarD78",
        "outputId": "b5437a97-44dc-47f5-d149-fe68c7c78f68"
      },
      "source": [
        "import numpy as np \n",
        "\n",
        "ndarray = np.ones([3,2])\n",
        "# here we will see that tf operations convert numpy arrays to tensors automatically\n",
        "\n",
        "tensor = tf.multiply(ndarray, 42)\n",
        "print(tensor)\n",
        "\n"
      ],
      "execution_count": 8,
      "outputs": [
        {
          "output_type": "stream",
          "text": [
            "tf.Tensor(\n",
            "[[42. 42.]\n",
            " [42. 42.]\n",
            " [42. 42.]], shape=(3, 2), dtype=float64)\n"
          ],
          "name": "stdout"
        }
      ]
    },
    {
      "cell_type": "code",
      "metadata": {
        "colab": {
          "base_uri": "https://localhost:8080/"
        },
        "id": "8Ahv0naCtMzG",
        "outputId": "9c9d0fd4-77f0-4104-9b2d-718925d30cf1"
      },
      "source": [
        "# And NumPy operations convert Tensors to numpy arrays automatically\n",
        "\n",
        "print(np.add(tensor, 1))"
      ],
      "execution_count": 9,
      "outputs": [
        {
          "output_type": "stream",
          "text": [
            "[[43. 43.]\n",
            " [43. 43.]\n",
            " [43. 43.]]\n"
          ],
          "name": "stdout"
        }
      ]
    },
    {
      "cell_type": "code",
      "metadata": {
        "colab": {
          "base_uri": "https://localhost:8080/"
        },
        "id": "0aQVLY7Atyrs",
        "outputId": "bef0d60e-7511-4052-91f8-5da1840f8cd4"
      },
      "source": [
        "# The .numpy() method explicitly converts a Tensor to a numpy array\n",
        "\n",
        "print(tensor.numpy())"
      ],
      "execution_count": 10,
      "outputs": [
        {
          "output_type": "stream",
          "text": [
            "[[42. 42.]\n",
            " [42. 42.]\n",
            " [42. 42.]]\n"
          ],
          "name": "stdout"
        }
      ]
    },
    {
      "cell_type": "markdown",
      "metadata": {
        "id": "wV_dFzmzu1UF"
      },
      "source": [
        "## GPU Acceleration \n",
        "\n",
        "Usually tensors use GPU and without any annotations, tensors use both cpu and GPU. "
      ]
    },
    {
      "cell_type": "code",
      "metadata": {
        "colab": {
          "base_uri": "https://localhost:8080/"
        },
        "id": "L8wt7qunt9aG",
        "outputId": "05c66754-2777-4885-8c5f-2bc4f60be459"
      },
      "source": [
        "x = tf.random.uniform([3,3])\n",
        "\n",
        "# we can check whether there is any GPU available in the computer \n",
        " #change runtime on colab to GPU and run the following\n",
        "print(tf.config.list_physical_devices(\"GPU\"))"
      ],
      "execution_count": 11,
      "outputs": [
        {
          "output_type": "stream",
          "text": [
            "[PhysicalDevice(name='/physical_device:GPU:0', device_type='GPU')]\n"
          ],
          "name": "stdout"
        }
      ]
    },
    {
      "cell_type": "markdown",
      "metadata": {
        "id": "eBF-uliFvvnd"
      },
      "source": [
        "We can see that there is a GPU running - GPU 0"
      ]
    },
    {
      "cell_type": "code",
      "metadata": {
        "colab": {
          "base_uri": "https://localhost:8080/"
        },
        "id": "61cKdioWvknF",
        "outputId": "1c577321-bc02-4e69-abd8-551abd4f1959"
      },
      "source": [
        "# check on whether our tensor is running on GPU 0 or not\n",
        "\n",
        "print(x.device.endswith('GPU:0'))"
      ],
      "execution_count": 14,
      "outputs": [
        {
          "output_type": "stream",
          "text": [
            "True\n"
          ],
          "name": "stdout"
        }
      ]
    },
    {
      "cell_type": "markdown",
      "metadata": {
        "id": "JzCF8R-YxIJ0"
      },
      "source": [
        "## Explicit Device Placement \n",
        "\n",
        "In tensorflow, placement refers to how individual operations are assigned on a device for execution. When there is no guidance provided, tensorflow automatically decides which device to execute an operation and copies tensors to that device. If needed, tensorflow operations are explicitly placed on specific devices using the tf.device context manager."
      ]
    },
    {
      "cell_type": "code",
      "metadata": {
        "colab": {
          "base_uri": "https://localhost:8080/"
        },
        "id": "hcnqn0KewFbW",
        "outputId": "8a90a72d-3f4a-428a-f73e-abb594d9c741"
      },
      "source": [
        "# Example \n",
        "\n",
        "import time \n",
        "\n",
        "def time_matmul(x):\n",
        "  start = time.time()\n",
        "  for loop in range(10):\n",
        "    tf.matmul(x,x)\n",
        "\n",
        "  result = time.time() - start \n",
        "\n",
        "  print(\"10 loops : {:0.2f}ms\".format(1000*result))\n",
        "\n",
        "\n",
        "# we will force this execution to cpu \n",
        "\n",
        "print('On CPU')\n",
        "with tf.device(\"CPU:0\"):\n",
        "  x = tf.random.uniform([1000,1000]) #random numbers 1000 points X 1000 arrays\n",
        "  assert x.device.endswith(\"CPU:0\") # make sure it happens on CPU 0\n",
        "  time_matmul(x) # running a matrix multiplication of x into x and displays how much time it takes for the operation\n",
        "\n",
        "# lets force the execution to GPU \n",
        "\n",
        "if tf.config.list_physical_devices(\"GPU\"): # if GPU is available\n",
        "  print(\"On GPU\")\n",
        "  with tf.device(\"GPU:0\"):\n",
        "    x = tf.random.uniform([1000,1000])\n",
        "    assert x.device.endswith(\"GPU:0\")\n",
        "    time_matmul(x)\n"
      ],
      "execution_count": 19,
      "outputs": [
        {
          "output_type": "stream",
          "text": [
            "On CPU\n",
            "10 loops : 393.74ms\n",
            "On GPU\n",
            "10 loops : 2565.94ms\n"
          ],
          "name": "stdout"
        }
      ]
    },
    {
      "cell_type": "markdown",
      "metadata": {
        "id": "9h4AztzZ2PCI"
      },
      "source": [
        "## Datasets\n",
        "This section uses the tf.data.Dataset API to build a pipeline for feeding data to your model. The tf.data.Dataset API is used to build performant, complex input pipelines from simple, re-usable pieces that will feed your model's training or evaluation loops."
      ]
    },
    {
      "cell_type": "code",
      "metadata": {
        "id": "Rum5I1YwzyPD"
      },
      "source": [
        "# create a source dataset with tf factory functions \n",
        "\n",
        "ds_tensors = tf.data.Dataset.from_tensor_slices([1,2,3,4,5,6])\n",
        "\n",
        "# create csv \n",
        "import tempfile \n",
        "_, filename = tempfile.mkstemp()\n",
        "\n",
        "with open(filename, 'w') as f:\n",
        "  f.write(\"\"\"Line 1\n",
        "Line 2\n",
        "Line 3\n",
        "  \"\"\")\n",
        "\n",
        "ds_file = tf.data.TextLineDataset(filename)"
      ],
      "execution_count": 21,
      "outputs": []
    },
    {
      "cell_type": "code",
      "metadata": {
        "colab": {
          "base_uri": "https://localhost:8080/"
        },
        "id": "oIrs3PbV44t0",
        "outputId": "dd36b6ed-b1ca-4331-8b08-ed8efe8193d7"
      },
      "source": [
        "print(ds_tensors)"
      ],
      "execution_count": 24,
      "outputs": [
        {
          "output_type": "stream",
          "text": [
            "<TensorSliceDataset shapes: (), types: tf.int32>\n"
          ],
          "name": "stdout"
        }
      ]
    },
    {
      "cell_type": "code",
      "metadata": {
        "colab": {
          "base_uri": "https://localhost:8080/"
        },
        "id": "iFa6NRUV5KU3",
        "outputId": "f8dae412-3f98-4cf6-8d86-3f1052d8435c"
      },
      "source": [
        "ds_file"
      ],
      "execution_count": 25,
      "outputs": [
        {
          "output_type": "execute_result",
          "data": {
            "text/plain": [
              "<TextLineDatasetV2 shapes: (), types: tf.string>"
            ]
          },
          "metadata": {
            "tags": []
          },
          "execution_count": 25
        }
      ]
    },
    {
      "cell_type": "markdown",
      "metadata": {
        "id": "InXCiMka5a7f"
      },
      "source": [
        "## Apply Transformations \n",
        "\n",
        "using map, batch and shuffle"
      ]
    },
    {
      "cell_type": "code",
      "metadata": {
        "id": "3DGBmrqA5YaX"
      },
      "source": [
        "ds_tensors = ds_tensors.map(tf.square).shuffle(2).batch(2)\n",
        "\n",
        "ds_file = ds_file.batch(2)"
      ],
      "execution_count": 26,
      "outputs": []
    },
    {
      "cell_type": "markdown",
      "metadata": {
        "id": "hAgQMeaO75n3"
      },
      "source": [
        "## Iterate \n",
        "\n",
        "tf.data.Dataset objects support iteration to loop over records "
      ]
    },
    {
      "cell_type": "code",
      "metadata": {
        "colab": {
          "base_uri": "https://localhost:8080/"
        },
        "id": "yH2cWPty9otS",
        "outputId": "6fbf0041-c0a6-4da9-f9c9-8d5183f68b91"
      },
      "source": [
        "print('Elements of ds_tensors:')\n",
        "for x in ds_tensors:\n",
        "  print(x)\n",
        "\n",
        "print('\\n Elements of ds_file:')\n",
        "for x in ds_file:\n",
        "  print(x) "
      ],
      "execution_count": 27,
      "outputs": [
        {
          "output_type": "stream",
          "text": [
            "Elements of ds_tensors:\n",
            "tf.Tensor([4 9], shape=(2,), dtype=int32)\n",
            "tf.Tensor([16 25], shape=(2,), dtype=int32)\n",
            "tf.Tensor([ 1 36], shape=(2,), dtype=int32)\n",
            "\n",
            " Elements of ds_file:\n",
            "tf.Tensor([b'Line 1' b'Line 2'], shape=(2,), dtype=string)\n",
            "tf.Tensor([b'Line 3' b'  '], shape=(2,), dtype=string)\n"
          ],
          "name": "stdout"
        }
      ]
    }
  ]
}