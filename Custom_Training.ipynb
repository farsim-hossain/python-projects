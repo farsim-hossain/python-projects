{
  "nbformat": 4,
  "nbformat_minor": 0,
  "metadata": {
    "colab": {
      "name": "Custom Training.ipynb",
      "provenance": [],
      "authorship_tag": "ABX9TyMVTDELDmdFQxSc0xr9c7SA"
    },
    "kernelspec": {
      "name": "python3",
      "display_name": "Python 3"
    },
    "language_info": {
      "name": "python"
    }
  },
  "cells": [
    {
      "cell_type": "markdown",
      "metadata": {
        "id": "N458oZQq4zML"
      },
      "source": [
        "# Custom Training \n",
        "\n",
        "We will build a model using keras api and Tensorflows Eager Execution environment. \n",
        "\n",
        "Eager execution evaluates operation immediately. "
      ]
    },
    {
      "cell_type": "code",
      "metadata": {
        "id": "48rtbCOH4qtG"
      },
      "source": [
        "import os \n",
        "import matplotlib.pyplot as plt\n",
        "import tensorflow as tf\n"
      ],
      "execution_count": 1,
      "outputs": []
    },
    {
      "cell_type": "code",
      "metadata": {
        "colab": {
          "base_uri": "https://localhost:8080/"
        },
        "id": "fo6ZOYTX5_qC",
        "outputId": "0002cde6-f067-48c3-8bcf-b0bcf9dfe7e9"
      },
      "source": [
        "print(\"Tensorflow Version : {}\".format(tf.__version__))\n",
        "print(\"Eager Execution : {}\".format(tf.executing_eagerly()))"
      ],
      "execution_count": 2,
      "outputs": [
        {
          "output_type": "stream",
          "text": [
            "Tensorflow Version : 2.5.0\n",
            "Eager Execution : True\n"
          ],
          "name": "stdout"
        }
      ]
    },
    {
      "cell_type": "markdown",
      "metadata": {
        "id": "qo0puJ9N6jal"
      },
      "source": [
        "## The Iris classification problem \n",
        "\n",
        "We will take Sepal and Petal length to classify Iris flowers. Our program will \n",
        "classify three categories : \n",
        "1. Iris Setosa \n",
        "2. Iris Virginica \n",
        "3. Iris Versicolor\n",
        "\n",
        "\n",
        "## Importing Data "
      ]
    },
    {
      "cell_type": "code",
      "metadata": {
        "colab": {
          "base_uri": "https://localhost:8080/"
        },
        "id": "w3kjR5DU6U-w",
        "outputId": "af00c639-9005-477e-83b1-73f889f86e04"
      },
      "source": [
        "train_dataset_url = \"https://storage.googleapis.com/download.tensorflow.org/data/iris_training.csv\"\n",
        "train_dataset_fp = tf.keras.utils.get_file(fname = os.path.basename(train_dataset_url),\n",
        "                                           origin = train_dataset_url)\n",
        "\n",
        "print(\"Local copy of the dataset file : {}\".format(train_dataset_fp))"
      ],
      "execution_count": 3,
      "outputs": [
        {
          "output_type": "stream",
          "text": [
            "Downloading data from https://storage.googleapis.com/download.tensorflow.org/data/iris_training.csv\n",
            "\r8192/2194 [================================================================================================================] - 0s 0us/step\n",
            "Local copy of the dataset file : /root/.keras/datasets/iris_training.csv\n"
          ],
          "name": "stdout"
        }
      ]
    },
    {
      "cell_type": "markdown",
      "metadata": {
        "id": "Zb0S-Vzm8Nm0"
      },
      "source": [
        "## EDA"
      ]
    },
    {
      "cell_type": "code",
      "metadata": {
        "colab": {
          "base_uri": "https://localhost:8080/"
        },
        "id": "vmHpVUhV8H4I",
        "outputId": "e44a46d7-db1d-4c69-a821-e6dc284299d1"
      },
      "source": [
        "! head -n5 {train_dataset_fp}"
      ],
      "execution_count": 4,
      "outputs": [
        {
          "output_type": "stream",
          "text": [
            "120,4,setosa,versicolor,virginica\n",
            "6.4,2.8,5.6,2.2,2\n",
            "5.0,2.3,3.3,1.0,1\n",
            "4.9,2.5,4.5,1.7,2\n",
            "4.9,3.1,1.5,0.1,0\n"
          ],
          "name": "stdout"
        }
      ]
    },
    {
      "cell_type": "markdown",
      "metadata": {
        "id": "ALPFLkt982U6"
      },
      "source": [
        "In the dataset , the first row explain some information on the dataset.\n",
        "There are 120 examples in the dataset. Each examples or data points have four features and the final column is the class of the 3 specified Iris class "
      ]
    },
    {
      "cell_type": "code",
      "metadata": {
        "colab": {
          "base_uri": "https://localhost:8080/"
        },
        "id": "urzzi8Lk8SaQ",
        "outputId": "0bd22d1a-ff6a-4217-d96a-33a2cd7a8f08"
      },
      "source": [
        "# Column order in CSV file \n",
        "\n",
        "column_names = ['sepal_length', 'sepal_width', 'petal_length', 'petal_width', 'species']\n",
        "\n",
        "feature_names = column_names[:-1]\n",
        "label_name = column_names[-1]\n",
        "\n",
        "print(\"Features : {}\".format(feature_names))\n",
        "print(\"Label : {}\".format(label_name))"
      ],
      "execution_count": 6,
      "outputs": [
        {
          "output_type": "stream",
          "text": [
            "Features : ['sepal_length', 'sepal_width', 'petal_length', 'petal_width']\n",
            "Label : species\n"
          ],
          "name": "stdout"
        }
      ]
    },
    {
      "cell_type": "code",
      "metadata": {
        "id": "zSyhEvI9-iLR"
      },
      "source": [
        "class_names = ['Iris setosa', 'Iris versicolor', 'Iris virginica']"
      ],
      "execution_count": 7,
      "outputs": []
    },
    {
      "cell_type": "markdown",
      "metadata": {
        "id": "oAJCX4OO_auB"
      },
      "source": [
        "## Create a tf.data.Dataset \n",
        "\n",
        "TensorFlow's Dataset API handles many common cases for loading data into a model. This is a high-level API for reading data and transforming it into a form used for training.\n",
        "\n",
        "Since the dataset is a CSV-formatted text file, use the tf.data.experimental.make_csv_dataset function to parse the data into a suitable format. Since this function generates data for training models, the default behavior is to shuffle the data (shuffle=True, shuffle_buffer_size=10000), and repeat the dataset forever (num_epochs=None). We also set the batch_size parameter:\n"
      ]
    },
    {
      "cell_type": "code",
      "metadata": {
        "id": "EbZtFlP7AZWo"
      },
      "source": [
        "# Make a parsable dataset \n",
        "batch_size = 32\n",
        "\n",
        "train_dataset = tf.data.experimental.make_csv_dataset(\n",
        "    train_dataset_fp,\n",
        "    batch_size,\n",
        "    column_names = column_names,\n",
        "    label_name = label_name,\n",
        "    num_epochs = 1 \n",
        "\n",
        ")"
      ],
      "execution_count": 21,
      "outputs": []
    },
    {
      "cell_type": "markdown",
      "metadata": {
        "id": "RVp_zSFCB9mU"
      },
      "source": [
        "The make_csv_dataset function returns a tf.data.Dataset of (features, label) pairs, where features is a dictionary: {'feature_name': value}\n",
        "\n",
        "These Dataset objects are iterable. Let's look at a batch of features:"
      ]
    },
    {
      "cell_type": "code",
      "metadata": {
        "colab": {
          "base_uri": "https://localhost:8080/"
        },
        "id": "9Wt5TDY3A5Ja",
        "outputId": "aca2f8ff-4032-4afa-b134-9b35d520f1cb"
      },
      "source": [
        "features, labels = next(iter(train_dataset))\n",
        "# train_dataset\n",
        "print(features)"
      ],
      "execution_count": 22,
      "outputs": [
        {
          "output_type": "stream",
          "text": [
            "OrderedDict([('sepal_length', <tf.Tensor: shape=(32,), dtype=float32, numpy=\n",
            "array([5.1, 5.5, 5.4, 6.6, 6.7, 6.7, 6.2, 6.1, 4.8, 6.3, 5. , 6.4, 5. ,\n",
            "       5.8, 5. , 6.5, 5.7, 7.2, 6.4, 4.9, 5.8, 5.7, 5.5, 5.4, 4.9, 5.4,\n",
            "       6.8, 5.8, 6.1, 5.1, 4.5, 4.9], dtype=float32)>), ('sepal_width', <tf.Tensor: shape=(32,), dtype=float32, numpy=\n",
            "array([3.5, 2.4, 3.9, 2.9, 3.1, 3. , 2.8, 2.8, 3.4, 3.3, 3.6, 2.7, 3. ,\n",
            "       4. , 3.3, 3. , 4.4, 3. , 3.1, 2.4, 2.7, 2.8, 2.4, 3.7, 3.1, 3.4,\n",
            "       2.8, 2.6, 2.8, 3.8, 2.3, 3.1], dtype=float32)>), ('petal_length', <tf.Tensor: shape=(32,), dtype=float32, numpy=\n",
            "array([1.4, 3.8, 1.3, 4.6, 4.4, 5. , 4.8, 4.7, 1.6, 6. , 1.4, 5.3, 1.6,\n",
            "       1.2, 1.4, 5.2, 1.5, 5.8, 5.5, 3.3, 5.1, 4.5, 3.7, 1.5, 1.5, 1.5,\n",
            "       4.8, 4. , 4. , 1.9, 1.3, 1.5], dtype=float32)>), ('petal_width', <tf.Tensor: shape=(32,), dtype=float32, numpy=\n",
            "array([0.3, 1.1, 0.4, 1.3, 1.4, 1.7, 1.8, 1.2, 0.2, 2.5, 0.2, 1.9, 0.2,\n",
            "       0.2, 0.2, 2. , 0.4, 1.6, 1.8, 1. , 1.9, 1.3, 1. , 0.2, 0.1, 0.4,\n",
            "       1.4, 1.2, 1.3, 0.4, 0.3, 0.1], dtype=float32)>)])\n"
          ],
          "name": "stdout"
        }
      ]
    },
    {
      "cell_type": "markdown",
      "metadata": {
        "id": "3moCKIORGiec"
      },
      "source": [
        "Like features are grouped together or batched. Each example row's fields are \n",
        "appended to the corresponding feature array. We can change the batch size to \n",
        "set the number of examples stored in these feature arrays."
      ]
    },
    {
      "cell_type": "code",
      "metadata": {
        "colab": {
          "base_uri": "https://localhost:8080/",
          "height": 279
        },
        "id": "v3apPeqDCL-B",
        "outputId": "9b26c8fb-875e-4e8d-98f2-e7fe3066d7a8"
      },
      "source": [
        "plt.scatter(features['petal_length'],\n",
        "            features['sepal_length'],\n",
        "            c = labels,\n",
        "            cmap = 'viridis')\n",
        "\n",
        "plt.xlabel(\"Petal Length\")\n",
        "plt.ylabel(\"Sepal Length\")\n",
        "\n",
        "plt.show()"
      ],
      "execution_count": 24,
      "outputs": [
        {
          "output_type": "display_data",
          "data": {
            "image/png": "[encoded data removed]",
            "text/plain": [
              "<Figure size 432x288 with 1 Axes>"
            ]
          },
          "metadata": {
            "tags": [],
            "needs_background": "light"
          }
        }
      ]
    },
    {
      "cell_type": "markdown",
      "metadata": {
        "id": "Fp1-F63GHvHq"
      },
      "source": [
        "To simplify the model building step, create a function to repackage the features dictionary into a single array with shape (bacth size, numer of features) . This might be one of inifinite ways to deal with problem in TF \n",
        "\n",
        "\n",
        "This function uses the tf.stack method which takes values from a list of tensors and creates a combined tensor at the specified dimension."
      ]
    },
    {
      "cell_type": "code",
      "metadata": {
        "id": "xS1Hl8n7HV-g"
      },
      "source": [
        "def pack_features_vector(features, labels):\n",
        "  \"\"\"Pack the features into a single array.\"\"\"\n",
        "  features = tf.stack(list(features.values()), axis=1)\n",
        "  return features, labels"
      ],
      "execution_count": 27,
      "outputs": []
    },
    {
      "cell_type": "markdown",
      "metadata": {
        "id": "N9LiT5uRKXf6"
      },
      "source": [
        "Then use the tf.data.Dataset.map method to pack the features of each (features, label) paril into the training dataset"
      ]
    },
    {
      "cell_type": "code",
      "metadata": {
        "id": "XSFAxG3BKNDc"
      },
      "source": [
        "train_dataset = train_dataset.map(pack_features_vector)"
      ],
      "execution_count": 29,
      "outputs": []
    },
    {
      "cell_type": "markdown",
      "metadata": {
        "id": "_vyjl7MeMOAu"
      },
      "source": [
        "The features element of the Dataset are now arrays with shape (batch_size, num_features). Let's look at the first few examples:"
      ]
    },
    {
      "cell_type": "code",
      "metadata": {
        "colab": {
          "base_uri": "https://localhost:8080/"
        },
        "id": "Wk0EfDG4MOYZ",
        "outputId": "729b6736-4b0d-4742-fa6d-c1fa8c4316e9"
      },
      "source": [
        "features, labels = next(iter(train_dataset))\n",
        "\n",
        "print(features[:5])"
      ],
      "execution_count": 30,
      "outputs": [
        {
          "output_type": "stream",
          "text": [
            "tf.Tensor(\n",
            "[[6.9 3.1 5.1 2.3]\n",
            " [7.7 2.8 6.7 2. ]\n",
            " [4.9 3.1 1.5 0.1]\n",
            " [5.6 2.5 3.9 1.1]\n",
            " [5.5 2.6 4.4 1.2]], shape=(5, 4), dtype=float32)\n"
          ],
          "name": "stdout"
        }
      ]
    },
    {
      "cell_type": "markdown",
      "metadata": {
        "id": "AlU_a7JGRTq2"
      },
      "source": [
        "## Modeling using Keras \n",
        "\n",
        "\n",
        "\n"
      ]
    },
    {
      "cell_type": "code",
      "metadata": {
        "id": "-hN50V-gMpgz"
      },
      "source": [
        "model = tf.keras.Sequential([\n",
        "                             tf.keras.layers.Dense(10, activation = tf.nn.relu, input_shape = (4,)),\n",
        "                             tf.keras.layers.Dense(10, activation= tf.nn.relu),\n",
        "                             tf.keras.layers.Dense(3)\n",
        "])"
      ],
      "execution_count": 31,
      "outputs": []
    },
    {
      "cell_type": "markdown",
      "metadata": {
        "id": "kODyKQyFTcnG"
      },
      "source": [
        "## Using The Model \n",
        "Let's have a quick look at what this model does to a batch of features"
      ]
    },
    {
      "cell_type": "code",
      "metadata": {
        "colab": {
          "base_uri": "https://localhost:8080/"
        },
        "id": "Y2jftxakTJGN",
        "outputId": "647d3c87-c470-49c7-b334-119988fa02e1"
      },
      "source": [
        "predictions = model(features)\n",
        "predictions[:5]"
      ],
      "execution_count": 32,
      "outputs": [
        {
          "output_type": "execute_result",
          "data": {
            "text/plain": [
              "<tf.Tensor: shape=(5, 3), dtype=float32, numpy=\n",
              "array([[ 3.9888747 , -0.84337914, -1.7024343 ],\n",
              "       [ 4.8882914 , -0.7162458 , -2.005097  ],\n",
              "       [ 2.33281   , -0.15759087, -0.6491324 ],\n",
              "       [ 3.3083649 , -0.47056615, -1.2502589 ],\n",
              "       [ 3.2212515 , -0.40995163, -1.3350954 ]], dtype=float32)>"
            ]
          },
          "metadata": {
            "tags": []
          },
          "execution_count": 32
        }
      ]
    },
    {
      "cell_type": "markdown",
      "metadata": {
        "id": "xCwJB5sATyJl"
      },
      "source": [
        "Here, each example returns a logit for each class.\n",
        "\n",
        "To convert these logits to a probability for each class, use the softmax function:"
      ]
    },
    {
      "cell_type": "code",
      "metadata": {
        "colab": {
          "base_uri": "https://localhost:8080/"
        },
        "id": "0dS2wUrlTqWa",
        "outputId": "565e4682-b981-417d-e47e-05eed423601f"
      },
      "source": [
        "tf.nn.softmax(predictions[:5])"
      ],
      "execution_count": 33,
      "outputs": [
        {
          "output_type": "execute_result",
          "data": {
            "text/plain": [
              "<tf.Tensor: shape=(5, 3), dtype=float32, numpy=\n",
              "array([[0.98878354, 0.00787916, 0.00333731],\n",
              "       [0.9953263 , 0.00366392, 0.00100973],\n",
              "       [0.882168  , 0.07311121, 0.04472087],\n",
              "       [0.96775115, 0.02211031, 0.01013861],\n",
              "       [0.9643345 , 0.02553972, 0.01012585]], dtype=float32)>"
            ]
          },
          "metadata": {
            "tags": []
          },
          "execution_count": 33
        }
      ]
    },
    {
      "cell_type": "markdown",
      "metadata": {
        "id": "lcFURjsiUAO9"
      },
      "source": [
        "Taking the tf.argmax across classes gives us the predicted class index. But, the model hasn't been trained yet, so these aren't good predictions:"
      ]
    },
    {
      "cell_type": "code",
      "metadata": {
        "colab": {
          "base_uri": "https://localhost:8080/"
        },
        "id": "1b5mksJMT3Ui",
        "outputId": "0a558c43-d32e-4977-bd2a-5ff40fb85d30"
      },
      "source": [
        "print(\"Prediction : {}\".format(tf.argmax(predictions, axis =1)))\n",
        "print(\"Labels : {}\".format(labels))"
      ],
      "execution_count": 34,
      "outputs": [
        {
          "output_type": "stream",
          "text": [
            "Prediction : [0 0 0 0 0 0 0 0 0 0 0 0 0 0 0 0 0 0 0 0 0 0 0 0 0 0 0 0 0 0 0 0]\n",
            "Labels : [2 2 0 1 1 2 1 2 0 2 0 1 1 2 1 1 1 0 2 0 2 0 2 2 2 2 1 2 0 1 2 1]\n"
          ],
          "name": "stdout"
        }
      ]
    },
    {
      "cell_type": "markdown",
      "metadata": {
        "id": "4X8Wxd8ZUYju"
      },
      "source": [
        "## Train the model \n",
        "\n",
        "Both training and evaluation stages need to calculate the model's loss. This measures how off a model's predictions are from the desired label, in other words, how bad the model is performing. We want to minimize, or optimize, this value.\n",
        "\n",
        "Our model will calculate its loss using the tf.keras.losses.SparseCategoricalCrossentropy function which takes the model's class probability predictions and the desired label, and returns the average loss across the examples.\n"
      ]
    },
    {
      "cell_type": "code",
      "metadata": {
        "id": "y9aArh3_UR4V"
      },
      "source": [
        "loss_object = tf.keras.losses.SparseCategoricalCrossentropy(from_logits= True)\n"
      ],
      "execution_count": 35,
      "outputs": []
    },
    {
      "cell_type": "code",
      "metadata": {
        "colab": {
          "base_uri": "https://localhost:8080/"
        },
        "id": "zGXXPD4IVMpD",
        "outputId": "3f9640bb-1d91-4633-8f18-be4c3428291c"
      },
      "source": [
        "def loss(model, x, y, training):\n",
        "\n",
        "  y_ = model(x, training = training)\n",
        "  return loss_object(y_true = y, y_pred = y_)\n",
        "\n",
        "l = loss(model, features, labels, training = False)\n",
        "print(\"Loss test: {}\".format(l))"
      ],
      "execution_count": 36,
      "outputs": [
        {
          "output_type": "stream",
          "text": [
            "Loss test: 3.9712071418762207\n"
          ],
          "name": "stdout"
        }
      ]
    },
    {
      "cell_type": "markdown",
      "metadata": {
        "id": "j1aA-tcvV_zW"
      },
      "source": [
        "Use the tf.GradientTape context to calculate the gradients used to optimize your model:"
      ]
    },
    {
      "cell_type": "code",
      "metadata": {
        "id": "13AqKRJaV1uY"
      },
      "source": [
        "def grad(model, inputs, targets):\n",
        "  with tf.GradientTape() as tape:\n",
        "    loss_value = loss(model, inputs, targets, training = True)\n",
        "\n",
        "  return loss_value, tape.gradient(loss_value, model.trainable_variables)"
      ],
      "execution_count": 38,
      "outputs": []
    },
    {
      "cell_type": "markdown",
      "metadata": {
        "id": "ae04Wq2Paw12"
      },
      "source": [
        "## Create an optimizer \n",
        "\n",
        "An optimizer applies the computed gradients to the model's variables to minimize the loss function. You can think of the loss function as a curved surface (see Figure 3) and we want to find its lowest point by walking around. The gradients point in the direction of steepest ascent—so we'll travel the opposite way and move down the hill. By iteratively calculating the loss and gradient for each batch, we'll adjust the model during training. Gradually, the model will find the best combination of weights and bias to minimize loss. And the lower the loss, the better the model's predictions.\n",
        "\n",
        "\n",
        "TensorFlow has many optimization algorithms available for training. This model uses the tf.keras.optimizers.SGD that implements the stochastic gradient descent (SGD) algorithm. The learning_rate sets the step size to take for each iteration down the hill. This is a hyperparameter that you'll commonly adjust to achieve better results.\n",
        "\n",
        "Let's setup the optimizer:"
      ]
    },
    {
      "cell_type": "code",
      "metadata": {
        "id": "OruEwRp5a0Xr"
      },
      "source": [
        "optimizer = tf.keras.optimizers.SGD(learning_rate=0.01)"
      ],
      "execution_count": 39,
      "outputs": []
    },
    {
      "cell_type": "code",
      "metadata": {
        "colab": {
          "base_uri": "https://localhost:8080/"
        },
        "id": "7Fp1dtPYcWwF",
        "outputId": "ee332738-e9e2-418c-cdb3-f5f39f618120"
      },
      "source": [
        "# we will use this to calculate a single optimization step \n",
        "\n",
        "loss_value, grads = grad(model, features, labels)\n",
        "\n",
        "print(\"Step: {}, Initial Loss: {}\".format(optimizer.iterations.numpy(),\n",
        "                                          loss_value.numpy()))\n",
        "\n",
        "optimizer.apply_gradients(zip(grads, model.trainable_variables)) # applying optimizer \n",
        "\n",
        "print(\"Step: {},         Loss: {}\".format(optimizer.iterations.numpy(),\n",
        "                                          loss(model, features, labels, training = True)))\n"
      ],
      "execution_count": 40,
      "outputs": [
        {
          "output_type": "stream",
          "text": [
            "Step: 0, Initial Loss: 3.9712071418762207\n",
            "Step: 1,         Loss: 2.4774510860443115\n"
          ],
          "name": "stdout"
        }
      ]
    },
    {
      "cell_type": "markdown",
      "metadata": {
        "id": "LqMurjxGhJe2"
      },
      "source": [
        "## Training Loop \n",
        "\n"
      ]
    },
    {
      "cell_type": "code",
      "metadata": {
        "id": "Yf2pOO1wfOgr"
      },
      "source": [
        ""
      ],
      "execution_count": null,
      "outputs": []
    }
  ]
}