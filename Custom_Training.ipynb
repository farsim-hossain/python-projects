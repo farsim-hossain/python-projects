{
  "nbformat": 4,
  "nbformat_minor": 0,
  "metadata": {
    "colab": {
      "name": "Custom Training.ipynb",
      "provenance": [],
      "authorship_tag": "ABX9TyPbFnU2Brt/DROE4055EFt6"
    },
    "kernelspec": {
      "name": "python3",
      "display_name": "Python 3"
    },
    "language_info": {
      "name": "python"
    }
  },
  "cells": [
    {
      "cell_type": "markdown",
      "metadata": {
        "id": "N458oZQq4zML"
      },
      "source": [
        "# Custom Training \n",
        "\n",
        "We will build a model using keras api and Tensorflows Eager Execution environment. \n",
        "\n",
        "Eager execution evaluates operation immediately. "
      ]
    },
    {
      "cell_type": "code",
      "metadata": {
        "id": "48rtbCOH4qtG"
      },
      "source": [
        "import os \n",
        "import matplotlib.pyplot as plt\n",
        "import tensorflow as tf\n"
      ],
      "execution_count": 3,
      "outputs": []
    },
    {
      "cell_type": "code",
      "metadata": {
        "colab": {
          "base_uri": "https://localhost:8080/"
        },
        "id": "fo6ZOYTX5_qC",
        "outputId": "68840634-0062-414b-c502-b534853a3050"
      },
      "source": [
        "print(\"Tensorflow Version : {}\".format(tf.__version__))\n",
        "print(\"Eager Execution : {}\".format(tf.executing_eagerly()))"
      ],
      "execution_count": 4,
      "outputs": [
        {
          "output_type": "stream",
          "text": [
            "Tensorflow Version : 2.5.0\n",
            "Eager Execution : True\n"
          ],
          "name": "stdout"
        }
      ]
    },
    {
      "cell_type": "markdown",
      "metadata": {
        "id": "qo0puJ9N6jal"
      },
      "source": [
        "## The Iris classification problem \n",
        "\n",
        "We will take Sepal and Petal length to classify Iris flowers. Our program will \n",
        "classify three categories : \n",
        "1. Iris Setosa \n",
        "2. Iris Virginica \n",
        "3. Iris Versicolor\n",
        "\n",
        "\n",
        "## Importing Data "
      ]
    },
    {
      "cell_type": "code",
      "metadata": {
        "colab": {
          "base_uri": "https://localhost:8080/"
        },
        "id": "w3kjR5DU6U-w",
        "outputId": "79458b23-33c6-4094-8dfe-7f370479a2d3"
      },
      "source": [
        "train_dataset_url = \"https://storage.googleapis.com/download.tensorflow.org/data/iris_training.csv\"\n",
        "train_dataset_fp = tf.keras.utils.get_file(fname = os.path.basename(train_dataset_url),\n",
        "                                           origin = train_dataset_url)\n",
        "\n",
        "print(\"Local copy of the dataset file : {}\".format(train_dataset_fp))"
      ],
      "execution_count": 5,
      "outputs": [
        {
          "output_type": "stream",
          "text": [
            "Downloading data from https://storage.googleapis.com/download.tensorflow.org/data/iris_training.csv\n",
            "\r8192/2194 [================================================================================================================] - 0s 0us/step\n",
            "Local copy of the dataset file : /root/.keras/datasets/iris_training.csv\n"
          ],
          "name": "stdout"
        }
      ]
    },
    {
      "cell_type": "markdown",
      "metadata": {
        "id": "Zb0S-Vzm8Nm0"
      },
      "source": [
        "## EDA"
      ]
    },
    {
      "cell_type": "code",
      "metadata": {
        "colab": {
          "base_uri": "https://localhost:8080/"
        },
        "id": "vmHpVUhV8H4I",
        "outputId": "039ca9f9-1474-4406-9a8f-5bfd46a48e79"
      },
      "source": [
        "! head -n5 {train_dataset_fp}"
      ],
      "execution_count": 6,
      "outputs": [
        {
          "output_type": "stream",
          "text": [
            "120,4,setosa,versicolor,virginica\n",
            "6.4,2.8,5.6,2.2,2\n",
            "5.0,2.3,3.3,1.0,1\n",
            "4.9,2.5,4.5,1.7,2\n",
            "4.9,3.1,1.5,0.1,0\n"
          ],
          "name": "stdout"
        }
      ]
    },
    {
      "cell_type": "markdown",
      "metadata": {
        "id": "ALPFLkt982U6"
      },
      "source": [
        "In the dataset , the first row explain some information on the dataset.\n",
        "There are 120 examples in the dataset. Each examples or data points have four features and the final column is the class of the 3 specified Iris class "
      ]
    },
    {
      "cell_type": "code",
      "metadata": {
        "colab": {
          "base_uri": "https://localhost:8080/"
        },
        "id": "urzzi8Lk8SaQ",
        "outputId": "587d20ca-a906-44d0-d9cb-5009b45d3d7b"
      },
      "source": [
        "# Column order in CSV file \n",
        "\n",
        "column_names = ['sepal_length', 'sepal_width', 'petal_length', 'petal_width', 'species']\n",
        "\n",
        "feature_names = column_names[:-1]\n",
        "label_name = column_names[-1]\n",
        "\n",
        "print(\"Features : {}\".format(feature_names))\n",
        "print(\"Label : {}\".format(label_name))"
      ],
      "execution_count": 7,
      "outputs": [
        {
          "output_type": "stream",
          "text": [
            "Features : ['sepal_length', 'sepal_width', 'petal_length', 'petal_width']\n",
            "Label : species\n"
          ],
          "name": "stdout"
        }
      ]
    },
    {
      "cell_type": "code",
      "metadata": {
        "id": "zSyhEvI9-iLR"
      },
      "source": [
        "class_names = ['Iris setosa', 'Iris versicolor', 'Iris virginica']"
      ],
      "execution_count": 8,
      "outputs": []
    },
    {
      "cell_type": "markdown",
      "metadata": {
        "id": "oAJCX4OO_auB"
      },
      "source": [
        "## Create a tf.data.Dataset \n",
        "\n",
        "TensorFlow's Dataset API handles many common cases for loading data into a model. This is a high-level API for reading data and transforming it into a form used for training.\n",
        "\n",
        "Since the dataset is a CSV-formatted text file, use the tf.data.experimental.make_csv_dataset function to parse the data into a suitable format. Since this function generates data for training models, the default behavior is to shuffle the data (shuffle=True, shuffle_buffer_size=10000), and repeat the dataset forever (num_epochs=None). We also set the batch_size parameter:\n"
      ]
    },
    {
      "cell_type": "code",
      "metadata": {
        "id": "EbZtFlP7AZWo"
      },
      "source": [
        "# Make a parsable dataset \n",
        "batch_size = 32\n",
        "\n",
        "train_dataset = tf.data.experimental.make_csv_dataset(\n",
        "    train_dataset_fp,\n",
        "    batch_size,\n",
        "    column_names = column_names,\n",
        "    label_name = label_name,\n",
        "    num_epochs = 1 \n",
        "\n",
        ")"
      ],
      "execution_count": 9,
      "outputs": []
    },
    {
      "cell_type": "markdown",
      "metadata": {
        "id": "RVp_zSFCB9mU"
      },
      "source": [
        "The make_csv_dataset function returns a tf.data.Dataset of (features, label) pairs, where features is a dictionary: {'feature_name': value}\n",
        "\n",
        "These Dataset objects are iterable. Let's look at a batch of features:"
      ]
    },
    {
      "cell_type": "code",
      "metadata": {
        "colab": {
          "base_uri": "https://localhost:8080/"
        },
        "id": "9Wt5TDY3A5Ja",
        "outputId": "883be95a-b54e-482b-9c26-1f398785cac4"
      },
      "source": [
        "features, labels = next(iter(train_dataset))\n",
        "# train_dataset\n",
        "print(features)"
      ],
      "execution_count": 10,
      "outputs": [
        {
          "output_type": "stream",
          "text": [
            "OrderedDict([('sepal_length', <tf.Tensor: shape=(32,), dtype=float32, numpy=\n",
            "array([6.3, 5. , 5.6, 4.7, 6.5, 6.5, 6.4, 5. , 5.1, 6.8, 5.2, 6. , 6.9,\n",
            "       5.7, 7.2, 6.5, 5.5, 7.4, 5.6, 5.8, 4.9, 7.3, 7.7, 5.4, 5. , 5.7,\n",
            "       5.5, 6. , 6.7, 5. , 5. , 6.1], dtype=float32)>), ('sepal_width', <tf.Tensor: shape=(32,), dtype=float32, numpy=\n",
            "array([3.4, 3.4, 2.7, 3.2, 3. , 2.8, 2.8, 3.2, 3.5, 3.2, 2.7, 2.2, 3.2,\n",
            "       3. , 3.6, 3. , 2.4, 2.8, 2.5, 2.6, 2.5, 2.9, 3.8, 3.9, 3.5, 3.8,\n",
            "       2.4, 2.7, 3.1, 3. , 2.3, 2.9], dtype=float32)>), ('petal_length', <tf.Tensor: shape=(32,), dtype=float32, numpy=\n",
            "array([5.6, 1.5, 4.2, 1.3, 5.5, 4.6, 5.6, 1.2, 1.4, 5.9, 3.9, 5. , 5.7,\n",
            "       4.2, 6.1, 5.2, 3.8, 6.1, 3.9, 4. , 4.5, 6.3, 6.7, 1.7, 1.3, 1.7,\n",
            "       3.7, 5.1, 4.4, 1.6, 3.3, 4.7], dtype=float32)>), ('petal_width', <tf.Tensor: shape=(32,), dtype=float32, numpy=\n",
            "array([2.4, 0.2, 1.3, 0.2, 1.8, 1.5, 2.1, 0.2, 0.3, 2.3, 1.4, 1.5, 2.3,\n",
            "       1.2, 2.5, 2. , 1.1, 1.9, 1.1, 1.2, 1.7, 1.8, 2.2, 0.4, 0.3, 0.3,\n",
            "       1. , 1.6, 1.4, 0.2, 1. , 1.4], dtype=float32)>)])\n"
          ],
          "name": "stdout"
        }
      ]
    },
    {
      "cell_type": "markdown",
      "metadata": {
        "id": "3moCKIORGiec"
      },
      "source": [
        "Like features are grouped together or batched. Each example row's fields are \n",
        "appended to the corresponding feature array. We can change the batch size to \n",
        "set the number of examples stored in these feature arrays."
      ]
    },
    {
      "cell_type": "code",
      "metadata": {
        "colab": {
          "base_uri": "https://localhost:8080/",
          "height": 279
        },
        "id": "v3apPeqDCL-B",
        "outputId": "f6410b79-4db1-4a45-8840-c59602ff7486"
      },
      "source": [
        "plt.scatter(features['petal_length'],\n",
        "            features['sepal_length'],\n",
        "            c = labels,\n",
        "            cmap = 'viridis')\n",
        "\n",
        "plt.xlabel(\"Petal Length\")\n",
        "plt.ylabel(\"Sepal Length\")\n",
        "\n",
        "plt.show()"
      ],
      "execution_count": 11,
      "outputs": [
        {
          "output_type": "display_data",
          "data": {
            "image/png": "[encoded data removed]",
            "text/plain": [
              "<Figure size 432x288 with 1 Axes>"
            ]
          },
          "metadata": {
            "tags": [],
            "needs_background": "light"
          }
        }
      ]
    },
    {
      "cell_type": "markdown",
      "metadata": {
        "id": "Fp1-F63GHvHq"
      },
      "source": [
        "To simplify the model building step, create a function to repackage the features dictionary into a single array with shape (bacth size, numer of features) . This might be one of inifinite ways to deal with problem in TF \n",
        "\n",
        "\n",
        "This function uses the tf.stack method which takes values from a list of tensors and creates a combined tensor at the specified dimension."
      ]
    },
    {
      "cell_type": "code",
      "metadata": {
        "id": "xS1Hl8n7HV-g"
      },
      "source": [
        "def pack_features_vector(features, labels):\n",
        "  \"\"\"Pack the features into a single array.\"\"\"\n",
        "  features = tf.stack(list(features.values()), axis=1)\n",
        "  return features, labels"
      ],
      "execution_count": 12,
      "outputs": []
    },
    {
      "cell_type": "markdown",
      "metadata": {
        "id": "N9LiT5uRKXf6"
      },
      "source": [
        "Then use the tf.data.Dataset.map method to pack the features of each (features, label) paril into the training dataset"
      ]
    },
    {
      "cell_type": "code",
      "metadata": {
        "id": "XSFAxG3BKNDc"
      },
      "source": [
        "train_dataset = train_dataset.map(pack_features_vector)"
      ],
      "execution_count": 13,
      "outputs": []
    },
    {
      "cell_type": "markdown",
      "metadata": {
        "id": "_vyjl7MeMOAu"
      },
      "source": [
        "The features element of the Dataset are now arrays with shape (batch_size, num_features). Let's look at the first few examples:"
      ]
    },
    {
      "cell_type": "code",
      "metadata": {
        "colab": {
          "base_uri": "https://localhost:8080/"
        },
        "id": "Wk0EfDG4MOYZ",
        "outputId": "e6b57296-01a3-4c6a-98fd-61194c333ae8"
      },
      "source": [
        "features, labels = next(iter(train_dataset))\n",
        "\n",
        "print(features[:5])"
      ],
      "execution_count": 14,
      "outputs": [
        {
          "output_type": "stream",
          "text": [
            "tf.Tensor(\n",
            "[[7.  3.2 4.7 1.4]\n",
            " [6.4 2.8 5.6 2.2]\n",
            " [6.4 2.8 5.6 2.1]\n",
            " [7.7 3.  6.1 2.3]\n",
            " [6.6 3.  4.4 1.4]], shape=(5, 4), dtype=float32)\n"
          ],
          "name": "stdout"
        }
      ]
    },
    {
      "cell_type": "markdown",
      "metadata": {
        "id": "AlU_a7JGRTq2"
      },
      "source": [
        "## Modeling using Keras \n",
        "\n",
        "\n",
        "\n"
      ]
    },
    {
      "cell_type": "code",
      "metadata": {
        "id": "-hN50V-gMpgz"
      },
      "source": [
        "model = tf.keras.Sequential([\n",
        "                             tf.keras.layers.Dense(10, activation = tf.nn.relu, input_shape = (4,)),\n",
        "                             tf.keras.layers.Dense(10, activation= tf.nn.relu),\n",
        "                             tf.keras.layers.Dense(3)\n",
        "])"
      ],
      "execution_count": 15,
      "outputs": []
    },
    {
      "cell_type": "markdown",
      "metadata": {
        "id": "kODyKQyFTcnG"
      },
      "source": [
        "## Using The Model \n",
        "Let's have a quick look at what this model does to a batch of features"
      ]
    },
    {
      "cell_type": "code",
      "metadata": {
        "colab": {
          "base_uri": "https://localhost:8080/"
        },
        "id": "Y2jftxakTJGN",
        "outputId": "c0410440-7aad-4c5f-e219-cf7ad336164c"
      },
      "source": [
        "predictions = model(features)\n",
        "predictions[:5]"
      ],
      "execution_count": 16,
      "outputs": [
        {
          "output_type": "execute_result",
          "data": {
            "text/plain": [
              "<tf.Tensor: shape=(5, 3), dtype=float32, numpy=\n",
              "array([[ 2.1171813, -2.1998143, -3.5961585],\n",
              "       [ 2.1087236, -2.2756371, -3.5315363],\n",
              "       [ 2.0744936, -2.2634358, -3.5134044],\n",
              "       [ 2.4748647, -2.6393952, -4.121186 ],\n",
              "       [ 2.0210392, -2.0833743, -3.4090145]], dtype=float32)>"
            ]
          },
          "metadata": {
            "tags": []
          },
          "execution_count": 16
        }
      ]
    },
    {
      "cell_type": "markdown",
      "metadata": {
        "id": "xCwJB5sATyJl"
      },
      "source": [
        "Here, each example returns a logit for each class.\n",
        "\n",
        "To convert these logits to a probability for each class, use the softmax function:"
      ]
    },
    {
      "cell_type": "code",
      "metadata": {
        "colab": {
          "base_uri": "https://localhost:8080/"
        },
        "id": "0dS2wUrlTqWa",
        "outputId": "c6f27f3c-65f6-478e-e012-28227b066a53"
      },
      "source": [
        "tf.nn.softmax(predictions[:5])"
      ],
      "execution_count": 17,
      "outputs": [
        {
          "output_type": "execute_result",
          "data": {
            "text/plain": [
              "<tf.Tensor: shape=(5, 3), dtype=float32, numpy=\n",
              "array([[0.9836309 , 0.01312154, 0.00324758],\n",
              "       [0.98422986, 0.01227419, 0.00349593],\n",
              "       [0.98347133, 0.01284762, 0.00368102],\n",
              "       [0.9926778 , 0.00596642, 0.00135575],\n",
              "       [0.9795447 , 0.01616219, 0.00429321]], dtype=float32)>"
            ]
          },
          "metadata": {
            "tags": []
          },
          "execution_count": 17
        }
      ]
    },
    {
      "cell_type": "markdown",
      "metadata": {
        "id": "lcFURjsiUAO9"
      },
      "source": [
        "Taking the tf.argmax across classes gives us the predicted class index. But, the model hasn't been trained yet, so these aren't good predictions:"
      ]
    },
    {
      "cell_type": "code",
      "metadata": {
        "colab": {
          "base_uri": "https://localhost:8080/"
        },
        "id": "1b5mksJMT3Ui",
        "outputId": "b0eed54d-d8ad-4d3b-8c8d-28f73bf65da9"
      },
      "source": [
        "print(\"Prediction : {}\".format(tf.argmax(predictions, axis =1)))\n",
        "print(\"Labels : {}\".format(labels))"
      ],
      "execution_count": 18,
      "outputs": [
        {
          "output_type": "stream",
          "text": [
            "Prediction : [0 0 0 0 0 0 0 0 0 0 0 0 0 0 0 0 0 0 0 0 0 0 0 0 0 0 0 0 0 0 0 0]\n",
            "Labels : [1 2 2 2 1 2 2 1 2 1 0 0 2 0 2 1 0 0 1 0 1 1 1 0 2 0 1 1 0 2 0 0]\n"
          ],
          "name": "stdout"
        }
      ]
    },
    {
      "cell_type": "markdown",
      "metadata": {
        "id": "4X8Wxd8ZUYju"
      },
      "source": [
        "## Train the model \n",
        "\n",
        "Both training and evaluation stages need to calculate the model's loss. This measures how off a model's predictions are from the desired label, in other words, how bad the model is performing. We want to minimize, or optimize, this value.\n",
        "\n",
        "Our model will calculate its loss using the tf.keras.losses.SparseCategoricalCrossentropy function which takes the model's class probability predictions and the desired label, and returns the average loss across the examples.\n"
      ]
    },
    {
      "cell_type": "code",
      "metadata": {
        "id": "y9aArh3_UR4V"
      },
      "source": [
        "loss_object = tf.keras.losses.SparseCategoricalCrossentropy(from_logits= True)\n"
      ],
      "execution_count": 19,
      "outputs": []
    },
    {
      "cell_type": "code",
      "metadata": {
        "colab": {
          "base_uri": "https://localhost:8080/"
        },
        "id": "zGXXPD4IVMpD",
        "outputId": "9a466a6c-c2d3-4533-e9e8-fa2f99ce96cf"
      },
      "source": [
        "def loss(model, x, y, training):\n",
        "\n",
        "  y_ = model(x, training = training)\n",
        "  return loss_object(y_true = y, y_pred = y_)\n",
        "\n",
        "l = loss(model, features, labels, training = False)\n",
        "print(\"Loss test: {}\".format(l))"
      ],
      "execution_count": 20,
      "outputs": [
        {
          "output_type": "stream",
          "text": [
            "Loss test: 3.1046688556671143\n"
          ],
          "name": "stdout"
        }
      ]
    },
    {
      "cell_type": "markdown",
      "metadata": {
        "id": "j1aA-tcvV_zW"
      },
      "source": [
        "Use the tf.GradientTape context to calculate the gradients used to optimize your model:"
      ]
    },
    {
      "cell_type": "code",
      "metadata": {
        "id": "13AqKRJaV1uY"
      },
      "source": [
        "def grad(model, inputs, targets):\n",
        "  with tf.GradientTape() as tape:\n",
        "    loss_value = loss(model, inputs, targets, training = True)\n",
        "\n",
        "  return loss_value, tape.gradient(loss_value, model.trainable_variables)"
      ],
      "execution_count": 21,
      "outputs": []
    },
    {
      "cell_type": "markdown",
      "metadata": {
        "id": "ae04Wq2Paw12"
      },
      "source": [
        "## Create an optimizer \n",
        "\n",
        "An optimizer applies the computed gradients to the model's variables to minimize the loss function. You can think of the loss function as a curved surface (see Figure 3) and we want to find its lowest point by walking around. The gradients point in the direction of steepest ascent—so we'll travel the opposite way and move down the hill. By iteratively calculating the loss and gradient for each batch, we'll adjust the model during training. Gradually, the model will find the best combination of weights and bias to minimize loss. And the lower the loss, the better the model's predictions.\n",
        "\n",
        "\n",
        "TensorFlow has many optimization algorithms available for training. This model uses the tf.keras.optimizers.SGD that implements the stochastic gradient descent (SGD) algorithm. The learning_rate sets the step size to take for each iteration down the hill. This is a hyperparameter that you'll commonly adjust to achieve better results.\n",
        "\n",
        "Let's setup the optimizer:"
      ]
    },
    {
      "cell_type": "code",
      "metadata": {
        "id": "OruEwRp5a0Xr"
      },
      "source": [
        "optimizer = tf.keras.optimizers.SGD(learning_rate=0.01)"
      ],
      "execution_count": 22,
      "outputs": []
    },
    {
      "cell_type": "code",
      "metadata": {
        "colab": {
          "base_uri": "https://localhost:8080/"
        },
        "id": "7Fp1dtPYcWwF",
        "outputId": "75dd9175-db5d-48f7-f602-bac63df4a38c"
      },
      "source": [
        "# we will use this to calculate a single optimization step \n",
        "\n",
        "loss_value, grads = grad(model, features, labels)\n",
        "\n",
        "print(\"Step: {}, Initial Loss: {}\".format(optimizer.iterations.numpy(),\n",
        "                                          loss_value.numpy()))\n",
        "\n",
        "optimizer.apply_gradients(zip(grads, model.trainable_variables)) # applying optimizer \n",
        "\n",
        "print(\"Step: {},         Loss: {}\".format(optimizer.iterations.numpy(),\n",
        "                                          loss(model, features, labels, training = True)))\n"
      ],
      "execution_count": 23,
      "outputs": [
        {
          "output_type": "stream",
          "text": [
            "Step: 0, Initial Loss: 3.1046688556671143\n",
            "Step: 1,         Loss: 2.5537376403808594\n"
          ],
          "name": "stdout"
        }
      ]
    },
    {
      "cell_type": "markdown",
      "metadata": {
        "id": "LqMurjxGhJe2"
      },
      "source": [
        "## Training Loop \n",
        "\n"
      ]
    },
    {
      "cell_type": "code",
      "metadata": {
        "id": "Yf2pOO1wfOgr",
        "colab": {
          "base_uri": "https://localhost:8080/"
        },
        "outputId": "b3fe33ad-23c9-4f74-9262-9d4f1ba81cbc"
      },
      "source": [
        "## Note: Rerunning this cell uses the same model variables\n",
        "\n",
        "# Keep results for plotting\n",
        "train_loss_results = []\n",
        "train_accuracy_results = []\n",
        "\n",
        "num_epochs = 201\n",
        "\n",
        "for epoch in range(num_epochs):\n",
        "  epoch_loss_avg = tf.keras.metrics.Mean()\n",
        "  epoch_accuracy = tf.keras.metrics.SparseCategoricalAccuracy()\n",
        "\n",
        "  # Training loop - using batches of 32\n",
        "  for x, y in train_dataset:\n",
        "    # Optimize the model\n",
        "    loss_value, grads = grad(model, x, y)\n",
        "    optimizer.apply_gradients(zip(grads, model.trainable_variables))\n",
        "\n",
        "    # Track progress\n",
        "    epoch_loss_avg.update_state(loss_value)  # Add current batch loss\n",
        "    # Compare predicted label to actual label\n",
        "    # training=True is needed only if there are layers with different\n",
        "    # behavior during training versus inference (e.g. Dropout).\n",
        "    epoch_accuracy.update_state(y, model(x, training=True))\n",
        "\n",
        "  # End epoch\n",
        "  train_loss_results.append(epoch_loss_avg.result())\n",
        "  train_accuracy_results.append(epoch_accuracy.result())\n",
        "\n",
        "  if epoch % 50 == 0:\n",
        "    print(\"Epoch {:03d}: Loss: {:.3f}, Accuracy: {:.3%}\".format(epoch,\n",
        "                                                                epoch_loss_avg.result(),\n",
        "                                                                epoch_accuracy.result()))"
      ],
      "execution_count": 25,
      "outputs": [
        {
          "output_type": "stream",
          "text": [
            "Epoch 000: Loss: 2.109, Accuracy: 35.000%\n",
            "Epoch 050: Loss: 0.571, Accuracy: 71.667%\n",
            "Epoch 100: Loss: 0.275, Accuracy: 96.667%\n",
            "Epoch 150: Loss: 0.187, Accuracy: 98.333%\n",
            "Epoch 200: Loss: 0.132, Accuracy: 98.333%\n"
          ],
          "name": "stdout"
        }
      ]
    },
    {
      "cell_type": "markdown",
      "metadata": {
        "id": "ma5Yxbf4V-Uq"
      },
      "source": [
        "## Visualizing the training "
      ]
    },
    {
      "cell_type": "code",
      "metadata": {
        "colab": {
          "base_uri": "https://localhost:8080/",
          "height": 482
        },
        "id": "i_d_EreJVcc1",
        "outputId": "7d8b1ca7-6fd0-4e5c-9a47-e97e85a94048"
      },
      "source": [
        "fig, axes = plt.subplots(2, sharex=True, figsize=(12, 8))\n",
        "fig.suptitle('Training Metrics')\n",
        "\n",
        "axes[0].set_ylabel(\"Loss\", fontsize=14)\n",
        "axes[0].plot(train_loss_results)\n",
        "\n",
        "axes[1].set_ylabel(\"Accuracy\", fontsize=14)\n",
        "axes[1].set_xlabel(\"Epoch\", fontsize=14)\n",
        "axes[1].plot(train_accuracy_results)\n",
        "plt.show()"
      ],
      "execution_count": 31,
      "outputs": [
        {
          "output_type": "display_data",
          "data": {
            "image/png": "[encoded data removed]",
            "text/plain": [
              "<Figure size 864x576 with 2 Axes>"
            ]
          },
          "metadata": {
            "tags": [],
            "needs_background": "light"
          }
        }
      ]
    },
    {
      "cell_type": "markdown",
      "metadata": {
        "id": "kpOI4KvIXkOE"
      },
      "source": [
        "## Evaluate model's effectiveness "
      ]
    },
    {
      "cell_type": "code",
      "metadata": {
        "colab": {
          "base_uri": "https://localhost:8080/"
        },
        "id": "JLQ-1OyTWzga",
        "outputId": "961b1fac-4888-400b-b2fe-80e3ff883dc2"
      },
      "source": [
        "test_url = \"https://storage.googleapis.com/download.tensorflow.org/data/iris_test.csv\"\n",
        "test_fp = tf.keras.utils.get_file(fname = os.path.basename(test_url),\n",
        "                                  origin = test_url)"
      ],
      "execution_count": 32,
      "outputs": [
        {
          "output_type": "stream",
          "text": [
            "Downloading data from https://storage.googleapis.com/download.tensorflow.org/data/iris_test.csv\n",
            "\r8192/573 [============================================================================================================================================================================================================================================================================================================================================================================================================================================] - 0s 0us/step\n"
          ],
          "name": "stdout"
        }
      ]
    },
    {
      "cell_type": "code",
      "metadata": {
        "id": "jepzEhk7Ywfq"
      },
      "source": [
        "test_dataset = tf.data.experimental.make_csv_dataset(\n",
        "    test_fp,\n",
        "    batch_size,\n",
        "    column_names = column_names,\n",
        "    label_name = 'species',\n",
        "    num_epochs = 1,\n",
        "    shuffle = False\n",
        ")\n",
        "\n",
        "test_dataset = test_dataset.map(pack_features_vector)"
      ],
      "execution_count": 33,
      "outputs": []
    },
    {
      "cell_type": "markdown",
      "metadata": {
        "id": "B0O58OW2ZzQG"
      },
      "source": [
        "## Evaluate the model on the test data \n",
        "\n",
        "Unlike the training stage, the model only evaluates a single epoch of the test data. In the following code cell, we iterate over each example in the test set and compare the model's prediction against the actual label. This is used to measure the model's accuracy across the entire test set:"
      ]
    },
    {
      "cell_type": "code",
      "metadata": {
        "colab": {
          "base_uri": "https://localhost:8080/"
        },
        "id": "jBIkZ9-GZ2Yw",
        "outputId": "692e51df-8d4f-4b9c-8485-907a10ef04fe"
      },
      "source": [
        "test_accuracy = tf.keras.metrics.Accuracy()\n",
        "\n",
        "for (x,y) in test_dataset : \n",
        "  logits = model(x, training = False)\n",
        "  prediction = tf.argmax(logits, axis =1, output_type= tf.int32)\n",
        "  test_accuracy(prediction, y)\n",
        "\n",
        "print(\"Test set accuracy : {:.3f}\".format(test_accuracy.result()))"
      ],
      "execution_count": 34,
      "outputs": [
        {
          "output_type": "stream",
          "text": [
            "Test set accuracy : 0.967\n"
          ],
          "name": "stdout"
        }
      ]
    },
    {
      "cell_type": "markdown",
      "metadata": {
        "id": "dDHsl8GKbE0m"
      },
      "source": [
        "We can see the last batch to check how the model performed"
      ]
    },
    {
      "cell_type": "code",
      "metadata": {
        "colab": {
          "base_uri": "https://localhost:8080/"
        },
        "id": "1UQNBIxja6Zj",
        "outputId": "8536ab8a-f7e3-4196-e509-8b20e12dfb05"
      },
      "source": [
        "tf.stack([y, prediction], axis = 1)"
      ],
      "execution_count": 35,
      "outputs": [
        {
          "output_type": "execute_result",
          "data": {
            "text/plain": [
              "<tf.Tensor: shape=(30, 2), dtype=int32, numpy=\n",
              "array([[1, 1],\n",
              "       [2, 2],\n",
              "       [0, 0],\n",
              "       [1, 1],\n",
              "       [1, 1],\n",
              "       [1, 1],\n",
              "       [0, 0],\n",
              "       [2, 2],\n",
              "       [1, 1],\n",
              "       [2, 2],\n",
              "       [2, 2],\n",
              "       [0, 0],\n",
              "       [2, 2],\n",
              "       [1, 1],\n",
              "       [1, 1],\n",
              "       [0, 0],\n",
              "       [1, 1],\n",
              "       [0, 0],\n",
              "       [0, 0],\n",
              "       [2, 2],\n",
              "       [0, 0],\n",
              "       [1, 1],\n",
              "       [2, 2],\n",
              "       [1, 2],\n",
              "       [1, 1],\n",
              "       [1, 1],\n",
              "       [0, 0],\n",
              "       [1, 1],\n",
              "       [2, 2],\n",
              "       [1, 1]], dtype=int32)>"
            ]
          },
          "metadata": {
            "tags": []
          },
          "execution_count": 35
        }
      ]
    },
    {
      "cell_type": "markdown",
      "metadata": {
        "id": "OQS8hEspbsKP"
      },
      "source": [
        "We will check the model again on \"Unlabeled\" examples."
      ]
    },
    {
      "cell_type": "code",
      "metadata": {
        "colab": {
          "base_uri": "https://localhost:8080/"
        },
        "id": "cDYPVrunbTEI",
        "outputId": "8df6d799-bdb1-4030-d024-e1623594012e"
      },
      "source": [
        "predict_dataset = tf.convert_to_tensor([\n",
        "                                        [5.1, 3.3, 1.6, 0.6,],\n",
        "                                        [5.9, 3.0, 4.2, 1.5,],\n",
        "                                        [6.9, 3.1, 5.4, 2.1]\n",
        "])\n",
        "\n",
        "predictions = model(predict_dataset, training = False)\n",
        "\n",
        "for i, logits in enumerate(predictions):\n",
        "  class_idx = tf.argmax(logits).numpy()\n",
        "  p = tf.nn.softmax(logits)[class_idx]\n",
        "  name = class_names[class_idx]\n",
        "  print(\"Example {} prediction : {} ({:4.1f}%)\".format(i ,name, 100*p))"
      ],
      "execution_count": 42,
      "outputs": [
        {
          "output_type": "stream",
          "text": [
            "Example 0 prediction : Iris setosa (96.5%)\n",
            "Example 1 prediction : Iris versicolor (86.1%)\n",
            "Example 2 prediction : Iris virginica (85.7%)\n"
          ],
          "name": "stdout"
        }
      ]
    },
    {
      "cell_type": "markdown",
      "metadata": {
        "id": "FcxaXAfchHLx"
      },
      "source": [
        "Thats it. We realize that the inner functionalities and structures are complex than other models. There are lot more to explore, lot more to invent, lot more to trash."
      ]
    }
  ]
}